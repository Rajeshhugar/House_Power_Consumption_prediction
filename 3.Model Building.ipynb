{
 "cells": [
  {
   "cell_type": "code",
   "execution_count": 1,
   "id": "ee11ebe9",
   "metadata": {},
   "outputs": [],
   "source": [
    "import numpy as np \n",
    "from sklearn.pipeline import make_pipeline\n",
    "from sklearn.preprocessing import StandardScaler,MinMaxScaler\n",
    "from sklearn.model_selection import train_test_split,GridSearchCV,RandomizedSearchCV\n",
    "from sklearn.linear_model import LinearRegression,Ridge,Lasso\n",
    "from sklearn.svm import SVC\n",
    "from imblearn.over_sampling import SMOTE,ADASYN,SMOTENC\n",
    "import joblib"
   ]
  },
  {
   "cell_type": "code",
   "execution_count": 2,
   "id": "1e777973",
   "metadata": {},
   "outputs": [],
   "source": [
    "import pandas as pd\n",
    "df=pd.read_csv(\"Data\\Processed_data.csv\",parse_dates=['Date_time'])\n",
    "df_sample=df.sample(n=105000,random_state=202)"
   ]
  },
  {
   "cell_type": "code",
   "execution_count": 3,
   "id": "f416fcea",
   "metadata": {},
   "outputs": [],
   "source": [
    "df_sample.reset_index(inplace=True,drop=True)"
   ]
  },
  {
   "cell_type": "code",
   "execution_count": 4,
   "id": "04ecd8fe",
   "metadata": {},
   "outputs": [
    {
     "data": {
      "text/html": [
       "<div>\n",
       "<style scoped>\n",
       "    .dataframe tbody tr th:only-of-type {\n",
       "        vertical-align: middle;\n",
       "    }\n",
       "\n",
       "    .dataframe tbody tr th {\n",
       "        vertical-align: top;\n",
       "    }\n",
       "\n",
       "    .dataframe thead th {\n",
       "        text-align: right;\n",
       "    }\n",
       "</style>\n",
       "<table border=\"1\" class=\"dataframe\">\n",
       "  <thead>\n",
       "    <tr style=\"text-align: right;\">\n",
       "      <th></th>\n",
       "      <th>Global_reactive_power</th>\n",
       "      <th>Voltage</th>\n",
       "      <th>Global_intensity</th>\n",
       "      <th>Date_converted</th>\n",
       "      <th>Date_time</th>\n",
       "      <th>Total_meter_reading</th>\n",
       "    </tr>\n",
       "  </thead>\n",
       "  <tbody>\n",
       "    <tr>\n",
       "      <th>0</th>\n",
       "      <td>0.000</td>\n",
       "      <td>239.35</td>\n",
       "      <td>6.0</td>\n",
       "      <td>2009-06-23</td>\n",
       "      <td>2009-06-23 20:03:00</td>\n",
       "      <td>18.0</td>\n",
       "    </tr>\n",
       "    <tr>\n",
       "      <th>1</th>\n",
       "      <td>0.190</td>\n",
       "      <td>237.03</td>\n",
       "      <td>6.4</td>\n",
       "      <td>2007-01-19</td>\n",
       "      <td>2007-01-19 20:56:00</td>\n",
       "      <td>0.0</td>\n",
       "    </tr>\n",
       "    <tr>\n",
       "      <th>2</th>\n",
       "      <td>0.000</td>\n",
       "      <td>243.77</td>\n",
       "      <td>5.6</td>\n",
       "      <td>2008-12-31</td>\n",
       "      <td>2008-12-31 04:40:00</td>\n",
       "      <td>18.0</td>\n",
       "    </tr>\n",
       "    <tr>\n",
       "      <th>3</th>\n",
       "      <td>0.052</td>\n",
       "      <td>243.43</td>\n",
       "      <td>0.8</td>\n",
       "      <td>2008-10-28</td>\n",
       "      <td>2008-10-28 06:07:00</td>\n",
       "      <td>0.0</td>\n",
       "    </tr>\n",
       "    <tr>\n",
       "      <th>4</th>\n",
       "      <td>0.094</td>\n",
       "      <td>240.62</td>\n",
       "      <td>1.2</td>\n",
       "      <td>2009-05-14</td>\n",
       "      <td>2009-05-14 14:26:00</td>\n",
       "      <td>2.0</td>\n",
       "    </tr>\n",
       "    <tr>\n",
       "      <th>...</th>\n",
       "      <td>...</td>\n",
       "      <td>...</td>\n",
       "      <td>...</td>\n",
       "      <td>...</td>\n",
       "      <td>...</td>\n",
       "      <td>...</td>\n",
       "    </tr>\n",
       "    <tr>\n",
       "      <th>104995</th>\n",
       "      <td>0.000</td>\n",
       "      <td>248.68</td>\n",
       "      <td>1.0</td>\n",
       "      <td>2009-12-14</td>\n",
       "      <td>2009-12-14 02:12:00</td>\n",
       "      <td>1.0</td>\n",
       "    </tr>\n",
       "    <tr>\n",
       "      <th>104996</th>\n",
       "      <td>0.000</td>\n",
       "      <td>239.26</td>\n",
       "      <td>0.8</td>\n",
       "      <td>2007-10-29</td>\n",
       "      <td>2007-10-29 18:59:00</td>\n",
       "      <td>0.0</td>\n",
       "    </tr>\n",
       "    <tr>\n",
       "      <th>104997</th>\n",
       "      <td>0.146</td>\n",
       "      <td>240.11</td>\n",
       "      <td>6.4</td>\n",
       "      <td>2010-04-30</td>\n",
       "      <td>2010-04-30 12:39:00</td>\n",
       "      <td>20.0</td>\n",
       "    </tr>\n",
       "    <tr>\n",
       "      <th>104998</th>\n",
       "      <td>0.000</td>\n",
       "      <td>242.44</td>\n",
       "      <td>0.8</td>\n",
       "      <td>2008-09-14</td>\n",
       "      <td>2008-09-14 06:11:00</td>\n",
       "      <td>0.0</td>\n",
       "    </tr>\n",
       "    <tr>\n",
       "      <th>104999</th>\n",
       "      <td>0.000</td>\n",
       "      <td>242.61</td>\n",
       "      <td>1.0</td>\n",
       "      <td>2010-10-06</td>\n",
       "      <td>2010-10-06 13:49:00</td>\n",
       "      <td>0.0</td>\n",
       "    </tr>\n",
       "  </tbody>\n",
       "</table>\n",
       "<p>105000 rows × 6 columns</p>\n",
       "</div>"
      ],
      "text/plain": [
       "        Global_reactive_power  Voltage  Global_intensity Date_converted  \\\n",
       "0                       0.000   239.35               6.0     2009-06-23   \n",
       "1                       0.190   237.03               6.4     2007-01-19   \n",
       "2                       0.000   243.77               5.6     2008-12-31   \n",
       "3                       0.052   243.43               0.8     2008-10-28   \n",
       "4                       0.094   240.62               1.2     2009-05-14   \n",
       "...                       ...      ...               ...            ...   \n",
       "104995                  0.000   248.68               1.0     2009-12-14   \n",
       "104996                  0.000   239.26               0.8     2007-10-29   \n",
       "104997                  0.146   240.11               6.4     2010-04-30   \n",
       "104998                  0.000   242.44               0.8     2008-09-14   \n",
       "104999                  0.000   242.61               1.0     2010-10-06   \n",
       "\n",
       "                 Date_time  Total_meter_reading  \n",
       "0      2009-06-23 20:03:00                 18.0  \n",
       "1      2007-01-19 20:56:00                  0.0  \n",
       "2      2008-12-31 04:40:00                 18.0  \n",
       "3      2008-10-28 06:07:00                  0.0  \n",
       "4      2009-05-14 14:26:00                  2.0  \n",
       "...                    ...                  ...  \n",
       "104995 2009-12-14 02:12:00                  1.0  \n",
       "104996 2007-10-29 18:59:00                  0.0  \n",
       "104997 2010-04-30 12:39:00                 20.0  \n",
       "104998 2008-09-14 06:11:00                  0.0  \n",
       "104999 2010-10-06 13:49:00                  0.0  \n",
       "\n",
       "[105000 rows x 6 columns]"
      ]
     },
     "execution_count": 4,
     "metadata": {},
     "output_type": "execute_result"
    }
   ],
   "source": [
    "df_sample"
   ]
  },
  {
   "cell_type": "code",
   "execution_count": 5,
   "id": "0d34f51d",
   "metadata": {},
   "outputs": [],
   "source": [
    "X=df.drop(['Date_converted','Date_time','Total_meter_reading'],axis=1)\n",
    "y=df['Total_meter_reading']"
   ]
  },
  {
   "cell_type": "code",
   "execution_count": 6,
   "id": "33cddf2f",
   "metadata": {},
   "outputs": [],
   "source": [
    "X_train,X_test,y_train,y_test=train_test_split(X,y,random_state=2022)"
   ]
  },
  {
   "cell_type": "code",
   "execution_count": 7,
   "id": "dc2793ce",
   "metadata": {},
   "outputs": [
    {
     "data": {
      "text/html": [
       "<style>#sk-container-id-1 {color: black;background-color: white;}#sk-container-id-1 pre{padding: 0;}#sk-container-id-1 div.sk-toggleable {background-color: white;}#sk-container-id-1 label.sk-toggleable__label {cursor: pointer;display: block;width: 100%;margin-bottom: 0;padding: 0.3em;box-sizing: border-box;text-align: center;}#sk-container-id-1 label.sk-toggleable__label-arrow:before {content: \"▸\";float: left;margin-right: 0.25em;color: #696969;}#sk-container-id-1 label.sk-toggleable__label-arrow:hover:before {color: black;}#sk-container-id-1 div.sk-estimator:hover label.sk-toggleable__label-arrow:before {color: black;}#sk-container-id-1 div.sk-toggleable__content {max-height: 0;max-width: 0;overflow: hidden;text-align: left;background-color: #f0f8ff;}#sk-container-id-1 div.sk-toggleable__content pre {margin: 0.2em;color: black;border-radius: 0.25em;background-color: #f0f8ff;}#sk-container-id-1 input.sk-toggleable__control:checked~div.sk-toggleable__content {max-height: 200px;max-width: 100%;overflow: auto;}#sk-container-id-1 input.sk-toggleable__control:checked~label.sk-toggleable__label-arrow:before {content: \"▾\";}#sk-container-id-1 div.sk-estimator input.sk-toggleable__control:checked~label.sk-toggleable__label {background-color: #d4ebff;}#sk-container-id-1 div.sk-label input.sk-toggleable__control:checked~label.sk-toggleable__label {background-color: #d4ebff;}#sk-container-id-1 input.sk-hidden--visually {border: 0;clip: rect(1px 1px 1px 1px);clip: rect(1px, 1px, 1px, 1px);height: 1px;margin: -1px;overflow: hidden;padding: 0;position: absolute;width: 1px;}#sk-container-id-1 div.sk-estimator {font-family: monospace;background-color: #f0f8ff;border: 1px dotted black;border-radius: 0.25em;box-sizing: border-box;margin-bottom: 0.5em;}#sk-container-id-1 div.sk-estimator:hover {background-color: #d4ebff;}#sk-container-id-1 div.sk-parallel-item::after {content: \"\";width: 100%;border-bottom: 1px solid gray;flex-grow: 1;}#sk-container-id-1 div.sk-label:hover label.sk-toggleable__label {background-color: #d4ebff;}#sk-container-id-1 div.sk-serial::before {content: \"\";position: absolute;border-left: 1px solid gray;box-sizing: border-box;top: 0;bottom: 0;left: 50%;z-index: 0;}#sk-container-id-1 div.sk-serial {display: flex;flex-direction: column;align-items: center;background-color: white;padding-right: 0.2em;padding-left: 0.2em;position: relative;}#sk-container-id-1 div.sk-item {position: relative;z-index: 1;}#sk-container-id-1 div.sk-parallel {display: flex;align-items: stretch;justify-content: center;background-color: white;position: relative;}#sk-container-id-1 div.sk-item::before, #sk-container-id-1 div.sk-parallel-item::before {content: \"\";position: absolute;border-left: 1px solid gray;box-sizing: border-box;top: 0;bottom: 0;left: 50%;z-index: -1;}#sk-container-id-1 div.sk-parallel-item {display: flex;flex-direction: column;z-index: 1;position: relative;background-color: white;}#sk-container-id-1 div.sk-parallel-item:first-child::after {align-self: flex-end;width: 50%;}#sk-container-id-1 div.sk-parallel-item:last-child::after {align-self: flex-start;width: 50%;}#sk-container-id-1 div.sk-parallel-item:only-child::after {width: 0;}#sk-container-id-1 div.sk-dashed-wrapped {border: 1px dashed gray;margin: 0 0.4em 0.5em 0.4em;box-sizing: border-box;padding-bottom: 0.4em;background-color: white;}#sk-container-id-1 div.sk-label label {font-family: monospace;font-weight: bold;display: inline-block;line-height: 1.2em;}#sk-container-id-1 div.sk-label-container {text-align: center;}#sk-container-id-1 div.sk-container {/* jupyter's `normalize.less` sets `[hidden] { display: none; }` but bootstrap.min.css set `[hidden] { display: none !important; }` so we also need the `!important` here to be able to override the default hidden behavior on the sphinx rendered scikit-learn.org. See: https://github.com/scikit-learn/scikit-learn/issues/21755 */display: inline-block !important;position: relative;}#sk-container-id-1 div.sk-text-repr-fallback {display: none;}</style><div id=\"sk-container-id-1\" class=\"sk-top-container\"><div class=\"sk-text-repr-fallback\"><pre>StandardScaler()</pre><b>In a Jupyter environment, please rerun this cell to show the HTML representation or trust the notebook. <br />On GitHub, the HTML representation is unable to render, please try loading this page with nbviewer.org.</b></div><div class=\"sk-container\" hidden><div class=\"sk-item\"><div class=\"sk-estimator sk-toggleable\"><input class=\"sk-toggleable__control sk-hidden--visually\" id=\"sk-estimator-id-1\" type=\"checkbox\" checked><label for=\"sk-estimator-id-1\" class=\"sk-toggleable__label sk-toggleable__label-arrow\">StandardScaler</label><div class=\"sk-toggleable__content\"><pre>StandardScaler()</pre></div></div></div></div></div>"
      ],
      "text/plain": [
       "StandardScaler()"
      ]
     },
     "execution_count": 7,
     "metadata": {},
     "output_type": "execute_result"
    }
   ],
   "source": [
    "std_scaler=StandardScaler()\n",
    "std_scaler.fit(X_train)"
   ]
  },
  {
   "cell_type": "code",
   "execution_count": 8,
   "id": "432abb85",
   "metadata": {},
   "outputs": [],
   "source": [
    "from joblib import dump, load\n",
    "\n",
    "# Name of the file\n",
    "joblib_file = 'Std_scaler.joblib'\n",
    "with open(joblib_file, 'wb') as f:\n",
    "    dump(std_scaler, f)"
   ]
  },
  {
   "cell_type": "code",
   "execution_count": 9,
   "id": "5286bd45",
   "metadata": {},
   "outputs": [],
   "source": [
    "\n",
    "with open('Std_scaler.joblib', 'rb') as f:\n",
    "    Std_scaler=joblib.load(f)"
   ]
  },
  {
   "cell_type": "code",
   "execution_count": 10,
   "id": "b68a3dcd",
   "metadata": {},
   "outputs": [],
   "source": [
    "column=list(X.columns)"
   ]
  },
  {
   "cell_type": "code",
   "execution_count": 11,
   "id": "a29bf22c",
   "metadata": {},
   "outputs": [],
   "source": [
    "X_train=pd.DataFrame(Std_scaler.transform(X_train),columns=column)\n",
    "X_test=pd.DataFrame(Std_scaler.transform(X_test),columns=column)"
   ]
  },
  {
   "cell_type": "markdown",
   "id": "b63df352",
   "metadata": {},
   "source": [
    "### Without hyperparameter tuning "
   ]
  },
  {
   "cell_type": "markdown",
   "id": "60b0501c",
   "metadata": {},
   "source": [
    "#### Linear model "
   ]
  },
  {
   "cell_type": "code",
   "execution_count": 12,
   "id": "4a313d7c",
   "metadata": {},
   "outputs": [
    {
     "data": {
      "text/html": [
       "<style>#sk-container-id-2 {color: black;background-color: white;}#sk-container-id-2 pre{padding: 0;}#sk-container-id-2 div.sk-toggleable {background-color: white;}#sk-container-id-2 label.sk-toggleable__label {cursor: pointer;display: block;width: 100%;margin-bottom: 0;padding: 0.3em;box-sizing: border-box;text-align: center;}#sk-container-id-2 label.sk-toggleable__label-arrow:before {content: \"▸\";float: left;margin-right: 0.25em;color: #696969;}#sk-container-id-2 label.sk-toggleable__label-arrow:hover:before {color: black;}#sk-container-id-2 div.sk-estimator:hover label.sk-toggleable__label-arrow:before {color: black;}#sk-container-id-2 div.sk-toggleable__content {max-height: 0;max-width: 0;overflow: hidden;text-align: left;background-color: #f0f8ff;}#sk-container-id-2 div.sk-toggleable__content pre {margin: 0.2em;color: black;border-radius: 0.25em;background-color: #f0f8ff;}#sk-container-id-2 input.sk-toggleable__control:checked~div.sk-toggleable__content {max-height: 200px;max-width: 100%;overflow: auto;}#sk-container-id-2 input.sk-toggleable__control:checked~label.sk-toggleable__label-arrow:before {content: \"▾\";}#sk-container-id-2 div.sk-estimator input.sk-toggleable__control:checked~label.sk-toggleable__label {background-color: #d4ebff;}#sk-container-id-2 div.sk-label input.sk-toggleable__control:checked~label.sk-toggleable__label {background-color: #d4ebff;}#sk-container-id-2 input.sk-hidden--visually {border: 0;clip: rect(1px 1px 1px 1px);clip: rect(1px, 1px, 1px, 1px);height: 1px;margin: -1px;overflow: hidden;padding: 0;position: absolute;width: 1px;}#sk-container-id-2 div.sk-estimator {font-family: monospace;background-color: #f0f8ff;border: 1px dotted black;border-radius: 0.25em;box-sizing: border-box;margin-bottom: 0.5em;}#sk-container-id-2 div.sk-estimator:hover {background-color: #d4ebff;}#sk-container-id-2 div.sk-parallel-item::after {content: \"\";width: 100%;border-bottom: 1px solid gray;flex-grow: 1;}#sk-container-id-2 div.sk-label:hover label.sk-toggleable__label {background-color: #d4ebff;}#sk-container-id-2 div.sk-serial::before {content: \"\";position: absolute;border-left: 1px solid gray;box-sizing: border-box;top: 0;bottom: 0;left: 50%;z-index: 0;}#sk-container-id-2 div.sk-serial {display: flex;flex-direction: column;align-items: center;background-color: white;padding-right: 0.2em;padding-left: 0.2em;position: relative;}#sk-container-id-2 div.sk-item {position: relative;z-index: 1;}#sk-container-id-2 div.sk-parallel {display: flex;align-items: stretch;justify-content: center;background-color: white;position: relative;}#sk-container-id-2 div.sk-item::before, #sk-container-id-2 div.sk-parallel-item::before {content: \"\";position: absolute;border-left: 1px solid gray;box-sizing: border-box;top: 0;bottom: 0;left: 50%;z-index: -1;}#sk-container-id-2 div.sk-parallel-item {display: flex;flex-direction: column;z-index: 1;position: relative;background-color: white;}#sk-container-id-2 div.sk-parallel-item:first-child::after {align-self: flex-end;width: 50%;}#sk-container-id-2 div.sk-parallel-item:last-child::after {align-self: flex-start;width: 50%;}#sk-container-id-2 div.sk-parallel-item:only-child::after {width: 0;}#sk-container-id-2 div.sk-dashed-wrapped {border: 1px dashed gray;margin: 0 0.4em 0.5em 0.4em;box-sizing: border-box;padding-bottom: 0.4em;background-color: white;}#sk-container-id-2 div.sk-label label {font-family: monospace;font-weight: bold;display: inline-block;line-height: 1.2em;}#sk-container-id-2 div.sk-label-container {text-align: center;}#sk-container-id-2 div.sk-container {/* jupyter's `normalize.less` sets `[hidden] { display: none; }` but bootstrap.min.css set `[hidden] { display: none !important; }` so we also need the `!important` here to be able to override the default hidden behavior on the sphinx rendered scikit-learn.org. See: https://github.com/scikit-learn/scikit-learn/issues/21755 */display: inline-block !important;position: relative;}#sk-container-id-2 div.sk-text-repr-fallback {display: none;}</style><div id=\"sk-container-id-2\" class=\"sk-top-container\"><div class=\"sk-text-repr-fallback\"><pre>LinearRegression()</pre><b>In a Jupyter environment, please rerun this cell to show the HTML representation or trust the notebook. <br />On GitHub, the HTML representation is unable to render, please try loading this page with nbviewer.org.</b></div><div class=\"sk-container\" hidden><div class=\"sk-item\"><div class=\"sk-estimator sk-toggleable\"><input class=\"sk-toggleable__control sk-hidden--visually\" id=\"sk-estimator-id-2\" type=\"checkbox\" checked><label for=\"sk-estimator-id-2\" class=\"sk-toggleable__label sk-toggleable__label-arrow\">LinearRegression</label><div class=\"sk-toggleable__content\"><pre>LinearRegression()</pre></div></div></div></div></div>"
      ],
      "text/plain": [
       "LinearRegression()"
      ]
     },
     "execution_count": 12,
     "metadata": {},
     "output_type": "execute_result"
    }
   ],
   "source": [
    "Liner_model=LinearRegression()\n",
    "Liner_model.fit(X_train,y_train)\n"
   ]
  },
  {
   "cell_type": "code",
   "execution_count": 13,
   "id": "a40b0323",
   "metadata": {},
   "outputs": [
    {
     "data": {
      "text/plain": [
       "array([ 0.53438294, 11.11886555,  1.51407885, ..., 31.43516712,\n",
       "       36.94261242, 11.53460651])"
      ]
     },
     "execution_count": 13,
     "metadata": {},
     "output_type": "execute_result"
    }
   ],
   "source": [
    "Liner_model.fit(X_train,y_train)\n",
    "y_Pred=Liner_model.predict(X_test)\n",
    "y_Pred"
   ]
  },
  {
   "cell_type": "code",
   "execution_count": 14,
   "id": "7565d2b6",
   "metadata": {},
   "outputs": [],
   "source": [
    "from sklearn.metrics import mean_squared_error,mean_absolute_error,r2_score\n",
    "from sklearn.metrics import mean_absolute_error\n",
    "from sklearn.metrics import mean_squared_error\n",
    "from sklearn.metrics import r2_score\n",
    "from sklearn.model_selection import cross_val_predict"
   ]
  },
  {
   "cell_type": "code",
   "execution_count": 15,
   "id": "6eb4ab68",
   "metadata": {},
   "outputs": [],
   "source": [
    "def Eval_model(model):\n",
    "    m = model[1]\n",
    "    y_train_pred = cross_val_predict(model[1], X_train, y_train, cv=5)\n",
    "    mae = mean_absolute_error(y_train,y_train_pred)\n",
    "    mse = mean_squared_error(y_train,y_train_pred)\n",
    "    rmse = np.sqrt(mse)\n",
    "    rmsle = np.log(rmse)\n",
    "    r2 = r2_score(y_train,y_train_pred)\n",
    "    \n",
    "    print(f'{model[0]} MAE: {mae}')\n",
    "    print(f'{model[0]} MSE: {mse}')\n",
    "    print(f'{model[0]} RMSE: {rmse}')\n",
    "    print(f'{model[0]} RMSLE: {rmsle}')\n",
    "    print(f'{model[0]} R2 score: {r2}')"
   ]
  },
  {
   "cell_type": "code",
   "execution_count": 16,
   "id": "bdd8e14c",
   "metadata": {},
   "outputs": [
    {
     "name": "stdout",
     "output_type": "stream",
     "text": [
      "Linear Regression MAE: 4.367303726023876\n",
      "Linear Regression MSE: 47.14583105417409\n",
      "Linear Regression RMSE: 6.866282185737351\n",
      "Linear Regression RMSLE: 1.9266227931914475\n",
      "Linear Regression R2 score: 0.7153345282277974\n"
     ]
    }
   ],
   "source": [
    "from sklearn.linear_model import LinearRegression\n",
    "Eval_model(('Linear Regression', LinearRegression()))"
   ]
  },
  {
   "cell_type": "code",
   "execution_count": 17,
   "id": "62ee07e0",
   "metadata": {},
   "outputs": [
    {
     "name": "stdout",
     "output_type": "stream",
     "text": [
      "Ridge Regression MAE: 4.367303982002985\n",
      "Ridge Regression MSE: 47.145831053615225\n",
      "Ridge Regression RMSE: 6.8662821856966545\n",
      "Ridge Regression RMSLE: 1.9266227931855207\n",
      "Ridge Regression R2 score: 0.7153345282311718\n"
     ]
    }
   ],
   "source": [
    "from sklearn.linear_model import Ridge\n",
    "Eval_model(('Ridge Regression', Ridge()))"
   ]
  },
  {
   "cell_type": "code",
   "execution_count": 18,
   "id": "6c42b880",
   "metadata": {},
   "outputs": [
    {
     "name": "stdout",
     "output_type": "stream",
     "text": [
      "Lasso Regression MAE: 4.57584834103361\n",
      "Lasso Regression MSE: 48.496021712479084\n",
      "Lasso Regression RMSE: 6.963908508336327\n",
      "Lasso Regression RMSLE: 1.9407408840161267\n",
      "Lasso Regression R2 score: 0.7071821072791209\n"
     ]
    }
   ],
   "source": [
    "from sklearn.linear_model import Lasso\n",
    "Eval_model(('Lasso Regression', Lasso()))"
   ]
  },
  {
   "cell_type": "code",
   "execution_count": 19,
   "id": "628b17bb",
   "metadata": {},
   "outputs": [
    {
     "name": "stdout",
     "output_type": "stream",
     "text": [
      "Lasso Regression MAE: 5.778085889203854\n",
      "Lasso Regression MSE: 62.86671726587903\n",
      "Lasso Regression RMSE: 7.928853464775284\n",
      "Lasso Regression RMSLE: 2.070508443198222\n",
      "Lasso Regression R2 score: 0.620412169451477\n"
     ]
    }
   ],
   "source": [
    "from sklearn.linear_model import ElasticNet\n",
    "Eval_model(('Lasso Regression', ElasticNet()))"
   ]
  },
  {
   "cell_type": "markdown",
   "id": "84782bfb",
   "metadata": {},
   "source": [
    "###  As the SMV model is taking time so reducing the batch size"
   ]
  },
  {
   "cell_type": "code",
   "execution_count": 20,
   "id": "25198a6d",
   "metadata": {},
   "outputs": [],
   "source": [
    "df_mini_sample=df.sample(n=35000,random_state=202)"
   ]
  },
  {
   "cell_type": "code",
   "execution_count": null,
   "id": "b36233bc",
   "metadata": {},
   "outputs": [],
   "source": []
  }
 ],
 "metadata": {
  "hide_input": false,
  "kernelspec": {
   "display_name": "Python 3 (ipykernel)",
   "language": "python",
   "name": "python3"
  },
  "language_info": {
   "codemirror_mode": {
    "name": "ipython",
    "version": 3
   },
   "file_extension": ".py",
   "mimetype": "text/x-python",
   "name": "python",
   "nbconvert_exporter": "python",
   "pygments_lexer": "ipython3",
   "version": "3.9.12"
  },
  "nbTranslate": {
   "displayLangs": [
    "*"
   ],
   "hotkey": "alt-t",
   "langInMainMenu": true,
   "sourceLang": "en",
   "targetLang": "fr",
   "useGoogleTranslate": true
  },
  "toc": {
   "base_numbering": 1,
   "nav_menu": {},
   "number_sections": true,
   "sideBar": true,
   "skip_h1_title": false,
   "title_cell": "Table of Contents",
   "title_sidebar": "Contents",
   "toc_cell": false,
   "toc_position": {},
   "toc_section_display": true,
   "toc_window_display": false
  }
 },
 "nbformat": 4,
 "nbformat_minor": 5
}
