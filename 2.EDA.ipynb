{
 "cells": [
  {
   "cell_type": "code",
   "execution_count": 1,
   "id": "966c1e61",
   "metadata": {},
   "outputs": [],
   "source": [
    "import pandas as pd \n",
    "import numpy as np\n",
    "import seaborn as sns\n",
    "import matplotlib.pyplot as plt\n",
    "from warnings import filterwarnings\n",
    "filterwarnings('ignore')"
   ]
  },
  {
   "cell_type": "code",
   "execution_count": 2,
   "id": "3f6e23d9",
   "metadata": {},
   "outputs": [
    {
     "data": {
      "text/html": [
       "<div>\n",
       "<style scoped>\n",
       "    .dataframe tbody tr th:only-of-type {\n",
       "        vertical-align: middle;\n",
       "    }\n",
       "\n",
       "    .dataframe tbody tr th {\n",
       "        vertical-align: top;\n",
       "    }\n",
       "\n",
       "    .dataframe thead th {\n",
       "        text-align: right;\n",
       "    }\n",
       "</style>\n",
       "<table border=\"1\" class=\"dataframe\">\n",
       "  <thead>\n",
       "    <tr style=\"text-align: right;\">\n",
       "      <th></th>\n",
       "      <th>Date</th>\n",
       "      <th>Time</th>\n",
       "      <th>Global_active_power</th>\n",
       "      <th>Global_reactive_power</th>\n",
       "      <th>Voltage</th>\n",
       "      <th>Global_intensity</th>\n",
       "      <th>Sub_metering_1</th>\n",
       "      <th>Sub_metering_2</th>\n",
       "      <th>Sub_metering_3</th>\n",
       "      <th>Date_converted</th>\n",
       "      <th>Date_time</th>\n",
       "      <th>Total_meter_reading</th>\n",
       "    </tr>\n",
       "  </thead>\n",
       "  <tbody>\n",
       "    <tr>\n",
       "      <th>0</th>\n",
       "      <td>16/12/2006</td>\n",
       "      <td>17:24:00</td>\n",
       "      <td>4.216</td>\n",
       "      <td>0.418</td>\n",
       "      <td>234.84</td>\n",
       "      <td>18.4</td>\n",
       "      <td>0.0</td>\n",
       "      <td>1.0</td>\n",
       "      <td>17.0</td>\n",
       "      <td>2006-12-16</td>\n",
       "      <td>2006-12-16 17:24:00</td>\n",
       "      <td>18.0</td>\n",
       "    </tr>\n",
       "    <tr>\n",
       "      <th>1</th>\n",
       "      <td>16/12/2006</td>\n",
       "      <td>17:25:00</td>\n",
       "      <td>5.360</td>\n",
       "      <td>0.436</td>\n",
       "      <td>233.63</td>\n",
       "      <td>23.0</td>\n",
       "      <td>0.0</td>\n",
       "      <td>1.0</td>\n",
       "      <td>16.0</td>\n",
       "      <td>2006-12-16</td>\n",
       "      <td>2006-12-16 17:25:00</td>\n",
       "      <td>17.0</td>\n",
       "    </tr>\n",
       "    <tr>\n",
       "      <th>2</th>\n",
       "      <td>16/12/2006</td>\n",
       "      <td>17:26:00</td>\n",
       "      <td>5.374</td>\n",
       "      <td>0.498</td>\n",
       "      <td>233.29</td>\n",
       "      <td>23.0</td>\n",
       "      <td>0.0</td>\n",
       "      <td>2.0</td>\n",
       "      <td>17.0</td>\n",
       "      <td>2006-12-16</td>\n",
       "      <td>2006-12-16 17:26:00</td>\n",
       "      <td>19.0</td>\n",
       "    </tr>\n",
       "    <tr>\n",
       "      <th>3</th>\n",
       "      <td>16/12/2006</td>\n",
       "      <td>17:27:00</td>\n",
       "      <td>5.388</td>\n",
       "      <td>0.502</td>\n",
       "      <td>233.74</td>\n",
       "      <td>23.0</td>\n",
       "      <td>0.0</td>\n",
       "      <td>1.0</td>\n",
       "      <td>17.0</td>\n",
       "      <td>2006-12-16</td>\n",
       "      <td>2006-12-16 17:27:00</td>\n",
       "      <td>18.0</td>\n",
       "    </tr>\n",
       "    <tr>\n",
       "      <th>4</th>\n",
       "      <td>16/12/2006</td>\n",
       "      <td>17:28:00</td>\n",
       "      <td>3.666</td>\n",
       "      <td>0.528</td>\n",
       "      <td>235.68</td>\n",
       "      <td>15.8</td>\n",
       "      <td>0.0</td>\n",
       "      <td>1.0</td>\n",
       "      <td>17.0</td>\n",
       "      <td>2006-12-16</td>\n",
       "      <td>2006-12-16 17:28:00</td>\n",
       "      <td>18.0</td>\n",
       "    </tr>\n",
       "  </tbody>\n",
       "</table>\n",
       "</div>"
      ],
      "text/plain": [
       "         Date      Time  Global_active_power  Global_reactive_power  Voltage  \\\n",
       "0  16/12/2006  17:24:00                4.216                  0.418   234.84   \n",
       "1  16/12/2006  17:25:00                5.360                  0.436   233.63   \n",
       "2  16/12/2006  17:26:00                5.374                  0.498   233.29   \n",
       "3  16/12/2006  17:27:00                5.388                  0.502   233.74   \n",
       "4  16/12/2006  17:28:00                3.666                  0.528   235.68   \n",
       "\n",
       "   Global_intensity  Sub_metering_1  Sub_metering_2  Sub_metering_3  \\\n",
       "0              18.4             0.0             1.0            17.0   \n",
       "1              23.0             0.0             1.0            16.0   \n",
       "2              23.0             0.0             2.0            17.0   \n",
       "3              23.0             0.0             1.0            17.0   \n",
       "4              15.8             0.0             1.0            17.0   \n",
       "\n",
       "  Date_converted            Date_time  Total_meter_reading  \n",
       "0     2006-12-16  2006-12-16 17:24:00                 18.0  \n",
       "1     2006-12-16  2006-12-16 17:25:00                 17.0  \n",
       "2     2006-12-16  2006-12-16 17:26:00                 19.0  \n",
       "3     2006-12-16  2006-12-16 17:27:00                 18.0  \n",
       "4     2006-12-16  2006-12-16 17:28:00                 18.0  "
      ]
     },
     "execution_count": 2,
     "metadata": {},
     "output_type": "execute_result"
    }
   ],
   "source": [
    "df=pd.read_csv(\"Data\\Cleaned_data.csv\")\n",
    "#df.drop('Unnamed: 0',axis=1,inplace=True)\n",
    "df.head()"
   ]
  },
  {
   "cell_type": "code",
   "execution_count": 3,
   "id": "b42dc135",
   "metadata": {},
   "outputs": [
    {
     "data": {
      "text/plain": [
       "Index(['Date', 'Time', 'Global_active_power', 'Global_reactive_power',\n",
       "       'Voltage', 'Global_intensity', 'Sub_metering_1', 'Sub_metering_2',\n",
       "       'Sub_metering_3', 'Date_converted', 'Date_time', 'Total_meter_reading'],\n",
       "      dtype='object')"
      ]
     },
     "execution_count": 3,
     "metadata": {},
     "output_type": "execute_result"
    }
   ],
   "source": [
    "df.columns"
   ]
  },
  {
   "cell_type": "code",
   "execution_count": 4,
   "id": "0f6a1ff5",
   "metadata": {},
   "outputs": [],
   "source": [
    "new_df=df.drop([\"Date\",\"Time\",\"Sub_metering_1\",\"Sub_metering_2\",\"Sub_metering_2\",\"Sub_metering_3\"],axis=1)"
   ]
  },
  {
   "cell_type": "code",
   "execution_count": 5,
   "id": "13ca574c",
   "metadata": {},
   "outputs": [
    {
     "data": {
      "text/html": [
       "<div>\n",
       "<style scoped>\n",
       "    .dataframe tbody tr th:only-of-type {\n",
       "        vertical-align: middle;\n",
       "    }\n",
       "\n",
       "    .dataframe tbody tr th {\n",
       "        vertical-align: top;\n",
       "    }\n",
       "\n",
       "    .dataframe thead th {\n",
       "        text-align: right;\n",
       "    }\n",
       "</style>\n",
       "<table border=\"1\" class=\"dataframe\">\n",
       "  <thead>\n",
       "    <tr style=\"text-align: right;\">\n",
       "      <th></th>\n",
       "      <th>Global_active_power</th>\n",
       "      <th>Global_reactive_power</th>\n",
       "      <th>Voltage</th>\n",
       "      <th>Global_intensity</th>\n",
       "      <th>Date_converted</th>\n",
       "      <th>Date_time</th>\n",
       "      <th>Total_meter_reading</th>\n",
       "    </tr>\n",
       "  </thead>\n",
       "  <tbody>\n",
       "    <tr>\n",
       "      <th>0</th>\n",
       "      <td>4.216</td>\n",
       "      <td>0.418</td>\n",
       "      <td>234.84</td>\n",
       "      <td>18.4</td>\n",
       "      <td>2006-12-16</td>\n",
       "      <td>2006-12-16 17:24:00</td>\n",
       "      <td>18.0</td>\n",
       "    </tr>\n",
       "    <tr>\n",
       "      <th>1</th>\n",
       "      <td>5.360</td>\n",
       "      <td>0.436</td>\n",
       "      <td>233.63</td>\n",
       "      <td>23.0</td>\n",
       "      <td>2006-12-16</td>\n",
       "      <td>2006-12-16 17:25:00</td>\n",
       "      <td>17.0</td>\n",
       "    </tr>\n",
       "    <tr>\n",
       "      <th>2</th>\n",
       "      <td>5.374</td>\n",
       "      <td>0.498</td>\n",
       "      <td>233.29</td>\n",
       "      <td>23.0</td>\n",
       "      <td>2006-12-16</td>\n",
       "      <td>2006-12-16 17:26:00</td>\n",
       "      <td>19.0</td>\n",
       "    </tr>\n",
       "    <tr>\n",
       "      <th>3</th>\n",
       "      <td>5.388</td>\n",
       "      <td>0.502</td>\n",
       "      <td>233.74</td>\n",
       "      <td>23.0</td>\n",
       "      <td>2006-12-16</td>\n",
       "      <td>2006-12-16 17:27:00</td>\n",
       "      <td>18.0</td>\n",
       "    </tr>\n",
       "    <tr>\n",
       "      <th>4</th>\n",
       "      <td>3.666</td>\n",
       "      <td>0.528</td>\n",
       "      <td>235.68</td>\n",
       "      <td>15.8</td>\n",
       "      <td>2006-12-16</td>\n",
       "      <td>2006-12-16 17:28:00</td>\n",
       "      <td>18.0</td>\n",
       "    </tr>\n",
       "  </tbody>\n",
       "</table>\n",
       "</div>"
      ],
      "text/plain": [
       "   Global_active_power  Global_reactive_power  Voltage  Global_intensity  \\\n",
       "0                4.216                  0.418   234.84              18.4   \n",
       "1                5.360                  0.436   233.63              23.0   \n",
       "2                5.374                  0.498   233.29              23.0   \n",
       "3                5.388                  0.502   233.74              23.0   \n",
       "4                3.666                  0.528   235.68              15.8   \n",
       "\n",
       "  Date_converted            Date_time  Total_meter_reading  \n",
       "0     2006-12-16  2006-12-16 17:24:00                 18.0  \n",
       "1     2006-12-16  2006-12-16 17:25:00                 17.0  \n",
       "2     2006-12-16  2006-12-16 17:26:00                 19.0  \n",
       "3     2006-12-16  2006-12-16 17:27:00                 18.0  \n",
       "4     2006-12-16  2006-12-16 17:28:00                 18.0  "
      ]
     },
     "execution_count": 5,
     "metadata": {},
     "output_type": "execute_result"
    }
   ],
   "source": [
    "new_df.head()"
   ]
  },
  {
   "cell_type": "code",
   "execution_count": 6,
   "id": "75ef6291",
   "metadata": {},
   "outputs": [
    {
     "data": {
      "text/html": [
       "<div>\n",
       "<style scoped>\n",
       "    .dataframe tbody tr th:only-of-type {\n",
       "        vertical-align: middle;\n",
       "    }\n",
       "\n",
       "    .dataframe tbody tr th {\n",
       "        vertical-align: top;\n",
       "    }\n",
       "\n",
       "    .dataframe thead th {\n",
       "        text-align: right;\n",
       "    }\n",
       "</style>\n",
       "<table border=\"1\" class=\"dataframe\">\n",
       "  <thead>\n",
       "    <tr style=\"text-align: right;\">\n",
       "      <th></th>\n",
       "      <th>Global_active_power</th>\n",
       "      <th>Global_reactive_power</th>\n",
       "      <th>Voltage</th>\n",
       "      <th>Global_intensity</th>\n",
       "      <th>Total_meter_reading</th>\n",
       "    </tr>\n",
       "  </thead>\n",
       "  <tbody>\n",
       "    <tr>\n",
       "      <th>Global_active_power</th>\n",
       "      <td>1.000000</td>\n",
       "      <td>0.247017</td>\n",
       "      <td>-0.399762</td>\n",
       "      <td>0.998889</td>\n",
       "      <td>0.847252</td>\n",
       "    </tr>\n",
       "    <tr>\n",
       "      <th>Global_reactive_power</th>\n",
       "      <td>0.247017</td>\n",
       "      <td>1.000000</td>\n",
       "      <td>-0.112246</td>\n",
       "      <td>0.266120</td>\n",
       "      <td>0.180690</td>\n",
       "    </tr>\n",
       "    <tr>\n",
       "      <th>Voltage</th>\n",
       "      <td>-0.399762</td>\n",
       "      <td>-0.112246</td>\n",
       "      <td>1.000000</td>\n",
       "      <td>-0.411363</td>\n",
       "      <td>-0.345416</td>\n",
       "    </tr>\n",
       "    <tr>\n",
       "      <th>Global_intensity</th>\n",
       "      <td>0.998889</td>\n",
       "      <td>0.266120</td>\n",
       "      <td>-0.411363</td>\n",
       "      <td>1.000000</td>\n",
       "      <td>0.844330</td>\n",
       "    </tr>\n",
       "    <tr>\n",
       "      <th>Total_meter_reading</th>\n",
       "      <td>0.847252</td>\n",
       "      <td>0.180690</td>\n",
       "      <td>-0.345416</td>\n",
       "      <td>0.844330</td>\n",
       "      <td>1.000000</td>\n",
       "    </tr>\n",
       "  </tbody>\n",
       "</table>\n",
       "</div>"
      ],
      "text/plain": [
       "                       Global_active_power  Global_reactive_power   Voltage  \\\n",
       "Global_active_power               1.000000               0.247017 -0.399762   \n",
       "Global_reactive_power             0.247017               1.000000 -0.112246   \n",
       "Voltage                          -0.399762              -0.112246  1.000000   \n",
       "Global_intensity                  0.998889               0.266120 -0.411363   \n",
       "Total_meter_reading               0.847252               0.180690 -0.345416   \n",
       "\n",
       "                       Global_intensity  Total_meter_reading  \n",
       "Global_active_power            0.998889             0.847252  \n",
       "Global_reactive_power          0.266120             0.180690  \n",
       "Voltage                       -0.411363            -0.345416  \n",
       "Global_intensity               1.000000             0.844330  \n",
       "Total_meter_reading            0.844330             1.000000  "
      ]
     },
     "execution_count": 6,
     "metadata": {},
     "output_type": "execute_result"
    }
   ],
   "source": [
    "new_df.corr()"
   ]
  },
  {
   "cell_type": "code",
   "execution_count": 7,
   "id": "6b26370d",
   "metadata": {},
   "outputs": [
    {
     "data": {
      "text/plain": [
       "Global_active_power      1.786233\n",
       "Global_reactive_power    1.261914\n",
       "Voltage                 -0.326665\n",
       "Global_intensity         1.849100\n",
       "Total_meter_reading      2.228822\n",
       "dtype: float64"
      ]
     },
     "execution_count": 7,
     "metadata": {},
     "output_type": "execute_result"
    }
   ],
   "source": [
    "new_df.skew(numeric_only=True)"
   ]
  },
  {
   "cell_type": "markdown",
   "id": "16cb0bee",
   "metadata": {},
   "source": [
    "- If the skewness is between -0.5 and 0.5, the data are fairly symmetrical\n",
    "\n",
    "- If the skewness is between -1 and - 0.5 or between 0.5 and 1, the data are moderately skewed\n",
    "\n",
    "- If the skewness is less than -1 or greater than 1, the data are highly skewed"
   ]
  },
  {
   "cell_type": "code",
   "execution_count": 8,
   "id": "87070b1d",
   "metadata": {},
   "outputs": [
    {
     "data": {
      "text/plain": [
       "Global_active_power      4.218685\n",
       "Global_reactive_power    2.605633\n",
       "Voltage                  0.724707\n",
       "Global_intensity         4.601243\n",
       "Total_meter_reading      7.341440\n",
       "dtype: float64"
      ]
     },
     "execution_count": 8,
     "metadata": {},
     "output_type": "execute_result"
    }
   ],
   "source": [
    "new_df.kurtosis(numeric_only=True)"
   ]
  },
  {
   "cell_type": "markdown",
   "id": "6a27f5b9",
   "metadata": {},
   "source": [
    "- Kurtosis is one of the two measures that quantify shape of a distribution. kutosis determine the volume of the outlier\n",
    "\n",
    "- Kurtosis describes the peakedness of the distribution.\n",
    "\n",
    "- If the distribution is tall and thin it is called a leptokurtic distribution(Kurtosis > 3). \n",
    "   Values in a leptokurtic distribution are near the mean or at the extremes.\n",
    "\n",
    "- A flat distribution where the values are moderately spread out    \n",
    "   (i.e., unlike leptokurtic) is called platykurtic(Kurtosis <3) distribution.\n",
    "\n",
    "- A distribution whose shape is in between a leptokurtic distribution and a platykurtic distribution is called a \n",
    "   mesokurtic(Kurtosis=3) distribution.\n",
    "\n",
    "   A mesokurtic distribution looks more close to a normal distribution.\n",
    "\n",
    "- Kurtosis is sometimes reported as “excess kurtosis.” Excess kurtosis is determined by subtracting 3 from the kurtosis. \n",
    "  This makes the normal distribution kurtosis equal 0."
   ]
  },
  {
   "cell_type": "markdown",
   "id": "3dd16a79",
   "metadata": {},
   "source": [
    "Important Notes:\n",
    "\n",
    "· Along with skewness, kurtosis is an important descriptive statistic of data distribution. However, the two concepts must not be confused with each other. Skewness essentially measures the symmetry of the distribution, while kurtosis determines the heaviness of the distribution tails.\n",
    "\n",
    "· It is the sharpness of the peak of a frequency-distribution curve .It is actually the measure of outliers present in the distribution.\n",
    "\n",
    "· High kurtosis in a data set is an indicator that data has heavy outliers.\n",
    "\n",
    "· Low kurtosis in a data set is an indicator that data has lack of outliers.\n",
    "\n",
    "· If kurtosis value + means pointy and — means flat."
   ]
  },
  {
   "cell_type": "code",
   "execution_count": 9,
   "id": "748b42b6",
   "metadata": {},
   "outputs": [
    {
     "data": {
      "text/plain": [
       "<AxesSubplot:>"
      ]
     },
     "execution_count": 9,
     "metadata": {},
     "output_type": "execute_result"
    },
    {
     "data": {
      "image/png": "[encoded data removed]",
      "text/plain": [
       "<Figure size 720x576 with 2 Axes>"
      ]
     },
     "metadata": {
      "needs_background": "light"
     },
     "output_type": "display_data"
    }
   ],
   "source": [
    "plt.figure(figsize=(10,8))\n",
    "# creating mask\n",
    "mask = np.triu(np.ones_like(new_df.corr()))\n",
    "#sns.heatmap(new_df.corr(),annot=True,square=True,mask=mask)\n",
    "sns.heatmap(new_df.corr(),annot=True,square=True,)"
   ]
  },
  {
   "cell_type": "code",
   "execution_count": 10,
   "id": "8bc0b178",
   "metadata": {},
   "outputs": [],
   "source": [
    "# Here we can drop Either Global Active Power or Global Intennsity s both the features are intercorrlated"
   ]
  },
  {
   "cell_type": "code",
   "execution_count": 11,
   "id": "8bbff7ba",
   "metadata": {},
   "outputs": [
    {
     "data": {
      "text/plain": [
       "Text(0, 0.5, 'Global_active_power')"
      ]
     },
     "execution_count": 11,
     "metadata": {},
     "output_type": "execute_result"
    },
    {
     "data": {
      "image/png": "[encoded data removed]",
      "text/plain": [
       "<Figure size 432x288 with 1 Axes>"
      ]
     },
     "metadata": {
      "needs_background": "light"
     },
     "output_type": "display_data"
    }
   ],
   "source": [
    "plt.scatter(new_df['Global_intensity'],new_df[\"Global_active_power\"],c=\"g\")\n",
    "plt.xlabel(\"Global_intensity\")\n",
    "plt.ylabel(\"Global_active_power\")\n"
   ]
  },
  {
   "cell_type": "code",
   "execution_count": 12,
   "id": "9c8f0c68",
   "metadata": {},
   "outputs": [
    {
     "data": {
      "image/png": "[encoded data removed]",
      "text/plain": [
       "<Figure size 1080x1080 with 5 Axes>"
      ]
     },
     "metadata": {
      "needs_background": "light"
     },
     "output_type": "display_data"
    }
   ],
   "source": [
    "\n",
    "#Univariate Analysis on Numerical feature\n",
    "num_col=['Global_active_power', 'Global_reactive_power', 'Voltage',\n",
    "       'Global_intensity','Total_meter_reading']\n",
    "plt.figure(figsize=(15,15))\n",
    "plt.suptitle('Univariate analysis of Numerical Variable', fontsize=20, fontweight='bold')\n",
    "\n",
    "for i in range (0, len(num_col)):\n",
    "    plt.subplot(5,2,i+1)\n",
    "    sns.distplot(new_df[num_col[i]], color='g')\n",
    "    plt.xlabel(num_col[i])"
   ]
  },
  {
   "cell_type": "code",
   "execution_count": 13,
   "id": "126d0043",
   "metadata": {},
   "outputs": [
    {
     "data": {
      "text/html": [
       "<div>\n",
       "<style scoped>\n",
       "    .dataframe tbody tr th:only-of-type {\n",
       "        vertical-align: middle;\n",
       "    }\n",
       "\n",
       "    .dataframe tbody tr th {\n",
       "        vertical-align: top;\n",
       "    }\n",
       "\n",
       "    .dataframe thead th {\n",
       "        text-align: right;\n",
       "    }\n",
       "</style>\n",
       "<table border=\"1\" class=\"dataframe\">\n",
       "  <thead>\n",
       "    <tr style=\"text-align: right;\">\n",
       "      <th></th>\n",
       "      <th>Global_active_power</th>\n",
       "      <th>Global_reactive_power</th>\n",
       "      <th>Voltage</th>\n",
       "      <th>Global_intensity</th>\n",
       "      <th>Date_converted</th>\n",
       "      <th>Date_time</th>\n",
       "      <th>Total_meter_reading</th>\n",
       "    </tr>\n",
       "  </thead>\n",
       "  <tbody>\n",
       "    <tr>\n",
       "      <th>0</th>\n",
       "      <td>4.216</td>\n",
       "      <td>0.418</td>\n",
       "      <td>234.84</td>\n",
       "      <td>18.4</td>\n",
       "      <td>2006-12-16</td>\n",
       "      <td>2006-12-16 17:24:00</td>\n",
       "      <td>18.0</td>\n",
       "    </tr>\n",
       "    <tr>\n",
       "      <th>1</th>\n",
       "      <td>5.360</td>\n",
       "      <td>0.436</td>\n",
       "      <td>233.63</td>\n",
       "      <td>23.0</td>\n",
       "      <td>2006-12-16</td>\n",
       "      <td>2006-12-16 17:25:00</td>\n",
       "      <td>17.0</td>\n",
       "    </tr>\n",
       "    <tr>\n",
       "      <th>2</th>\n",
       "      <td>5.374</td>\n",
       "      <td>0.498</td>\n",
       "      <td>233.29</td>\n",
       "      <td>23.0</td>\n",
       "      <td>2006-12-16</td>\n",
       "      <td>2006-12-16 17:26:00</td>\n",
       "      <td>19.0</td>\n",
       "    </tr>\n",
       "    <tr>\n",
       "      <th>3</th>\n",
       "      <td>5.388</td>\n",
       "      <td>0.502</td>\n",
       "      <td>233.74</td>\n",
       "      <td>23.0</td>\n",
       "      <td>2006-12-16</td>\n",
       "      <td>2006-12-16 17:27:00</td>\n",
       "      <td>18.0</td>\n",
       "    </tr>\n",
       "    <tr>\n",
       "      <th>4</th>\n",
       "      <td>3.666</td>\n",
       "      <td>0.528</td>\n",
       "      <td>235.68</td>\n",
       "      <td>15.8</td>\n",
       "      <td>2006-12-16</td>\n",
       "      <td>2006-12-16 17:28:00</td>\n",
       "      <td>18.0</td>\n",
       "    </tr>\n",
       "    <tr>\n",
       "      <th>...</th>\n",
       "      <td>...</td>\n",
       "      <td>...</td>\n",
       "      <td>...</td>\n",
       "      <td>...</td>\n",
       "      <td>...</td>\n",
       "      <td>...</td>\n",
       "      <td>...</td>\n",
       "    </tr>\n",
       "    <tr>\n",
       "      <th>2049275</th>\n",
       "      <td>0.946</td>\n",
       "      <td>0.000</td>\n",
       "      <td>240.43</td>\n",
       "      <td>4.0</td>\n",
       "      <td>2010-11-26</td>\n",
       "      <td>2010-11-26 20:58:00</td>\n",
       "      <td>0.0</td>\n",
       "    </tr>\n",
       "    <tr>\n",
       "      <th>2049276</th>\n",
       "      <td>0.944</td>\n",
       "      <td>0.000</td>\n",
       "      <td>240.00</td>\n",
       "      <td>4.0</td>\n",
       "      <td>2010-11-26</td>\n",
       "      <td>2010-11-26 20:59:00</td>\n",
       "      <td>0.0</td>\n",
       "    </tr>\n",
       "    <tr>\n",
       "      <th>2049277</th>\n",
       "      <td>0.938</td>\n",
       "      <td>0.000</td>\n",
       "      <td>239.82</td>\n",
       "      <td>3.8</td>\n",
       "      <td>2010-11-26</td>\n",
       "      <td>2010-11-26 21:00:00</td>\n",
       "      <td>0.0</td>\n",
       "    </tr>\n",
       "    <tr>\n",
       "      <th>2049278</th>\n",
       "      <td>0.934</td>\n",
       "      <td>0.000</td>\n",
       "      <td>239.70</td>\n",
       "      <td>3.8</td>\n",
       "      <td>2010-11-26</td>\n",
       "      <td>2010-11-26 21:01:00</td>\n",
       "      <td>0.0</td>\n",
       "    </tr>\n",
       "    <tr>\n",
       "      <th>2049279</th>\n",
       "      <td>0.932</td>\n",
       "      <td>0.000</td>\n",
       "      <td>239.55</td>\n",
       "      <td>3.8</td>\n",
       "      <td>2010-11-26</td>\n",
       "      <td>2010-11-26 21:02:00</td>\n",
       "      <td>0.0</td>\n",
       "    </tr>\n",
       "  </tbody>\n",
       "</table>\n",
       "<p>2049280 rows × 7 columns</p>\n",
       "</div>"
      ],
      "text/plain": [
       "         Global_active_power  Global_reactive_power  Voltage  \\\n",
       "0                      4.216                  0.418   234.84   \n",
       "1                      5.360                  0.436   233.63   \n",
       "2                      5.374                  0.498   233.29   \n",
       "3                      5.388                  0.502   233.74   \n",
       "4                      3.666                  0.528   235.68   \n",
       "...                      ...                    ...      ...   \n",
       "2049275                0.946                  0.000   240.43   \n",
       "2049276                0.944                  0.000   240.00   \n",
       "2049277                0.938                  0.000   239.82   \n",
       "2049278                0.934                  0.000   239.70   \n",
       "2049279                0.932                  0.000   239.55   \n",
       "\n",
       "         Global_intensity Date_converted            Date_time  \\\n",
       "0                    18.4     2006-12-16  2006-12-16 17:24:00   \n",
       "1                    23.0     2006-12-16  2006-12-16 17:25:00   \n",
       "2                    23.0     2006-12-16  2006-12-16 17:26:00   \n",
       "3                    23.0     2006-12-16  2006-12-16 17:27:00   \n",
       "4                    15.8     2006-12-16  2006-12-16 17:28:00   \n",
       "...                   ...            ...                  ...   \n",
       "2049275               4.0     2010-11-26  2010-11-26 20:58:00   \n",
       "2049276               4.0     2010-11-26  2010-11-26 20:59:00   \n",
       "2049277               3.8     2010-11-26  2010-11-26 21:00:00   \n",
       "2049278               3.8     2010-11-26  2010-11-26 21:01:00   \n",
       "2049279               3.8     2010-11-26  2010-11-26 21:02:00   \n",
       "\n",
       "         Total_meter_reading  \n",
       "0                       18.0  \n",
       "1                       17.0  \n",
       "2                       19.0  \n",
       "3                       18.0  \n",
       "4                       18.0  \n",
       "...                      ...  \n",
       "2049275                  0.0  \n",
       "2049276                  0.0  \n",
       "2049277                  0.0  \n",
       "2049278                  0.0  \n",
       "2049279                  0.0  \n",
       "\n",
       "[2049280 rows x 7 columns]"
      ]
     },
     "execution_count": 13,
     "metadata": {},
     "output_type": "execute_result"
    }
   ],
   "source": [
    "new_df"
   ]
  },
  {
   "cell_type": "code",
   "execution_count": 14,
   "id": "89783e51",
   "metadata": {},
   "outputs": [
    {
     "data": {
      "text/plain": [
       "Index(['Global_active_power', 'Global_reactive_power', 'Voltage',\n",
       "       'Global_intensity', 'Date_converted', 'Date_time',\n",
       "       'Total_meter_reading'],\n",
       "      dtype='object')"
      ]
     },
     "execution_count": 14,
     "metadata": {},
     "output_type": "execute_result"
    }
   ],
   "source": [
    "new_df.columns"
   ]
  },
  {
   "cell_type": "code",
   "execution_count": null,
   "id": "8d2a4650",
   "metadata": {},
   "outputs": [],
   "source": [
    "\n"
   ]
  },
  {
   "cell_type": "code",
   "execution_count": 15,
   "id": "d9aabd3a",
   "metadata": {},
   "outputs": [],
   "source": [
    "new_df.drop('Global_active_power',axis=1,inplace=True)\n"
   ]
  },
  {
   "cell_type": "code",
   "execution_count": 16,
   "id": "fb570b62",
   "metadata": {},
   "outputs": [
    {
     "data": {
      "text/html": [
       "<div>\n",
       "<style scoped>\n",
       "    .dataframe tbody tr th:only-of-type {\n",
       "        vertical-align: middle;\n",
       "    }\n",
       "\n",
       "    .dataframe tbody tr th {\n",
       "        vertical-align: top;\n",
       "    }\n",
       "\n",
       "    .dataframe thead th {\n",
       "        text-align: right;\n",
       "    }\n",
       "</style>\n",
       "<table border=\"1\" class=\"dataframe\">\n",
       "  <thead>\n",
       "    <tr style=\"text-align: right;\">\n",
       "      <th></th>\n",
       "      <th>Global_reactive_power</th>\n",
       "      <th>Voltage</th>\n",
       "      <th>Global_intensity</th>\n",
       "      <th>Date_converted</th>\n",
       "      <th>Date_time</th>\n",
       "      <th>Total_meter_reading</th>\n",
       "    </tr>\n",
       "  </thead>\n",
       "  <tbody>\n",
       "    <tr>\n",
       "      <th>0</th>\n",
       "      <td>0.418</td>\n",
       "      <td>234.84</td>\n",
       "      <td>18.4</td>\n",
       "      <td>2006-12-16</td>\n",
       "      <td>2006-12-16 17:24:00</td>\n",
       "      <td>18.0</td>\n",
       "    </tr>\n",
       "    <tr>\n",
       "      <th>1</th>\n",
       "      <td>0.436</td>\n",
       "      <td>233.63</td>\n",
       "      <td>23.0</td>\n",
       "      <td>2006-12-16</td>\n",
       "      <td>2006-12-16 17:25:00</td>\n",
       "      <td>17.0</td>\n",
       "    </tr>\n",
       "    <tr>\n",
       "      <th>2</th>\n",
       "      <td>0.498</td>\n",
       "      <td>233.29</td>\n",
       "      <td>23.0</td>\n",
       "      <td>2006-12-16</td>\n",
       "      <td>2006-12-16 17:26:00</td>\n",
       "      <td>19.0</td>\n",
       "    </tr>\n",
       "    <tr>\n",
       "      <th>3</th>\n",
       "      <td>0.502</td>\n",
       "      <td>233.74</td>\n",
       "      <td>23.0</td>\n",
       "      <td>2006-12-16</td>\n",
       "      <td>2006-12-16 17:27:00</td>\n",
       "      <td>18.0</td>\n",
       "    </tr>\n",
       "    <tr>\n",
       "      <th>4</th>\n",
       "      <td>0.528</td>\n",
       "      <td>235.68</td>\n",
       "      <td>15.8</td>\n",
       "      <td>2006-12-16</td>\n",
       "      <td>2006-12-16 17:28:00</td>\n",
       "      <td>18.0</td>\n",
       "    </tr>\n",
       "    <tr>\n",
       "      <th>...</th>\n",
       "      <td>...</td>\n",
       "      <td>...</td>\n",
       "      <td>...</td>\n",
       "      <td>...</td>\n",
       "      <td>...</td>\n",
       "      <td>...</td>\n",
       "    </tr>\n",
       "    <tr>\n",
       "      <th>2049275</th>\n",
       "      <td>0.000</td>\n",
       "      <td>240.43</td>\n",
       "      <td>4.0</td>\n",
       "      <td>2010-11-26</td>\n",
       "      <td>2010-11-26 20:58:00</td>\n",
       "      <td>0.0</td>\n",
       "    </tr>\n",
       "    <tr>\n",
       "      <th>2049276</th>\n",
       "      <td>0.000</td>\n",
       "      <td>240.00</td>\n",
       "      <td>4.0</td>\n",
       "      <td>2010-11-26</td>\n",
       "      <td>2010-11-26 20:59:00</td>\n",
       "      <td>0.0</td>\n",
       "    </tr>\n",
       "    <tr>\n",
       "      <th>2049277</th>\n",
       "      <td>0.000</td>\n",
       "      <td>239.82</td>\n",
       "      <td>3.8</td>\n",
       "      <td>2010-11-26</td>\n",
       "      <td>2010-11-26 21:00:00</td>\n",
       "      <td>0.0</td>\n",
       "    </tr>\n",
       "    <tr>\n",
       "      <th>2049278</th>\n",
       "      <td>0.000</td>\n",
       "      <td>239.70</td>\n",
       "      <td>3.8</td>\n",
       "      <td>2010-11-26</td>\n",
       "      <td>2010-11-26 21:01:00</td>\n",
       "      <td>0.0</td>\n",
       "    </tr>\n",
       "    <tr>\n",
       "      <th>2049279</th>\n",
       "      <td>0.000</td>\n",
       "      <td>239.55</td>\n",
       "      <td>3.8</td>\n",
       "      <td>2010-11-26</td>\n",
       "      <td>2010-11-26 21:02:00</td>\n",
       "      <td>0.0</td>\n",
       "    </tr>\n",
       "  </tbody>\n",
       "</table>\n",
       "<p>2049280 rows × 6 columns</p>\n",
       "</div>"
      ],
      "text/plain": [
       "         Global_reactive_power  Voltage  Global_intensity Date_converted  \\\n",
       "0                        0.418   234.84              18.4     2006-12-16   \n",
       "1                        0.436   233.63              23.0     2006-12-16   \n",
       "2                        0.498   233.29              23.0     2006-12-16   \n",
       "3                        0.502   233.74              23.0     2006-12-16   \n",
       "4                        0.528   235.68              15.8     2006-12-16   \n",
       "...                        ...      ...               ...            ...   \n",
       "2049275                  0.000   240.43               4.0     2010-11-26   \n",
       "2049276                  0.000   240.00               4.0     2010-11-26   \n",
       "2049277                  0.000   239.82               3.8     2010-11-26   \n",
       "2049278                  0.000   239.70               3.8     2010-11-26   \n",
       "2049279                  0.000   239.55               3.8     2010-11-26   \n",
       "\n",
       "                   Date_time  Total_meter_reading  \n",
       "0        2006-12-16 17:24:00                 18.0  \n",
       "1        2006-12-16 17:25:00                 17.0  \n",
       "2        2006-12-16 17:26:00                 19.0  \n",
       "3        2006-12-16 17:27:00                 18.0  \n",
       "4        2006-12-16 17:28:00                 18.0  \n",
       "...                      ...                  ...  \n",
       "2049275  2010-11-26 20:58:00                  0.0  \n",
       "2049276  2010-11-26 20:59:00                  0.0  \n",
       "2049277  2010-11-26 21:00:00                  0.0  \n",
       "2049278  2010-11-26 21:01:00                  0.0  \n",
       "2049279  2010-11-26 21:02:00                  0.0  \n",
       "\n",
       "[2049280 rows x 6 columns]"
      ]
     },
     "execution_count": 16,
     "metadata": {},
     "output_type": "execute_result"
    }
   ],
   "source": [
    "new_df"
   ]
  },
  {
   "cell_type": "code",
   "execution_count": 17,
   "id": "760f6898",
   "metadata": {},
   "outputs": [
    {
     "data": {
      "text/plain": [
       "0"
      ]
     },
     "execution_count": 17,
     "metadata": {},
     "output_type": "execute_result"
    }
   ],
   "source": [
    "new_df.duplicated().sum()"
   ]
  },
  {
   "cell_type": "code",
   "execution_count": 18,
   "id": "e3e88f08",
   "metadata": {},
   "outputs": [],
   "source": [
    "#sns.jointplot(\"Global_active_power\",\"Total_meter_reading\",data=new_df,kind=\"kde\")"
   ]
  },
  {
   "cell_type": "code",
   "execution_count": 19,
   "id": "3b657353",
   "metadata": {},
   "outputs": [
    {
     "data": {
      "text/plain": [
       "Index                      0.000122\n",
       "Global_reactive_power     15.634766\n",
       "Voltage                   15.634766\n",
       "Global_intensity          15.634766\n",
       "Date_converted           130.941162\n",
       "Date_time                148.530273\n",
       "Total_meter_reading       15.634766\n",
       "dtype: float64"
      ]
     },
     "execution_count": 19,
     "metadata": {},
     "output_type": "execute_result"
    }
   ],
   "source": [
    "memory_usage = new_df.memory_usage(deep=True) / 1024 ** 2\n",
    "memory_usage"
   ]
  },
  {
   "cell_type": "code",
   "execution_count": 20,
   "id": "8ab06e8f",
   "metadata": {},
   "outputs": [
    {
     "data": {
      "text/plain": [
       "342.0106201171875"
      ]
     },
     "execution_count": 20,
     "metadata": {},
     "output_type": "execute_result"
    }
   ],
   "source": [
    "memory_usage.sum()"
   ]
  },
  {
   "cell_type": "code",
   "execution_count": null,
   "id": "0785ebe9",
   "metadata": {},
   "outputs": [],
   "source": []
  },
  {
   "cell_type": "code",
   "execution_count": 21,
   "id": "2172711e",
   "metadata": {},
   "outputs": [
    {
     "data": {
      "text/plain": [
       "<bound method Series.view of Index                      0.000122\n",
       "Global_reactive_power     15.634766\n",
       "Voltage                   15.634766\n",
       "Global_intensity          15.634766\n",
       "Date_converted           130.941162\n",
       "Date_time                148.530273\n",
       "Total_meter_reading       15.634766\n",
       "dtype: float64>"
      ]
     },
     "execution_count": 21,
     "metadata": {},
     "output_type": "execute_result"
    }
   ],
   "source": [
    "memory_usage.view"
   ]
  },
  {
   "cell_type": "code",
   "execution_count": 22,
   "id": "31671660",
   "metadata": {},
   "outputs": [
    {
     "name": "stdout",
     "output_type": "stream",
     "text": [
      "<class 'pandas.core.frame.DataFrame'>\n",
      "RangeIndex: 2049280 entries, 0 to 2049279\n",
      "Data columns (total 6 columns):\n",
      " #   Column                 Dtype  \n",
      "---  ------                 -----  \n",
      " 0   Global_reactive_power  float64\n",
      " 1   Voltage                float64\n",
      " 2   Global_intensity       float64\n",
      " 3   Date_converted         object \n",
      " 4   Date_time              object \n",
      " 5   Total_meter_reading    float64\n",
      "dtypes: float64(4), object(2)\n",
      "memory usage: 342.0 MB\n"
     ]
    }
   ],
   "source": [
    "new_df.info(memory_usage='deep')"
   ]
  },
  {
   "cell_type": "code",
   "execution_count": 23,
   "id": "fb22e477",
   "metadata": {},
   "outputs": [
    {
     "data": {
      "text/plain": [
       "Global_reactive_power           float64\n",
       "Voltage                         float64\n",
       "Global_intensity                float64\n",
       "Date_converted           datetime64[ns]\n",
       "Date_time                datetime64[ns]\n",
       "Total_meter_reading             float64\n",
       "dtype: object"
      ]
     },
     "execution_count": 23,
     "metadata": {},
     "output_type": "execute_result"
    }
   ],
   "source": [
    "new_df['Date_converted']=pd.to_datetime(df['Date_converted'])\n",
    "new_df['Date_time'] =pd.to_datetime(df['Date_time'])\n",
    "new_df.dtypes"
   ]
  },
  {
   "cell_type": "code",
   "execution_count": 24,
   "id": "2e58c3a6",
   "metadata": {},
   "outputs": [
    {
     "data": {
      "text/plain": [
       "dtype('<M8[ns]')"
      ]
     },
     "execution_count": 24,
     "metadata": {},
     "output_type": "execute_result"
    }
   ],
   "source": [
    "new_df.Date_time.dtypes"
   ]
  },
  {
   "cell_type": "code",
   "execution_count": 25,
   "id": "75de5953",
   "metadata": {},
   "outputs": [],
   "source": [
    "import datetime as dt"
   ]
  },
  {
   "cell_type": "code",
   "execution_count": 26,
   "id": "c4689b93",
   "metadata": {},
   "outputs": [
    {
     "data": {
      "text/plain": [
       "<bound method Series.unique of 0         2006-12-16\n",
       "1         2006-12-16\n",
       "2         2006-12-16\n",
       "3         2006-12-16\n",
       "4         2006-12-16\n",
       "             ...    \n",
       "2049275   2010-11-26\n",
       "2049276   2010-11-26\n",
       "2049277   2010-11-26\n",
       "2049278   2010-11-26\n",
       "2049279   2010-11-26\n",
       "Name: Date_converted, Length: 2049280, dtype: datetime64[ns]>"
      ]
     },
     "execution_count": 26,
     "metadata": {},
     "output_type": "execute_result"
    }
   ],
   "source": [
    "new_df.Date_converted.unique"
   ]
  },
  {
   "cell_type": "code",
   "execution_count": 27,
   "id": "dee54acc",
   "metadata": {},
   "outputs": [
    {
     "data": {
      "text/plain": [
       "0         2006-12-16\n",
       "1         2006-12-16\n",
       "2         2006-12-16\n",
       "3         2006-12-16\n",
       "4         2006-12-16\n",
       "             ...    \n",
       "2049275   2010-11-26\n",
       "2049276   2010-11-26\n",
       "2049277   2010-11-26\n",
       "2049278   2010-11-26\n",
       "2049279   2010-11-26\n",
       "Name: Date_converted, Length: 2049280, dtype: datetime64[ns]"
      ]
     },
     "execution_count": 27,
     "metadata": {},
     "output_type": "execute_result"
    }
   ],
   "source": [
    "new_df.Date_converted.astype('datetime64[ns]')"
   ]
  },
  {
   "cell_type": "code",
   "execution_count": 28,
   "id": "061e0a13",
   "metadata": {},
   "outputs": [
    {
     "data": {
      "text/plain": [
       "dtype('<M8[ns]')"
      ]
     },
     "execution_count": 28,
     "metadata": {},
     "output_type": "execute_result"
    }
   ],
   "source": [
    "new_df.Date_converted.dtypes"
   ]
  },
  {
   "cell_type": "code",
   "execution_count": 29,
   "id": "b1e52cef",
   "metadata": {},
   "outputs": [],
   "source": [
    "new_df.to_csv(\"Data\\Processed_data.csv\",index=False)"
   ]
  },
  {
   "cell_type": "code",
   "execution_count": 30,
   "id": "79119124",
   "metadata": {},
   "outputs": [
    {
     "data": {
      "text/html": [
       "<div>\n",
       "<style scoped>\n",
       "    .dataframe tbody tr th:only-of-type {\n",
       "        vertical-align: middle;\n",
       "    }\n",
       "\n",
       "    .dataframe tbody tr th {\n",
       "        vertical-align: top;\n",
       "    }\n",
       "\n",
       "    .dataframe thead th {\n",
       "        text-align: right;\n",
       "    }\n",
       "</style>\n",
       "<table border=\"1\" class=\"dataframe\">\n",
       "  <thead>\n",
       "    <tr style=\"text-align: right;\">\n",
       "      <th></th>\n",
       "      <th>Global_reactive_power</th>\n",
       "      <th>Voltage</th>\n",
       "      <th>Global_intensity</th>\n",
       "      <th>Date_converted</th>\n",
       "      <th>Date_time</th>\n",
       "      <th>Total_meter_reading</th>\n",
       "    </tr>\n",
       "  </thead>\n",
       "  <tbody>\n",
       "    <tr>\n",
       "      <th>0</th>\n",
       "      <td>0.418</td>\n",
       "      <td>234.84</td>\n",
       "      <td>18.4</td>\n",
       "      <td>2006-12-16</td>\n",
       "      <td>2006-12-16 17:24:00</td>\n",
       "      <td>18.0</td>\n",
       "    </tr>\n",
       "    <tr>\n",
       "      <th>1</th>\n",
       "      <td>0.436</td>\n",
       "      <td>233.63</td>\n",
       "      <td>23.0</td>\n",
       "      <td>2006-12-16</td>\n",
       "      <td>2006-12-16 17:25:00</td>\n",
       "      <td>17.0</td>\n",
       "    </tr>\n",
       "    <tr>\n",
       "      <th>2</th>\n",
       "      <td>0.498</td>\n",
       "      <td>233.29</td>\n",
       "      <td>23.0</td>\n",
       "      <td>2006-12-16</td>\n",
       "      <td>2006-12-16 17:26:00</td>\n",
       "      <td>19.0</td>\n",
       "    </tr>\n",
       "    <tr>\n",
       "      <th>3</th>\n",
       "      <td>0.502</td>\n",
       "      <td>233.74</td>\n",
       "      <td>23.0</td>\n",
       "      <td>2006-12-16</td>\n",
       "      <td>2006-12-16 17:27:00</td>\n",
       "      <td>18.0</td>\n",
       "    </tr>\n",
       "    <tr>\n",
       "      <th>4</th>\n",
       "      <td>0.528</td>\n",
       "      <td>235.68</td>\n",
       "      <td>15.8</td>\n",
       "      <td>2006-12-16</td>\n",
       "      <td>2006-12-16 17:28:00</td>\n",
       "      <td>18.0</td>\n",
       "    </tr>\n",
       "    <tr>\n",
       "      <th>...</th>\n",
       "      <td>...</td>\n",
       "      <td>...</td>\n",
       "      <td>...</td>\n",
       "      <td>...</td>\n",
       "      <td>...</td>\n",
       "      <td>...</td>\n",
       "    </tr>\n",
       "    <tr>\n",
       "      <th>2049275</th>\n",
       "      <td>0.000</td>\n",
       "      <td>240.43</td>\n",
       "      <td>4.0</td>\n",
       "      <td>2010-11-26</td>\n",
       "      <td>2010-11-26 20:58:00</td>\n",
       "      <td>0.0</td>\n",
       "    </tr>\n",
       "    <tr>\n",
       "      <th>2049276</th>\n",
       "      <td>0.000</td>\n",
       "      <td>240.00</td>\n",
       "      <td>4.0</td>\n",
       "      <td>2010-11-26</td>\n",
       "      <td>2010-11-26 20:59:00</td>\n",
       "      <td>0.0</td>\n",
       "    </tr>\n",
       "    <tr>\n",
       "      <th>2049277</th>\n",
       "      <td>0.000</td>\n",
       "      <td>239.82</td>\n",
       "      <td>3.8</td>\n",
       "      <td>2010-11-26</td>\n",
       "      <td>2010-11-26 21:00:00</td>\n",
       "      <td>0.0</td>\n",
       "    </tr>\n",
       "    <tr>\n",
       "      <th>2049278</th>\n",
       "      <td>0.000</td>\n",
       "      <td>239.70</td>\n",
       "      <td>3.8</td>\n",
       "      <td>2010-11-26</td>\n",
       "      <td>2010-11-26 21:01:00</td>\n",
       "      <td>0.0</td>\n",
       "    </tr>\n",
       "    <tr>\n",
       "      <th>2049279</th>\n",
       "      <td>0.000</td>\n",
       "      <td>239.55</td>\n",
       "      <td>3.8</td>\n",
       "      <td>2010-11-26</td>\n",
       "      <td>2010-11-26 21:02:00</td>\n",
       "      <td>0.0</td>\n",
       "    </tr>\n",
       "  </tbody>\n",
       "</table>\n",
       "<p>2049280 rows × 6 columns</p>\n",
       "</div>"
      ],
      "text/plain": [
       "         Global_reactive_power  Voltage  Global_intensity Date_converted  \\\n",
       "0                        0.418   234.84              18.4     2006-12-16   \n",
       "1                        0.436   233.63              23.0     2006-12-16   \n",
       "2                        0.498   233.29              23.0     2006-12-16   \n",
       "3                        0.502   233.74              23.0     2006-12-16   \n",
       "4                        0.528   235.68              15.8     2006-12-16   \n",
       "...                        ...      ...               ...            ...   \n",
       "2049275                  0.000   240.43               4.0     2010-11-26   \n",
       "2049276                  0.000   240.00               4.0     2010-11-26   \n",
       "2049277                  0.000   239.82               3.8     2010-11-26   \n",
       "2049278                  0.000   239.70               3.8     2010-11-26   \n",
       "2049279                  0.000   239.55               3.8     2010-11-26   \n",
       "\n",
       "                  Date_time  Total_meter_reading  \n",
       "0       2006-12-16 17:24:00                 18.0  \n",
       "1       2006-12-16 17:25:00                 17.0  \n",
       "2       2006-12-16 17:26:00                 19.0  \n",
       "3       2006-12-16 17:27:00                 18.0  \n",
       "4       2006-12-16 17:28:00                 18.0  \n",
       "...                     ...                  ...  \n",
       "2049275 2010-11-26 20:58:00                  0.0  \n",
       "2049276 2010-11-26 20:59:00                  0.0  \n",
       "2049277 2010-11-26 21:00:00                  0.0  \n",
       "2049278 2010-11-26 21:01:00                  0.0  \n",
       "2049279 2010-11-26 21:02:00                  0.0  \n",
       "\n",
       "[2049280 rows x 6 columns]"
      ]
     },
     "execution_count": 30,
     "metadata": {},
     "output_type": "execute_result"
    }
   ],
   "source": [
    "df=pd.read_csv('Data\\Processed_data.csv',parse_dates=['Date_converted','Date_time'],)\n",
    "df"
   ]
  },
  {
   "cell_type": "code",
   "execution_count": 31,
   "id": "b84e1b91",
   "metadata": {},
   "outputs": [
    {
     "name": "stdout",
     "output_type": "stream",
     "text": [
      "<class 'pandas.core.frame.DataFrame'>\n",
      "RangeIndex: 2049280 entries, 0 to 2049279\n",
      "Data columns (total 6 columns):\n",
      " #   Column                 Dtype         \n",
      "---  ------                 -----         \n",
      " 0   Global_reactive_power  float64       \n",
      " 1   Voltage                float64       \n",
      " 2   Global_intensity       float64       \n",
      " 3   Date_converted         datetime64[ns]\n",
      " 4   Date_time              datetime64[ns]\n",
      " 5   Total_meter_reading    float64       \n",
      "dtypes: datetime64[ns](2), float64(4)\n",
      "memory usage: 93.8 MB\n"
     ]
    }
   ],
   "source": [
    "df.info()"
   ]
  },
  {
   "cell_type": "code",
   "execution_count": 32,
   "id": "3005b38c",
   "metadata": {},
   "outputs": [],
   "source": [
    "df['Month'] =df[\"Date_converted\"].dt.month\n",
    "df['Year'] =df['Date_converted'].dt.year"
   ]
  },
  {
   "cell_type": "code",
   "execution_count": 33,
   "id": "66c29400",
   "metadata": {},
   "outputs": [
    {
     "data": {
      "text/plain": [
       "5     177114\n",
       "10    176990\n",
       "7     176986\n",
       "3     175090\n",
       "1     174472\n",
       "12    171200\n",
       "8     169001\n",
       "6     168049\n",
       "4     167634\n",
       "9     166079\n",
       "11    165418\n",
       "2     161247\n",
       "Name: Month, dtype: int64"
      ]
     },
     "execution_count": 33,
     "metadata": {},
     "output_type": "execute_result"
    }
   ],
   "source": [
    "df.Month.value_counts()"
   ]
  },
  {
   "cell_type": "code",
   "execution_count": 34,
   "id": "af7b4b05",
   "metadata": {},
   "outputs": [
    {
     "data": {
      "text/plain": [
       "2008    526905\n",
       "2007    521669\n",
       "2009    521320\n",
       "2010    457394\n",
       "2006     21992\n",
       "Name: Year, dtype: int64"
      ]
     },
     "execution_count": 34,
     "metadata": {},
     "output_type": "execute_result"
    }
   ],
   "source": [
    "df.Year.value_counts()"
   ]
  },
  {
   "cell_type": "code",
   "execution_count": null,
   "id": "fd3c57e7",
   "metadata": {},
   "outputs": [],
   "source": []
  },
  {
   "cell_type": "code",
   "execution_count": null,
   "id": "935ca0af",
   "metadata": {},
   "outputs": [],
   "source": []
  }
 ],
 "metadata": {
  "hide_input": false,
  "kernelspec": {
   "display_name": "Python 3 (ipykernel)",
   "language": "python",
   "name": "python3"
  },
  "language_info": {
   "codemirror_mode": {
    "name": "ipython",
    "version": 3
   },
   "file_extension": ".py",
   "mimetype": "text/x-python",
   "name": "python",
   "nbconvert_exporter": "python",
   "pygments_lexer": "ipython3",
   "version": "3.9.12"
  },
  "nbTranslate": {
   "displayLangs": [
    "*"
   ],
   "hotkey": "alt-t",
   "langInMainMenu": true,
   "sourceLang": "en",
   "targetLang": "fr",
   "useGoogleTranslate": true
  },
  "toc": {
   "base_numbering": 1,
   "nav_menu": {},
   "number_sections": true,
   "sideBar": true,
   "skip_h1_title": false,
   "title_cell": "Table of Contents",
   "title_sidebar": "Contents",
   "toc_cell": false,
   "toc_position": {},
   "toc_section_display": true,
   "toc_window_display": false
  }
 },
 "nbformat": 4,
 "nbformat_minor": 5
}
