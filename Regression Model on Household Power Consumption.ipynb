{
 "cells": [
  {
   "cell_type": "markdown",
   "id": "fd14b34a",
   "metadata": {},
   "source": [
    "# <span style='color:Red'> Regression Model on Household Electricity Consumption </span> \n"
   ]
  },
  {
   "cell_type": "markdown",
   "id": "f1d6cb52",
   "metadata": {},
   "source": [
    "<img src='230088-P1ZDYV-666.jpg'>"
   ]
  },
  {
   "cell_type": "markdown",
   "id": "e3e49735",
   "metadata": {},
   "source": [
    "\n",
    "## <span style='color:Green'> Problem Statement </span> \n",
    "\n",
    "- Predict the household power counsumtion"
   ]
  },
  {
   "cell_type": "markdown",
   "id": "b395ceda",
   "metadata": {},
   "source": [
    "### <span style='color:Green'> Task Peformed in this Notebook:- </span> \n",
    "\n",
    "1. Load Data\n",
    "2. Exploratory data analysis\n",
    "3. Check and remove any special character\n",
    "4. Handle the null Values\n",
    "5. Graphical Analysis\n",
    "6. Check and Handle the outliers\n",
    "7. Train Test Split\n",
    "8. Model building for :\n",
    "\t- Linear Regression\n",
    "\t- Ridge Regression\n",
    "\t- Lasso Regression\n",
    "    - ElasticNet Regression\n",
    "\t- Support Vector Regression\n",
    "\t- Decision Tree Regressor\n",
    "\t- Random Forest Regressor\n",
    "\t- Bagging Regressor\n",
    "9. check for all models:\n",
    "\t- mean_squared_error\n",
    "\t- mean_absolute_error\n",
    "\t- r2_score\n",
    "\t- Adjusted r2_score\n",
    "10. Hyper-Parameter tuning using RandomSearchCV on:\n",
    "\t- Random Forest Regessor\n",
    "\t- Bagging Regressor\n",
    "11. Summary\n",
    "12. Store the best model in pickle file"
   ]
  },
  {
   "cell_type": "markdown",
   "id": "75e36275",
   "metadata": {},
   "source": [
    "### <span style='color:Green'> Description </span> \n",
    "\n",
    "- The dataset is collected from UCI website, provided by Senior Researchers from France.\n",
    "- More then 2 million records\n",
    "- Data of 47 months ranging from December 2006 to November 2010.\n",
    "- Dataset has 9 attributes, out of which 3 are meter readings stating how much electricity unit appliances of various type has consumed.\n"
   ]
  },
  {
   "cell_type": "code",
   "execution_count": null,
   "id": "1b4980ae",
   "metadata": {},
   "outputs": [],
   "source": [
    "## comment\n",
    "## Observation"
   ]
  },
  {
   "cell_type": "markdown",
   "id": "2b275aef",
   "metadata": {},
   "source": [
    "### <span style='color:Green'> Importing required libraries </span> \n"
   ]
  },
  {
   "cell_type": "code",
   "execution_count": 6,
   "id": "4d88ef39",
   "metadata": {
    "run_control": {
     "marked": true
    }
   },
   "outputs": [],
   "source": [
    "# Data Analysing \n",
    "import pandas as pd\n",
    "import numpy as np\n",
    "\n",
    "# Graphical analysis\n",
    "import matplotlib.pyplot as plt\n",
    "%matplotlib inline\n",
    "import seaborn as sns\n",
    "import warnings\n",
    "warnings.filterwarnings('ignore')\n",
    "\n",
    "# for model building\n",
    "from sklearn.linear_model import LinearRegression,Ridge,Lasso,ElasticNet\n",
    "from sklearn.svm import SVR\n",
    "from sklearn.metrics import accuracy_score,r2_score,mean_squared_error,mean_absolute_error\n",
    "from sklearn.model_selection import train_test_split\n",
    "from sklearn.preprocessing import StandardScaler\n",
    "from sklearn.ensemble import RandomForestRegressor\n",
    "from sklearn.tree import DecisionTreeRegressor\n",
    "from sklearn.ensemble import BaggingRegressor\n",
    "from sklearn.model_selection import RandomizedSearchCV\n",
    "\n",
    "# save the model\n",
    "import pickle\n"
   ]
  },
  {
   "cell_type": "markdown",
   "id": "ba1178e8",
   "metadata": {},
   "source": [
    "### <span style='color:Green'> Load dataset </span> \n"
   ]
  },
  {
   "cell_type": "code",
   "execution_count": 7,
   "id": "187aad0e",
   "metadata": {},
   "outputs": [
    {
     "data": {
      "text/html": [
       "<div>\n",
       "<style scoped>\n",
       "    .dataframe tbody tr th:only-of-type {\n",
       "        vertical-align: middle;\n",
       "    }\n",
       "\n",
       "    .dataframe tbody tr th {\n",
       "        vertical-align: top;\n",
       "    }\n",
       "\n",
       "    .dataframe thead th {\n",
       "        text-align: right;\n",
       "    }\n",
       "</style>\n",
       "<table border=\"1\" class=\"dataframe\">\n",
       "  <thead>\n",
       "    <tr style=\"text-align: right;\">\n",
       "      <th></th>\n",
       "      <th>Date</th>\n",
       "      <th>Time</th>\n",
       "      <th>Global_active_power</th>\n",
       "      <th>Global_reactive_power</th>\n",
       "      <th>Voltage</th>\n",
       "      <th>Global_intensity</th>\n",
       "      <th>Sub_metering_1</th>\n",
       "      <th>Sub_metering_2</th>\n",
       "      <th>Sub_metering_3</th>\n",
       "    </tr>\n",
       "  </thead>\n",
       "  <tbody>\n",
       "    <tr>\n",
       "      <th>0</th>\n",
       "      <td>16/12/2006</td>\n",
       "      <td>17:24:00</td>\n",
       "      <td>4.216</td>\n",
       "      <td>0.418</td>\n",
       "      <td>234.840</td>\n",
       "      <td>18.400</td>\n",
       "      <td>0.000</td>\n",
       "      <td>1.000</td>\n",
       "      <td>17.0</td>\n",
       "    </tr>\n",
       "    <tr>\n",
       "      <th>1</th>\n",
       "      <td>16/12/2006</td>\n",
       "      <td>17:25:00</td>\n",
       "      <td>5.360</td>\n",
       "      <td>0.436</td>\n",
       "      <td>233.630</td>\n",
       "      <td>23.000</td>\n",
       "      <td>0.000</td>\n",
       "      <td>1.000</td>\n",
       "      <td>16.0</td>\n",
       "    </tr>\n",
       "    <tr>\n",
       "      <th>2</th>\n",
       "      <td>16/12/2006</td>\n",
       "      <td>17:26:00</td>\n",
       "      <td>5.374</td>\n",
       "      <td>0.498</td>\n",
       "      <td>233.290</td>\n",
       "      <td>23.000</td>\n",
       "      <td>0.000</td>\n",
       "      <td>2.000</td>\n",
       "      <td>17.0</td>\n",
       "    </tr>\n",
       "    <tr>\n",
       "      <th>3</th>\n",
       "      <td>16/12/2006</td>\n",
       "      <td>17:27:00</td>\n",
       "      <td>5.388</td>\n",
       "      <td>0.502</td>\n",
       "      <td>233.740</td>\n",
       "      <td>23.000</td>\n",
       "      <td>0.000</td>\n",
       "      <td>1.000</td>\n",
       "      <td>17.0</td>\n",
       "    </tr>\n",
       "    <tr>\n",
       "      <th>4</th>\n",
       "      <td>16/12/2006</td>\n",
       "      <td>17:28:00</td>\n",
       "      <td>3.666</td>\n",
       "      <td>0.528</td>\n",
       "      <td>235.680</td>\n",
       "      <td>15.800</td>\n",
       "      <td>0.000</td>\n",
       "      <td>1.000</td>\n",
       "      <td>17.0</td>\n",
       "    </tr>\n",
       "  </tbody>\n",
       "</table>\n",
       "</div>"
      ],
      "text/plain": [
       "         Date      Time Global_active_power Global_reactive_power  Voltage  \\\n",
       "0  16/12/2006  17:24:00               4.216                 0.418  234.840   \n",
       "1  16/12/2006  17:25:00               5.360                 0.436  233.630   \n",
       "2  16/12/2006  17:26:00               5.374                 0.498  233.290   \n",
       "3  16/12/2006  17:27:00               5.388                 0.502  233.740   \n",
       "4  16/12/2006  17:28:00               3.666                 0.528  235.680   \n",
       "\n",
       "  Global_intensity Sub_metering_1 Sub_metering_2  Sub_metering_3  \n",
       "0           18.400          0.000          1.000            17.0  \n",
       "1           23.000          0.000          1.000            16.0  \n",
       "2           23.000          0.000          2.000            17.0  \n",
       "3           23.000          0.000          1.000            17.0  \n",
       "4           15.800          0.000          1.000            17.0  "
      ]
     },
     "execution_count": 7,
     "metadata": {},
     "output_type": "execute_result"
    }
   ],
   "source": [
    "## Loading Dataset\n",
    "df = pd.read_csv(r\"Data\\household_power_consumption.txt\",sep=';')\n",
    "df.head()"
   ]
  },
  {
   "cell_type": "code",
   "execution_count": 3,
   "id": "f996df29",
   "metadata": {},
   "outputs": [
    {
     "data": {
      "text/plain": [
       "(2075259, 9)"
      ]
     },
     "execution_count": 3,
     "metadata": {},
     "output_type": "execute_result"
    }
   ],
   "source": [
    "## Checking Shape of Dataset\n",
    "df.shape"
   ]
  },
  {
   "cell_type": "markdown",
   "id": "661aba10",
   "metadata": {},
   "source": [
    "### <span style='color:Green'>Check any special character </span>"
   ]
  },
  {
   "cell_type": "code",
   "execution_count": 5,
   "id": "6e8b73e3",
   "metadata": {},
   "outputs": [
    {
     "data": {
      "text/html": [
       "<div>\n",
       "<style scoped>\n",
       "    .dataframe tbody tr th:only-of-type {\n",
       "        vertical-align: middle;\n",
       "    }\n",
       "\n",
       "    .dataframe tbody tr th {\n",
       "        vertical-align: top;\n",
       "    }\n",
       "\n",
       "    .dataframe thead th {\n",
       "        text-align: right;\n",
       "    }\n",
       "</style>\n",
       "<table border=\"1\" class=\"dataframe\">\n",
       "  <thead>\n",
       "    <tr style=\"text-align: right;\">\n",
       "      <th></th>\n",
       "      <th>Date</th>\n",
       "      <th>Time</th>\n",
       "      <th>Global_active_power</th>\n",
       "      <th>Global_reactive_power</th>\n",
       "      <th>Voltage</th>\n",
       "      <th>Global_intensity</th>\n",
       "      <th>Sub_metering_1</th>\n",
       "      <th>Sub_metering_2</th>\n",
       "      <th>Sub_metering_3</th>\n",
       "    </tr>\n",
       "  </thead>\n",
       "  <tbody>\n",
       "    <tr>\n",
       "      <th>6839</th>\n",
       "      <td>21/12/2006</td>\n",
       "      <td>11:23:00</td>\n",
       "      <td>?</td>\n",
       "      <td>?</td>\n",
       "      <td>?</td>\n",
       "      <td>?</td>\n",
       "      <td>?</td>\n",
       "      <td>?</td>\n",
       "      <td>NaN</td>\n",
       "    </tr>\n",
       "    <tr>\n",
       "      <th>6840</th>\n",
       "      <td>21/12/2006</td>\n",
       "      <td>11:24:00</td>\n",
       "      <td>?</td>\n",
       "      <td>?</td>\n",
       "      <td>?</td>\n",
       "      <td>?</td>\n",
       "      <td>?</td>\n",
       "      <td>?</td>\n",
       "      <td>NaN</td>\n",
       "    </tr>\n",
       "    <tr>\n",
       "      <th>19724</th>\n",
       "      <td>30/12/2006</td>\n",
       "      <td>10:08:00</td>\n",
       "      <td>?</td>\n",
       "      <td>?</td>\n",
       "      <td>?</td>\n",
       "      <td>?</td>\n",
       "      <td>?</td>\n",
       "      <td>?</td>\n",
       "      <td>NaN</td>\n",
       "    </tr>\n",
       "    <tr>\n",
       "      <th>19725</th>\n",
       "      <td>30/12/2006</td>\n",
       "      <td>10:09:00</td>\n",
       "      <td>?</td>\n",
       "      <td>?</td>\n",
       "      <td>?</td>\n",
       "      <td>?</td>\n",
       "      <td>?</td>\n",
       "      <td>?</td>\n",
       "      <td>NaN</td>\n",
       "    </tr>\n",
       "    <tr>\n",
       "      <th>41832</th>\n",
       "      <td>14/1/2007</td>\n",
       "      <td>18:36:00</td>\n",
       "      <td>?</td>\n",
       "      <td>?</td>\n",
       "      <td>?</td>\n",
       "      <td>?</td>\n",
       "      <td>?</td>\n",
       "      <td>?</td>\n",
       "      <td>NaN</td>\n",
       "    </tr>\n",
       "    <tr>\n",
       "      <th>...</th>\n",
       "      <td>...</td>\n",
       "      <td>...</td>\n",
       "      <td>...</td>\n",
       "      <td>...</td>\n",
       "      <td>...</td>\n",
       "      <td>...</td>\n",
       "      <td>...</td>\n",
       "      <td>...</td>\n",
       "      <td>...</td>\n",
       "    </tr>\n",
       "    <tr>\n",
       "      <th>1990185</th>\n",
       "      <td>28/9/2010</td>\n",
       "      <td>19:09:00</td>\n",
       "      <td>?</td>\n",
       "      <td>?</td>\n",
       "      <td>?</td>\n",
       "      <td>?</td>\n",
       "      <td>?</td>\n",
       "      <td>?</td>\n",
       "      <td>NaN</td>\n",
       "    </tr>\n",
       "    <tr>\n",
       "      <th>1990186</th>\n",
       "      <td>28/9/2010</td>\n",
       "      <td>19:10:00</td>\n",
       "      <td>?</td>\n",
       "      <td>?</td>\n",
       "      <td>?</td>\n",
       "      <td>?</td>\n",
       "      <td>?</td>\n",
       "      <td>?</td>\n",
       "      <td>NaN</td>\n",
       "    </tr>\n",
       "    <tr>\n",
       "      <th>1990187</th>\n",
       "      <td>28/9/2010</td>\n",
       "      <td>19:11:00</td>\n",
       "      <td>?</td>\n",
       "      <td>?</td>\n",
       "      <td>?</td>\n",
       "      <td>?</td>\n",
       "      <td>?</td>\n",
       "      <td>?</td>\n",
       "      <td>NaN</td>\n",
       "    </tr>\n",
       "    <tr>\n",
       "      <th>1990188</th>\n",
       "      <td>28/9/2010</td>\n",
       "      <td>19:12:00</td>\n",
       "      <td>?</td>\n",
       "      <td>?</td>\n",
       "      <td>?</td>\n",
       "      <td>?</td>\n",
       "      <td>?</td>\n",
       "      <td>?</td>\n",
       "      <td>NaN</td>\n",
       "    </tr>\n",
       "    <tr>\n",
       "      <th>2027411</th>\n",
       "      <td>24/10/2010</td>\n",
       "      <td>15:35:00</td>\n",
       "      <td>?</td>\n",
       "      <td>?</td>\n",
       "      <td>?</td>\n",
       "      <td>?</td>\n",
       "      <td>?</td>\n",
       "      <td>?</td>\n",
       "      <td>NaN</td>\n",
       "    </tr>\n",
       "  </tbody>\n",
       "</table>\n",
       "<p>25979 rows × 9 columns</p>\n",
       "</div>"
      ],
      "text/plain": [
       "               Date      Time Global_active_power Global_reactive_power  \\\n",
       "6839     21/12/2006  11:23:00                   ?                     ?   \n",
       "6840     21/12/2006  11:24:00                   ?                     ?   \n",
       "19724    30/12/2006  10:08:00                   ?                     ?   \n",
       "19725    30/12/2006  10:09:00                   ?                     ?   \n",
       "41832     14/1/2007  18:36:00                   ?                     ?   \n",
       "...             ...       ...                 ...                   ...   \n",
       "1990185   28/9/2010  19:09:00                   ?                     ?   \n",
       "1990186   28/9/2010  19:10:00                   ?                     ?   \n",
       "1990187   28/9/2010  19:11:00                   ?                     ?   \n",
       "1990188   28/9/2010  19:12:00                   ?                     ?   \n",
       "2027411  24/10/2010  15:35:00                   ?                     ?   \n",
       "\n",
       "        Voltage Global_intensity Sub_metering_1 Sub_metering_2  Sub_metering_3  \n",
       "6839          ?                ?              ?              ?             NaN  \n",
       "6840          ?                ?              ?              ?             NaN  \n",
       "19724         ?                ?              ?              ?             NaN  \n",
       "19725         ?                ?              ?              ?             NaN  \n",
       "41832         ?                ?              ?              ?             NaN  \n",
       "...         ...              ...            ...            ...             ...  \n",
       "1990185       ?                ?              ?              ?             NaN  \n",
       "1990186       ?                ?              ?              ?             NaN  \n",
       "1990187       ?                ?              ?              ?             NaN  \n",
       "1990188       ?                ?              ?              ?             NaN  \n",
       "2027411       ?                ?              ?              ?             NaN  \n",
       "\n",
       "[25979 rows x 9 columns]"
      ]
     },
     "execution_count": 5,
     "metadata": {},
     "output_type": "execute_result"
    }
   ],
   "source": [
    "## Checking any special character are present in a dataset or not.\n",
    "special_char = df[df['Voltage'] == \"?\"]\n",
    "special_char"
   ]
  },
  {
   "cell_type": "markdown",
   "id": "28eb6f28",
   "metadata": {},
   "source": [
    "### <span style='color:Green'> Drop these records having special character </span>\n"
   ]
  },
  {
   "cell_type": "code",
   "execution_count": 7,
   "id": "9bb76881",
   "metadata": {},
   "outputs": [
    {
     "name": "stdout",
     "output_type": "stream",
     "text": [
      "Data before special characters (2075259, 9)\n",
      "Data before removal of special characters (2049280, 9)\n"
     ]
    }
   ],
   "source": [
    "print(\"Data before special characters\", df.shape)\n",
    "df.drop(special_char.index,axis= 0,inplace=True)\n",
    "print(\"Data before removal of special characters\", df.shape)"
   ]
  },
  {
   "cell_type": "markdown",
   "id": "3f96d347",
   "metadata": {},
   "source": [
    "### <span style='color:Green'> Check duplicated </span>\n"
   ]
  },
  {
   "cell_type": "code",
   "execution_count": 8,
   "id": "3628da49",
   "metadata": {},
   "outputs": [
    {
     "data": {
      "text/plain": [
       "0"
      ]
     },
     "execution_count": 8,
     "metadata": {},
     "output_type": "execute_result"
    }
   ],
   "source": [
    "## Checking Total Duplicate rows present in a dataset.\n",
    "df.duplicated().sum()"
   ]
  },
  {
   "cell_type": "code",
   "execution_count": 10,
   "id": "459f2a63",
   "metadata": {},
   "outputs": [
    {
     "name": "stdout",
     "output_type": "stream",
     "text": [
      "Data before duplicate records (2049280, 9)\n",
      "Data after removal of duplicate records (2049280, 9)\n"
     ]
    }
   ],
   "source": [
    "## Droping Duplicate Rows from dataset and also checking shape of dataset.\n",
    "print(\"Data before duplicate records\", df.shape)\n",
    "df.drop_duplicates(inplace=True)\n",
    "print(\"Data after removal of duplicate records\", df.shape)"
   ]
  },
  {
   "cell_type": "code",
   "execution_count": 12,
   "id": "45efb61b",
   "metadata": {},
   "outputs": [
    {
     "data": {
      "text/plain": [
       "0"
      ]
     },
     "execution_count": 12,
     "metadata": {},
     "output_type": "execute_result"
    }
   ],
   "source": [
    "df.duplicated().sum()"
   ]
  },
  {
   "cell_type": "markdown",
   "id": "99b508d0",
   "metadata": {},
   "source": [
    "#### <span style='color: blue'> Observations </span>\n",
    "\n",
    "- Data is very big so we have to take small sample for model building"
   ]
  },
  {
   "cell_type": "code",
   "execution_count": 13,
   "id": "91030fc4",
   "metadata": {},
   "outputs": [],
   "source": [
    "## Creating 60,000 Sample Data from Original dataset\n",
    "df_sample = df.sample(60000)"
   ]
  },
  {
   "cell_type": "code",
   "execution_count": 14,
   "id": "2628f607",
   "metadata": {},
   "outputs": [
    {
     "data": {
      "text/plain": [
       "(60000, 9)"
      ]
     },
     "execution_count": 14,
     "metadata": {},
     "output_type": "execute_result"
    }
   ],
   "source": [
    "## Checking Sample shape of newly created sample dataset. \n",
    "df_sample.shape"
   ]
  },
  {
   "cell_type": "markdown",
   "id": "c9ea1edd",
   "metadata": {},
   "source": [
    "#### <span style='color: blue'> Observations </span>\n",
    "\n",
    "- We have taken 60000 samples out of 2 million to build model"
   ]
  },
  {
   "cell_type": "markdown",
   "id": "b143f763",
   "metadata": {},
   "source": [
    "## <span style='color:Green'> EDA </span>\n"
   ]
  },
  {
   "cell_type": "code",
   "execution_count": null,
   "id": "0b60340b",
   "metadata": {},
   "outputs": [],
   "source": []
  },
  {
   "cell_type": "code",
   "execution_count": 15,
   "id": "8e4b3b15",
   "metadata": {},
   "outputs": [
    {
     "data": {
      "text/plain": [
       "Index(['Date', 'Time', 'Global_active_power', 'Global_reactive_power',\n",
       "       'Voltage', 'Global_intensity', 'Sub_metering_1', 'Sub_metering_2',\n",
       "       'Sub_metering_3'],\n",
       "      dtype='object')"
      ]
     },
     "execution_count": 15,
     "metadata": {},
     "output_type": "execute_result"
    }
   ],
   "source": [
    "## Checking all Columns Available in a dataset\n",
    "df_sample.columns"
   ]
  },
  {
   "cell_type": "markdown",
   "id": "e25c337c",
   "metadata": {},
   "source": [
    "### <span style='color:Green'> Drop Date and time columns </span>"
   ]
  },
  {
   "cell_type": "code",
   "execution_count": 16,
   "id": "cc6ee78a",
   "metadata": {},
   "outputs": [],
   "source": [
    "## Droping Unnecessary columns from dataset\n",
    "df_sample.drop(['Date','Time'],axis = 1, inplace = True)"
   ]
  },
  {
   "cell_type": "code",
   "execution_count": 17,
   "id": "beb07edc",
   "metadata": {},
   "outputs": [
    {
     "data": {
      "text/html": [
       "<div>\n",
       "<style scoped>\n",
       "    .dataframe tbody tr th:only-of-type {\n",
       "        vertical-align: middle;\n",
       "    }\n",
       "\n",
       "    .dataframe tbody tr th {\n",
       "        vertical-align: top;\n",
       "    }\n",
       "\n",
       "    .dataframe thead th {\n",
       "        text-align: right;\n",
       "    }\n",
       "</style>\n",
       "<table border=\"1\" class=\"dataframe\">\n",
       "  <thead>\n",
       "    <tr style=\"text-align: right;\">\n",
       "      <th></th>\n",
       "      <th>Global_active_power</th>\n",
       "      <th>Global_reactive_power</th>\n",
       "      <th>Voltage</th>\n",
       "      <th>Global_intensity</th>\n",
       "      <th>Sub_metering_1</th>\n",
       "      <th>Sub_metering_2</th>\n",
       "      <th>Sub_metering_3</th>\n",
       "    </tr>\n",
       "  </thead>\n",
       "  <tbody>\n",
       "    <tr>\n",
       "      <th>159241</th>\n",
       "      <td>1.440</td>\n",
       "      <td>0.110</td>\n",
       "      <td>242.150</td>\n",
       "      <td>6.000</td>\n",
       "      <td>0.000</td>\n",
       "      <td>1.000</td>\n",
       "      <td>0.0</td>\n",
       "    </tr>\n",
       "    <tr>\n",
       "      <th>1812965</th>\n",
       "      <td>1.288</td>\n",
       "      <td>0.074</td>\n",
       "      <td>239.120</td>\n",
       "      <td>5.400</td>\n",
       "      <td>0.000</td>\n",
       "      <td>0.000</td>\n",
       "      <td>18.0</td>\n",
       "    </tr>\n",
       "    <tr>\n",
       "      <th>72147</th>\n",
       "      <td>1.898</td>\n",
       "      <td>0.078</td>\n",
       "      <td>234.190</td>\n",
       "      <td>8.000</td>\n",
       "      <td>0.000</td>\n",
       "      <td>0.000</td>\n",
       "      <td>17.0</td>\n",
       "    </tr>\n",
       "    <tr>\n",
       "      <th>1231744</th>\n",
       "      <td>0.262</td>\n",
       "      <td>0.000</td>\n",
       "      <td>244.500</td>\n",
       "      <td>1.000</td>\n",
       "      <td>0.000</td>\n",
       "      <td>0.000</td>\n",
       "      <td>0.0</td>\n",
       "    </tr>\n",
       "    <tr>\n",
       "      <th>274362</th>\n",
       "      <td>0.202</td>\n",
       "      <td>0.082</td>\n",
       "      <td>242.550</td>\n",
       "      <td>1.000</td>\n",
       "      <td>0.000</td>\n",
       "      <td>0.000</td>\n",
       "      <td>0.0</td>\n",
       "    </tr>\n",
       "  </tbody>\n",
       "</table>\n",
       "</div>"
      ],
      "text/plain": [
       "        Global_active_power Global_reactive_power  Voltage Global_intensity  \\\n",
       "159241                1.440                 0.110  242.150            6.000   \n",
       "1812965               1.288                 0.074  239.120            5.400   \n",
       "72147                 1.898                 0.078  234.190            8.000   \n",
       "1231744               0.262                 0.000  244.500            1.000   \n",
       "274362                0.202                 0.082  242.550            1.000   \n",
       "\n",
       "        Sub_metering_1 Sub_metering_2  Sub_metering_3  \n",
       "159241           0.000          1.000             0.0  \n",
       "1812965          0.000          0.000            18.0  \n",
       "72147            0.000          0.000            17.0  \n",
       "1231744          0.000          0.000             0.0  \n",
       "274362           0.000          0.000             0.0  "
      ]
     },
     "execution_count": 17,
     "metadata": {},
     "output_type": "execute_result"
    }
   ],
   "source": [
    "## checking Top 5 rows from dataset\n",
    "df_sample.head()"
   ]
  },
  {
   "cell_type": "markdown",
   "id": "e2eb3ced",
   "metadata": {},
   "source": [
    "### <span style='color:Green'> Check the null values </span>"
   ]
  },
  {
   "cell_type": "code",
   "execution_count": 18,
   "id": "551fadf9",
   "metadata": {},
   "outputs": [
    {
     "data": {
      "text/plain": [
       "Global_active_power      0\n",
       "Global_reactive_power    0\n",
       "Voltage                  0\n",
       "Global_intensity         0\n",
       "Sub_metering_1           0\n",
       "Sub_metering_2           0\n",
       "Sub_metering_3           0\n",
       "dtype: int64"
      ]
     },
     "execution_count": 18,
     "metadata": {},
     "output_type": "execute_result"
    }
   ],
   "source": [
    "## Checking Total Null Value present in a dataset.\n",
    "df_sample.isna().sum()"
   ]
  },
  {
   "cell_type": "markdown",
   "id": "1fd4c7d4",
   "metadata": {},
   "source": [
    "#### <span style='color: blue'> Observations </span>\n",
    "\n",
    "- No Null Value"
   ]
  },
  {
   "cell_type": "markdown",
   "id": "13a39263",
   "metadata": {},
   "source": [
    "### <span style='color:Green'> Convert all dtypes to float </span>"
   ]
  },
  {
   "cell_type": "code",
   "execution_count": 19,
   "id": "9ce6d45a",
   "metadata": {},
   "outputs": [
    {
     "data": {
      "text/plain": [
       "Global_active_power       object\n",
       "Global_reactive_power     object\n",
       "Voltage                   object\n",
       "Global_intensity          object\n",
       "Sub_metering_1            object\n",
       "Sub_metering_2            object\n",
       "Sub_metering_3           float64\n",
       "dtype: object"
      ]
     },
     "execution_count": 19,
     "metadata": {},
     "output_type": "execute_result"
    }
   ],
   "source": [
    "## Checking dtypes for all Columns present in a dataset\n",
    "df_sample.dtypes"
   ]
  },
  {
   "cell_type": "code",
   "execution_count": 20,
   "id": "4156ab4c",
   "metadata": {},
   "outputs": [],
   "source": [
    "## Converting all Columns dtype to Float type\n",
    "df_sample = df_sample.astype(float)"
   ]
  },
  {
   "cell_type": "code",
   "execution_count": 21,
   "id": "8885c9e1",
   "metadata": {},
   "outputs": [
    {
     "data": {
      "text/plain": [
       "Global_active_power      float64\n",
       "Global_reactive_power    float64\n",
       "Voltage                  float64\n",
       "Global_intensity         float64\n",
       "Sub_metering_1           float64\n",
       "Sub_metering_2           float64\n",
       "Sub_metering_3           float64\n",
       "dtype: object"
      ]
     },
     "execution_count": 21,
     "metadata": {},
     "output_type": "execute_result"
    }
   ],
   "source": [
    "## Checking dtypes after converting all columns dtype to float\n",
    "df_sample.dtypes"
   ]
  },
  {
   "cell_type": "markdown",
   "id": "45d439a6",
   "metadata": {},
   "source": [
    "### <span style='color:Green'> Combine reading of sub_metering_1,sub_metering_2 and sub_metering_3 </span>"
   ]
  },
  {
   "cell_type": "code",
   "execution_count": 22,
   "id": "afd4f2b5",
   "metadata": {},
   "outputs": [
    {
     "data": {
      "text/plain": [
       "Index(['Global_active_power', 'Global_reactive_power', 'Voltage',\n",
       "       'Global_intensity', 'Sub_metering_1', 'Sub_metering_2',\n",
       "       'Sub_metering_3'],\n",
       "      dtype='object')"
      ]
     },
     "execution_count": 22,
     "metadata": {},
     "output_type": "execute_result"
    }
   ],
   "source": [
    "## Checking all Columns name Present in a dataset\n",
    "df_sample.columns"
   ]
  },
  {
   "cell_type": "code",
   "execution_count": 23,
   "id": "be0d0f96",
   "metadata": {},
   "outputs": [],
   "source": [
    "## Combining 3 submeter into one main meter.\n",
    "df_sample['meter'] =df_sample['Sub_metering_1'] + df_sample['Sub_metering_2'] + df_sample['Sub_metering_3']"
   ]
  },
  {
   "cell_type": "markdown",
   "id": "32333936",
   "metadata": {},
   "source": [
    "### <span style='color:green'> Drop 3 columns </span>"
   ]
  },
  {
   "cell_type": "code",
   "execution_count": 24,
   "id": "d6372668",
   "metadata": {},
   "outputs": [],
   "source": [
    "## Droping 3 Sub-meter columns from dataset.\n",
    "df_sample.drop(['Sub_metering_1','Sub_metering_2','Sub_metering_3'],axis = 1,inplace = True)"
   ]
  },
  {
   "cell_type": "code",
   "execution_count": 25,
   "id": "b3329a76",
   "metadata": {},
   "outputs": [
    {
     "data": {
      "text/html": [
       "<div>\n",
       "<style scoped>\n",
       "    .dataframe tbody tr th:only-of-type {\n",
       "        vertical-align: middle;\n",
       "    }\n",
       "\n",
       "    .dataframe tbody tr th {\n",
       "        vertical-align: top;\n",
       "    }\n",
       "\n",
       "    .dataframe thead th {\n",
       "        text-align: right;\n",
       "    }\n",
       "</style>\n",
       "<table border=\"1\" class=\"dataframe\">\n",
       "  <thead>\n",
       "    <tr style=\"text-align: right;\">\n",
       "      <th></th>\n",
       "      <th>Global_active_power</th>\n",
       "      <th>Global_reactive_power</th>\n",
       "      <th>Voltage</th>\n",
       "      <th>Global_intensity</th>\n",
       "      <th>meter</th>\n",
       "    </tr>\n",
       "  </thead>\n",
       "  <tbody>\n",
       "    <tr>\n",
       "      <th>159241</th>\n",
       "      <td>1.440</td>\n",
       "      <td>0.110</td>\n",
       "      <td>242.15</td>\n",
       "      <td>6.0</td>\n",
       "      <td>1.0</td>\n",
       "    </tr>\n",
       "    <tr>\n",
       "      <th>1812965</th>\n",
       "      <td>1.288</td>\n",
       "      <td>0.074</td>\n",
       "      <td>239.12</td>\n",
       "      <td>5.4</td>\n",
       "      <td>18.0</td>\n",
       "    </tr>\n",
       "    <tr>\n",
       "      <th>72147</th>\n",
       "      <td>1.898</td>\n",
       "      <td>0.078</td>\n",
       "      <td>234.19</td>\n",
       "      <td>8.0</td>\n",
       "      <td>17.0</td>\n",
       "    </tr>\n",
       "    <tr>\n",
       "      <th>1231744</th>\n",
       "      <td>0.262</td>\n",
       "      <td>0.000</td>\n",
       "      <td>244.50</td>\n",
       "      <td>1.0</td>\n",
       "      <td>0.0</td>\n",
       "    </tr>\n",
       "    <tr>\n",
       "      <th>274362</th>\n",
       "      <td>0.202</td>\n",
       "      <td>0.082</td>\n",
       "      <td>242.55</td>\n",
       "      <td>1.0</td>\n",
       "      <td>0.0</td>\n",
       "    </tr>\n",
       "  </tbody>\n",
       "</table>\n",
       "</div>"
      ],
      "text/plain": [
       "         Global_active_power  Global_reactive_power  Voltage  \\\n",
       "159241                 1.440                  0.110   242.15   \n",
       "1812965                1.288                  0.074   239.12   \n",
       "72147                  1.898                  0.078   234.19   \n",
       "1231744                0.262                  0.000   244.50   \n",
       "274362                 0.202                  0.082   242.55   \n",
       "\n",
       "         Global_intensity  meter  \n",
       "159241                6.0    1.0  \n",
       "1812965               5.4   18.0  \n",
       "72147                 8.0   17.0  \n",
       "1231744               1.0    0.0  \n",
       "274362                1.0    0.0  "
      ]
     },
     "execution_count": 25,
     "metadata": {},
     "output_type": "execute_result"
    }
   ],
   "source": [
    "## Checking top 5 rows from dataset\n",
    "df_sample.head()"
   ]
  },
  {
   "cell_type": "markdown",
   "id": "6d33afff",
   "metadata": {},
   "source": [
    "### We have changed the size of the data by changing the data types "
   ]
  },
  {
   "cell_type": "code",
   "execution_count": 26,
   "id": "b43409b9",
   "metadata": {},
   "outputs": [
    {
     "data": {
      "text/html": [
       "<div>\n",
       "<style scoped>\n",
       "    .dataframe tbody tr th:only-of-type {\n",
       "        vertical-align: middle;\n",
       "    }\n",
       "\n",
       "    .dataframe tbody tr th {\n",
       "        vertical-align: top;\n",
       "    }\n",
       "\n",
       "    .dataframe thead th {\n",
       "        text-align: right;\n",
       "    }\n",
       "</style>\n",
       "<table border=\"1\" class=\"dataframe\">\n",
       "  <thead>\n",
       "    <tr style=\"text-align: right;\">\n",
       "      <th></th>\n",
       "      <th>count</th>\n",
       "      <th>mean</th>\n",
       "      <th>std</th>\n",
       "      <th>min</th>\n",
       "      <th>25%</th>\n",
       "      <th>50%</th>\n",
       "      <th>75%</th>\n",
       "      <th>max</th>\n",
       "    </tr>\n",
       "  </thead>\n",
       "  <tbody>\n",
       "    <tr>\n",
       "      <th>Global_active_power</th>\n",
       "      <td>60000.0</td>\n",
       "      <td>1.093381</td>\n",
       "      <td>1.055864</td>\n",
       "      <td>0.076</td>\n",
       "      <td>0.310</td>\n",
       "      <td>0.604</td>\n",
       "      <td>1.528</td>\n",
       "      <td>9.338</td>\n",
       "    </tr>\n",
       "    <tr>\n",
       "      <th>Global_reactive_power</th>\n",
       "      <td>60000.0</td>\n",
       "      <td>0.123749</td>\n",
       "      <td>0.112840</td>\n",
       "      <td>0.000</td>\n",
       "      <td>0.048</td>\n",
       "      <td>0.100</td>\n",
       "      <td>0.194</td>\n",
       "      <td>1.090</td>\n",
       "    </tr>\n",
       "    <tr>\n",
       "      <th>Voltage</th>\n",
       "      <td>60000.0</td>\n",
       "      <td>240.846740</td>\n",
       "      <td>3.241623</td>\n",
       "      <td>223.490</td>\n",
       "      <td>238.980</td>\n",
       "      <td>241.010</td>\n",
       "      <td>242.900</td>\n",
       "      <td>253.270</td>\n",
       "    </tr>\n",
       "    <tr>\n",
       "      <th>Global_intensity</th>\n",
       "      <td>60000.0</td>\n",
       "      <td>4.635717</td>\n",
       "      <td>4.438331</td>\n",
       "      <td>0.200</td>\n",
       "      <td>1.400</td>\n",
       "      <td>2.600</td>\n",
       "      <td>6.400</td>\n",
       "      <td>41.800</td>\n",
       "    </tr>\n",
       "    <tr>\n",
       "      <th>meter</th>\n",
       "      <td>60000.0</td>\n",
       "      <td>8.885483</td>\n",
       "      <td>12.808163</td>\n",
       "      <td>0.000</td>\n",
       "      <td>0.000</td>\n",
       "      <td>1.000</td>\n",
       "      <td>18.000</td>\n",
       "      <td>127.000</td>\n",
       "    </tr>\n",
       "  </tbody>\n",
       "</table>\n",
       "</div>"
      ],
      "text/plain": [
       "                         count        mean        std      min      25%  \\\n",
       "Global_active_power    60000.0    1.093381   1.055864    0.076    0.310   \n",
       "Global_reactive_power  60000.0    0.123749   0.112840    0.000    0.048   \n",
       "Voltage                60000.0  240.846740   3.241623  223.490  238.980   \n",
       "Global_intensity       60000.0    4.635717   4.438331    0.200    1.400   \n",
       "meter                  60000.0    8.885483  12.808163    0.000    0.000   \n",
       "\n",
       "                           50%      75%      max  \n",
       "Global_active_power      0.604    1.528    9.338  \n",
       "Global_reactive_power    0.100    0.194    1.090  \n",
       "Voltage                241.010  242.900  253.270  \n",
       "Global_intensity         2.600    6.400   41.800  \n",
       "meter                    1.000   18.000  127.000  "
      ]
     },
     "execution_count": 26,
     "metadata": {},
     "output_type": "execute_result"
    }
   ],
   "source": [
    "## Checking basic Statistics method with the help of Describe()\n",
    "df_sample.describe().T"
   ]
  },
  {
   "cell_type": "code",
   "execution_count": 27,
   "id": "75ef6291",
   "metadata": {},
   "outputs": [
    {
     "data": {
      "text/html": [
       "<div>\n",
       "<style scoped>\n",
       "    .dataframe tbody tr th:only-of-type {\n",
       "        vertical-align: middle;\n",
       "    }\n",
       "\n",
       "    .dataframe tbody tr th {\n",
       "        vertical-align: top;\n",
       "    }\n",
       "\n",
       "    .dataframe thead th {\n",
       "        text-align: right;\n",
       "    }\n",
       "</style>\n",
       "<table border=\"1\" class=\"dataframe\">\n",
       "  <thead>\n",
       "    <tr style=\"text-align: right;\">\n",
       "      <th></th>\n",
       "      <th>Global_active_power</th>\n",
       "      <th>Global_reactive_power</th>\n",
       "      <th>Voltage</th>\n",
       "      <th>Global_intensity</th>\n",
       "      <th>meter</th>\n",
       "    </tr>\n",
       "  </thead>\n",
       "  <tbody>\n",
       "    <tr>\n",
       "      <th>Global_active_power</th>\n",
       "      <td>1.000000</td>\n",
       "      <td>0.239755</td>\n",
       "      <td>-0.398145</td>\n",
       "      <td>0.998864</td>\n",
       "      <td>0.846280</td>\n",
       "    </tr>\n",
       "    <tr>\n",
       "      <th>Global_reactive_power</th>\n",
       "      <td>0.239755</td>\n",
       "      <td>1.000000</td>\n",
       "      <td>-0.103329</td>\n",
       "      <td>0.258597</td>\n",
       "      <td>0.172874</td>\n",
       "    </tr>\n",
       "    <tr>\n",
       "      <th>Voltage</th>\n",
       "      <td>-0.398145</td>\n",
       "      <td>-0.103329</td>\n",
       "      <td>1.000000</td>\n",
       "      <td>-0.409971</td>\n",
       "      <td>-0.343163</td>\n",
       "    </tr>\n",
       "    <tr>\n",
       "      <th>Global_intensity</th>\n",
       "      <td>0.998864</td>\n",
       "      <td>0.258597</td>\n",
       "      <td>-0.409971</td>\n",
       "      <td>1.000000</td>\n",
       "      <td>0.843169</td>\n",
       "    </tr>\n",
       "    <tr>\n",
       "      <th>meter</th>\n",
       "      <td>0.846280</td>\n",
       "      <td>0.172874</td>\n",
       "      <td>-0.343163</td>\n",
       "      <td>0.843169</td>\n",
       "      <td>1.000000</td>\n",
       "    </tr>\n",
       "  </tbody>\n",
       "</table>\n",
       "</div>"
      ],
      "text/plain": [
       "                       Global_active_power  Global_reactive_power   Voltage  \\\n",
       "Global_active_power               1.000000               0.239755 -0.398145   \n",
       "Global_reactive_power             0.239755               1.000000 -0.103329   \n",
       "Voltage                          -0.398145              -0.103329  1.000000   \n",
       "Global_intensity                  0.998864               0.258597 -0.409971   \n",
       "meter                             0.846280               0.172874 -0.343163   \n",
       "\n",
       "                       Global_intensity     meter  \n",
       "Global_active_power            0.998864  0.846280  \n",
       "Global_reactive_power          0.258597  0.172874  \n",
       "Voltage                       -0.409971 -0.343163  \n",
       "Global_intensity               1.000000  0.843169  \n",
       "meter                          0.843169  1.000000  "
      ]
     },
     "execution_count": 27,
     "metadata": {},
     "output_type": "execute_result"
    }
   ],
   "source": [
    "df_sample.corr()"
   ]
  },
  {
   "cell_type": "code",
   "execution_count": 28,
   "id": "a1d4f1c6",
   "metadata": {},
   "outputs": [
    {
     "data": {
      "text/plain": [
       "Global_active_power      1.781643\n",
       "Global_reactive_power    1.253137\n",
       "Voltage                 -0.335197\n",
       "Global_intensity         1.845041\n",
       "meter                    2.216686\n",
       "dtype: float64"
      ]
     },
     "execution_count": 28,
     "metadata": {},
     "output_type": "execute_result"
    }
   ],
   "source": [
    "df_sample.skew()"
   ]
  },
  {
   "cell_type": "code",
   "execution_count": 29,
   "id": "6b26370d",
   "metadata": {},
   "outputs": [
    {
     "data": {
      "text/plain": [
       "Global_active_power      1.781643\n",
       "Global_reactive_power    1.253137\n",
       "Voltage                 -0.335197\n",
       "Global_intensity         1.845041\n",
       "meter                    2.216686\n",
       "dtype: float64"
      ]
     },
     "execution_count": 29,
     "metadata": {},
     "output_type": "execute_result"
    }
   ],
   "source": [
    "df_sample.skew(numeric_only=True)"
   ]
  },
  {
   "cell_type": "markdown",
   "id": "16cb0bee",
   "metadata": {},
   "source": [
    "- If the skewness is between -0.5 and 0.5, the data are fairly symmetrical\n",
    "\n",
    "- If the skewness is between -1 and - 0.5 or between 0.5 and 1, the data are moderately skewed\n",
    "\n",
    "- If the skewness is less than -1 or greater than 1, the data are highly skewed"
   ]
  },
  {
   "cell_type": "code",
   "execution_count": 30,
   "id": "87070b1d",
   "metadata": {},
   "outputs": [
    {
     "data": {
      "text/plain": [
       "Global_active_power      4.173224\n",
       "Global_reactive_power    2.551043\n",
       "Voltage                  0.702538\n",
       "Global_intensity         4.556951\n",
       "meter                    7.284552\n",
       "dtype: float64"
      ]
     },
     "execution_count": 30,
     "metadata": {},
     "output_type": "execute_result"
    }
   ],
   "source": [
    "df_sample.kurtosis(numeric_only=True)"
   ]
  },
  {
   "cell_type": "markdown",
   "id": "6a27f5b9",
   "metadata": {},
   "source": [
    "- Kurtosis is one of the two measures that quantify shape of a distribution. kutosis determine the volume of the outlier\n",
    "\n",
    "- Kurtosis describes the peakedness of the distribution.\n",
    "\n",
    "- If the distribution is tall and thin it is called a leptokurtic distribution(Kurtosis > 3). \n",
    "   Values in a leptokurtic distribution are near the mean or at the extremes.\n",
    "\n",
    "- A flat distribution where the values are moderately spread out    \n",
    "   (i.e., unlike leptokurtic) is called platykurtic(Kurtosis <3) distribution.\n",
    "\n",
    "- A distribution whose shape is in between a leptokurtic distribution and a platykurtic distribution is called a \n",
    "   mesokurtic(Kurtosis=3) distribution.\n",
    "\n",
    "   A mesokurtic distribution looks more close to a normal distribution.\n",
    "\n",
    "- Kurtosis is sometimes reported as “excess kurtosis.” Excess kurtosis is determined by subtracting 3 from the kurtosis. \n",
    "  This makes the normal distribution kurtosis equal 0."
   ]
  },
  {
   "cell_type": "markdown",
   "id": "3dd16a79",
   "metadata": {},
   "source": [
    "Important Notes:\n",
    "\n",
    "· Along with skewness, kurtosis is an important descriptive statistic of data distribution. However, the two concepts must not be confused with each other. Skewness essentially measures the symmetry of the distribution, while kurtosis determines the heaviness of the distribution tails.\n",
    "\n",
    "· It is the sharpness of the peak of a frequency-distribution curve .It is actually the measure of outliers present in the distribution.\n",
    "\n",
    "· High kurtosis in a data set is an indicator that data has heavy outliers.\n",
    "\n",
    "· Low kurtosis in a data set is an indicator that data has lack of outliers.\n",
    "\n",
    "· If kurtosis value + means pointy and — means flat."
   ]
  },
  {
   "cell_type": "code",
   "execution_count": 31,
   "id": "748b42b6",
   "metadata": {},
   "outputs": [
    {
     "data": {
      "text/plain": [
       "<AxesSubplot:>"
      ]
     },
     "execution_count": 31,
     "metadata": {},
     "output_type": "execute_result"
    },
    {
     "data": {
      "image/png": "[encoded data removed]",
      "text/plain": [
       "<Figure size 720x576 with 2 Axes>"
      ]
     },
     "metadata": {
      "needs_background": "light"
     },
     "output_type": "display_data"
    }
   ],
   "source": [
    "plt.figure(figsize=(10,8))\n",
    "# creating mask\n",
    "mask = np.triu(np.ones_like(df_sample.corr()))\n",
    "#sns.heatmap(new_df.corr(),annot=True,square=True,mask=mask)\n",
    "sns.heatmap(df_sample.corr(),annot=True,square=True,)"
   ]
  },
  {
   "cell_type": "code",
   "execution_count": 32,
   "id": "8bc0b178",
   "metadata": {},
   "outputs": [],
   "source": [
    "# Here we can drop Either Global Active Power or Global Intennsity s both the features are intercorrlated"
   ]
  },
  {
   "cell_type": "code",
   "execution_count": 33,
   "id": "8bbff7ba",
   "metadata": {},
   "outputs": [
    {
     "data": {
      "text/plain": [
       "Text(0, 0.5, 'Global_active_power')"
      ]
     },
     "execution_count": 33,
     "metadata": {},
     "output_type": "execute_result"
    },
    {
     "data": {
      "image/png": "[encoded data removed]",
      "text/plain": [
       "<Figure size 432x288 with 1 Axes>"
      ]
     },
     "metadata": {
      "needs_background": "light"
     },
     "output_type": "display_data"
    }
   ],
   "source": [
    "plt.scatter(df_sample['Global_intensity'],df_sample[\"Global_active_power\"],c=\"g\")\n",
    "plt.xlabel(\"Global_intensity\")\n",
    "plt.ylabel(\"Global_active_power\")\n"
   ]
  },
  {
   "cell_type": "code",
   "execution_count": 34,
   "id": "638fd31f",
   "metadata": {},
   "outputs": [
    {
     "data": {
      "text/plain": [
       "Index(['Global_active_power', 'Global_reactive_power', 'Voltage',\n",
       "       'Global_intensity', 'meter'],\n",
       "      dtype='object')"
      ]
     },
     "execution_count": 34,
     "metadata": {},
     "output_type": "execute_result"
    }
   ],
   "source": [
    "df_sample.columns"
   ]
  },
  {
   "cell_type": "code",
   "execution_count": 35,
   "id": "2476b927",
   "metadata": {},
   "outputs": [
    {
     "data": {
      "text/plain": [
       "Text(0, 0.5, 'Global_active_power')"
      ]
     },
     "execution_count": 35,
     "metadata": {},
     "output_type": "execute_result"
    },
    {
     "data": {
      "image/png": "[encoded data removed]",
      "text/plain": [
       "<Figure size 432x288 with 1 Axes>"
      ]
     },
     "metadata": {
      "needs_background": "light"
     },
     "output_type": "display_data"
    }
   ],
   "source": [
    "plt.scatter(df_sample['Global_reactive_power'],df_sample[\"Global_active_power\"],c=\"b\")\n",
    "plt.xlabel(\"Global_reactive_power\")\n",
    "plt.ylabel(\"Global_active_power\")"
   ]
  },
  {
   "cell_type": "code",
   "execution_count": 36,
   "id": "9c8f0c68",
   "metadata": {},
   "outputs": [
    {
     "data": {
      "image/png": "[encoded data removed]",
      "text/plain": [
       "<Figure size 1080x1080 with 5 Axes>"
      ]
     },
     "metadata": {
      "needs_background": "light"
     },
     "output_type": "display_data"
    }
   ],
   "source": [
    "\n",
    "#Univariate Analysis on Numerical feature\n",
    "num_col=['Global_active_power', 'Global_reactive_power', 'Voltage',\n",
    "       'Global_intensity','meter']\n",
    "plt.figure(figsize=(15,15))\n",
    "plt.suptitle('Univariate analysis of Numerical Variable', fontsize=20, fontweight='bold')\n",
    "\n",
    "for i in range (0, len(num_col)):\n",
    "    plt.subplot(5,2,i+1)\n",
    "    sns.distplot(df_sample[num_col[i]], color='g')\n",
    "    plt.xlabel(num_col[i])"
   ]
  },
  {
   "cell_type": "code",
   "execution_count": 37,
   "id": "126d0043",
   "metadata": {},
   "outputs": [
    {
     "data": {
      "text/html": [
       "<div>\n",
       "<style scoped>\n",
       "    .dataframe tbody tr th:only-of-type {\n",
       "        vertical-align: middle;\n",
       "    }\n",
       "\n",
       "    .dataframe tbody tr th {\n",
       "        vertical-align: top;\n",
       "    }\n",
       "\n",
       "    .dataframe thead th {\n",
       "        text-align: right;\n",
       "    }\n",
       "</style>\n",
       "<table border=\"1\" class=\"dataframe\">\n",
       "  <thead>\n",
       "    <tr style=\"text-align: right;\">\n",
       "      <th></th>\n",
       "      <th>Global_active_power</th>\n",
       "      <th>Global_reactive_power</th>\n",
       "      <th>Voltage</th>\n",
       "      <th>Global_intensity</th>\n",
       "      <th>meter</th>\n",
       "    </tr>\n",
       "  </thead>\n",
       "  <tbody>\n",
       "    <tr>\n",
       "      <th>159241</th>\n",
       "      <td>1.440</td>\n",
       "      <td>0.110</td>\n",
       "      <td>242.15</td>\n",
       "      <td>6.0</td>\n",
       "      <td>1.0</td>\n",
       "    </tr>\n",
       "    <tr>\n",
       "      <th>1812965</th>\n",
       "      <td>1.288</td>\n",
       "      <td>0.074</td>\n",
       "      <td>239.12</td>\n",
       "      <td>5.4</td>\n",
       "      <td>18.0</td>\n",
       "    </tr>\n",
       "    <tr>\n",
       "      <th>72147</th>\n",
       "      <td>1.898</td>\n",
       "      <td>0.078</td>\n",
       "      <td>234.19</td>\n",
       "      <td>8.0</td>\n",
       "      <td>17.0</td>\n",
       "    </tr>\n",
       "    <tr>\n",
       "      <th>1231744</th>\n",
       "      <td>0.262</td>\n",
       "      <td>0.000</td>\n",
       "      <td>244.50</td>\n",
       "      <td>1.0</td>\n",
       "      <td>0.0</td>\n",
       "    </tr>\n",
       "    <tr>\n",
       "      <th>274362</th>\n",
       "      <td>0.202</td>\n",
       "      <td>0.082</td>\n",
       "      <td>242.55</td>\n",
       "      <td>1.0</td>\n",
       "      <td>0.0</td>\n",
       "    </tr>\n",
       "    <tr>\n",
       "      <th>...</th>\n",
       "      <td>...</td>\n",
       "      <td>...</td>\n",
       "      <td>...</td>\n",
       "      <td>...</td>\n",
       "      <td>...</td>\n",
       "    </tr>\n",
       "    <tr>\n",
       "      <th>1239757</th>\n",
       "      <td>1.846</td>\n",
       "      <td>0.504</td>\n",
       "      <td>240.34</td>\n",
       "      <td>7.8</td>\n",
       "      <td>20.0</td>\n",
       "    </tr>\n",
       "    <tr>\n",
       "      <th>2004116</th>\n",
       "      <td>0.282</td>\n",
       "      <td>0.066</td>\n",
       "      <td>240.08</td>\n",
       "      <td>1.4</td>\n",
       "      <td>1.0</td>\n",
       "    </tr>\n",
       "    <tr>\n",
       "      <th>1633723</th>\n",
       "      <td>0.374</td>\n",
       "      <td>0.108</td>\n",
       "      <td>246.13</td>\n",
       "      <td>1.6</td>\n",
       "      <td>1.0</td>\n",
       "    </tr>\n",
       "    <tr>\n",
       "      <th>87635</th>\n",
       "      <td>0.262</td>\n",
       "      <td>0.000</td>\n",
       "      <td>241.53</td>\n",
       "      <td>1.2</td>\n",
       "      <td>0.0</td>\n",
       "    </tr>\n",
       "    <tr>\n",
       "      <th>1001632</th>\n",
       "      <td>0.292</td>\n",
       "      <td>0.000</td>\n",
       "      <td>243.62</td>\n",
       "      <td>1.2</td>\n",
       "      <td>0.0</td>\n",
       "    </tr>\n",
       "  </tbody>\n",
       "</table>\n",
       "<p>60000 rows × 5 columns</p>\n",
       "</div>"
      ],
      "text/plain": [
       "         Global_active_power  Global_reactive_power  Voltage  \\\n",
       "159241                 1.440                  0.110   242.15   \n",
       "1812965                1.288                  0.074   239.12   \n",
       "72147                  1.898                  0.078   234.19   \n",
       "1231744                0.262                  0.000   244.50   \n",
       "274362                 0.202                  0.082   242.55   \n",
       "...                      ...                    ...      ...   \n",
       "1239757                1.846                  0.504   240.34   \n",
       "2004116                0.282                  0.066   240.08   \n",
       "1633723                0.374                  0.108   246.13   \n",
       "87635                  0.262                  0.000   241.53   \n",
       "1001632                0.292                  0.000   243.62   \n",
       "\n",
       "         Global_intensity  meter  \n",
       "159241                6.0    1.0  \n",
       "1812965               5.4   18.0  \n",
       "72147                 8.0   17.0  \n",
       "1231744               1.0    0.0  \n",
       "274362                1.0    0.0  \n",
       "...                   ...    ...  \n",
       "1239757               7.8   20.0  \n",
       "2004116               1.4    1.0  \n",
       "1633723               1.6    1.0  \n",
       "87635                 1.2    0.0  \n",
       "1001632               1.2    0.0  \n",
       "\n",
       "[60000 rows x 5 columns]"
      ]
     },
     "execution_count": 37,
     "metadata": {},
     "output_type": "execute_result"
    }
   ],
   "source": [
    "df_sample"
   ]
  },
  {
   "cell_type": "code",
   "execution_count": 38,
   "id": "89783e51",
   "metadata": {
    "scrolled": true
   },
   "outputs": [
    {
     "data": {
      "text/plain": [
       "Index(['Global_active_power', 'Global_reactive_power', 'Voltage',\n",
       "       'Global_intensity', 'meter'],\n",
       "      dtype='object')"
      ]
     },
     "execution_count": 38,
     "metadata": {},
     "output_type": "execute_result"
    }
   ],
   "source": [
    "df_sample.columns"
   ]
  },
  {
   "cell_type": "code",
   "execution_count": null,
   "id": "8d2a4650",
   "metadata": {},
   "outputs": [],
   "source": []
  },
  {
   "cell_type": "code",
   "execution_count": 39,
   "id": "d9aabd3a",
   "metadata": {},
   "outputs": [],
   "source": [
    "new_df=df_sample.drop('Global_active_power',axis=1)\n"
   ]
  },
  {
   "cell_type": "code",
   "execution_count": 40,
   "id": "fb570b62",
   "metadata": {},
   "outputs": [
    {
     "data": {
      "text/html": [
       "<div>\n",
       "<style scoped>\n",
       "    .dataframe tbody tr th:only-of-type {\n",
       "        vertical-align: middle;\n",
       "    }\n",
       "\n",
       "    .dataframe tbody tr th {\n",
       "        vertical-align: top;\n",
       "    }\n",
       "\n",
       "    .dataframe thead th {\n",
       "        text-align: right;\n",
       "    }\n",
       "</style>\n",
       "<table border=\"1\" class=\"dataframe\">\n",
       "  <thead>\n",
       "    <tr style=\"text-align: right;\">\n",
       "      <th></th>\n",
       "      <th>Global_reactive_power</th>\n",
       "      <th>Voltage</th>\n",
       "      <th>Global_intensity</th>\n",
       "      <th>meter</th>\n",
       "    </tr>\n",
       "  </thead>\n",
       "  <tbody>\n",
       "    <tr>\n",
       "      <th>159241</th>\n",
       "      <td>0.110</td>\n",
       "      <td>242.15</td>\n",
       "      <td>6.0</td>\n",
       "      <td>1.0</td>\n",
       "    </tr>\n",
       "    <tr>\n",
       "      <th>1812965</th>\n",
       "      <td>0.074</td>\n",
       "      <td>239.12</td>\n",
       "      <td>5.4</td>\n",
       "      <td>18.0</td>\n",
       "    </tr>\n",
       "    <tr>\n",
       "      <th>72147</th>\n",
       "      <td>0.078</td>\n",
       "      <td>234.19</td>\n",
       "      <td>8.0</td>\n",
       "      <td>17.0</td>\n",
       "    </tr>\n",
       "    <tr>\n",
       "      <th>1231744</th>\n",
       "      <td>0.000</td>\n",
       "      <td>244.50</td>\n",
       "      <td>1.0</td>\n",
       "      <td>0.0</td>\n",
       "    </tr>\n",
       "    <tr>\n",
       "      <th>274362</th>\n",
       "      <td>0.082</td>\n",
       "      <td>242.55</td>\n",
       "      <td>1.0</td>\n",
       "      <td>0.0</td>\n",
       "    </tr>\n",
       "    <tr>\n",
       "      <th>...</th>\n",
       "      <td>...</td>\n",
       "      <td>...</td>\n",
       "      <td>...</td>\n",
       "      <td>...</td>\n",
       "    </tr>\n",
       "    <tr>\n",
       "      <th>1239757</th>\n",
       "      <td>0.504</td>\n",
       "      <td>240.34</td>\n",
       "      <td>7.8</td>\n",
       "      <td>20.0</td>\n",
       "    </tr>\n",
       "    <tr>\n",
       "      <th>2004116</th>\n",
       "      <td>0.066</td>\n",
       "      <td>240.08</td>\n",
       "      <td>1.4</td>\n",
       "      <td>1.0</td>\n",
       "    </tr>\n",
       "    <tr>\n",
       "      <th>1633723</th>\n",
       "      <td>0.108</td>\n",
       "      <td>246.13</td>\n",
       "      <td>1.6</td>\n",
       "      <td>1.0</td>\n",
       "    </tr>\n",
       "    <tr>\n",
       "      <th>87635</th>\n",
       "      <td>0.000</td>\n",
       "      <td>241.53</td>\n",
       "      <td>1.2</td>\n",
       "      <td>0.0</td>\n",
       "    </tr>\n",
       "    <tr>\n",
       "      <th>1001632</th>\n",
       "      <td>0.000</td>\n",
       "      <td>243.62</td>\n",
       "      <td>1.2</td>\n",
       "      <td>0.0</td>\n",
       "    </tr>\n",
       "  </tbody>\n",
       "</table>\n",
       "<p>60000 rows × 4 columns</p>\n",
       "</div>"
      ],
      "text/plain": [
       "         Global_reactive_power  Voltage  Global_intensity  meter\n",
       "159241                   0.110   242.15               6.0    1.0\n",
       "1812965                  0.074   239.12               5.4   18.0\n",
       "72147                    0.078   234.19               8.0   17.0\n",
       "1231744                  0.000   244.50               1.0    0.0\n",
       "274362                   0.082   242.55               1.0    0.0\n",
       "...                        ...      ...               ...    ...\n",
       "1239757                  0.504   240.34               7.8   20.0\n",
       "2004116                  0.066   240.08               1.4    1.0\n",
       "1633723                  0.108   246.13               1.6    1.0\n",
       "87635                    0.000   241.53               1.2    0.0\n",
       "1001632                  0.000   243.62               1.2    0.0\n",
       "\n",
       "[60000 rows x 4 columns]"
      ]
     },
     "execution_count": 40,
     "metadata": {},
     "output_type": "execute_result"
    }
   ],
   "source": [
    "new_df"
   ]
  },
  {
   "cell_type": "code",
   "execution_count": 41,
   "id": "760f6898",
   "metadata": {},
   "outputs": [
    {
     "data": {
      "text/plain": [
       "2882"
      ]
     },
     "execution_count": 41,
     "metadata": {},
     "output_type": "execute_result"
    }
   ],
   "source": [
    "new_df.duplicated().sum()"
   ]
  },
  {
   "cell_type": "code",
   "execution_count": 42,
   "id": "e3e88f08",
   "metadata": {},
   "outputs": [],
   "source": [
    "#sns.jointplot(\"Global_active_power\",\"Total_meter_reading\",data=new_df,kind=\"kde\")"
   ]
  },
  {
   "cell_type": "code",
   "execution_count": 43,
   "id": "3b657353",
   "metadata": {},
   "outputs": [
    {
     "data": {
      "text/plain": [
       "Index                    0.457764\n",
       "Global_reactive_power    0.457764\n",
       "Voltage                  0.457764\n",
       "Global_intensity         0.457764\n",
       "meter                    0.457764\n",
       "dtype: float64"
      ]
     },
     "execution_count": 43,
     "metadata": {},
     "output_type": "execute_result"
    }
   ],
   "source": [
    "memory_usage = new_df.memory_usage(deep=True) / 1024 ** 2\n",
    "memory_usage"
   ]
  },
  {
   "cell_type": "code",
   "execution_count": 44,
   "id": "8ab06e8f",
   "metadata": {},
   "outputs": [
    {
     "data": {
      "text/plain": [
       "2.288818359375"
      ]
     },
     "execution_count": 44,
     "metadata": {},
     "output_type": "execute_result"
    }
   ],
   "source": [
    "memory_usage.sum()"
   ]
  },
  {
   "cell_type": "code",
   "execution_count": null,
   "id": "0785ebe9",
   "metadata": {},
   "outputs": [],
   "source": []
  },
  {
   "cell_type": "code",
   "execution_count": 45,
   "id": "2172711e",
   "metadata": {},
   "outputs": [
    {
     "data": {
      "text/plain": [
       "<bound method Series.view of Index                    0.457764\n",
       "Global_reactive_power    0.457764\n",
       "Voltage                  0.457764\n",
       "Global_intensity         0.457764\n",
       "meter                    0.457764\n",
       "dtype: float64>"
      ]
     },
     "execution_count": 45,
     "metadata": {},
     "output_type": "execute_result"
    }
   ],
   "source": [
    "memory_usage.view"
   ]
  },
  {
   "cell_type": "code",
   "execution_count": 46,
   "id": "31671660",
   "metadata": {},
   "outputs": [
    {
     "name": "stdout",
     "output_type": "stream",
     "text": [
      "<class 'pandas.core.frame.DataFrame'>\n",
      "Int64Index: 60000 entries, 159241 to 1001632\n",
      "Data columns (total 4 columns):\n",
      " #   Column                 Non-Null Count  Dtype  \n",
      "---  ------                 --------------  -----  \n",
      " 0   Global_reactive_power  60000 non-null  float64\n",
      " 1   Voltage                60000 non-null  float64\n",
      " 2   Global_intensity       60000 non-null  float64\n",
      " 3   meter                  60000 non-null  float64\n",
      "dtypes: float64(4)\n",
      "memory usage: 2.3 MB\n"
     ]
    }
   ],
   "source": [
    "new_df.info(memory_usage='deep')"
   ]
  },
  {
   "cell_type": "code",
   "execution_count": null,
   "id": "ee40f3e9",
   "metadata": {},
   "outputs": [],
   "source": []
  },
  {
   "cell_type": "code",
   "execution_count": 47,
   "id": "cf8f559a",
   "metadata": {},
   "outputs": [
    {
     "name": "stdout",
     "output_type": "stream",
     "text": [
      "<class 'pandas.core.frame.DataFrame'>\n",
      "Int64Index: 60000 entries, 159241 to 1001632\n",
      "Data columns (total 5 columns):\n",
      " #   Column                 Non-Null Count  Dtype  \n",
      "---  ------                 --------------  -----  \n",
      " 0   Global_active_power    60000 non-null  float64\n",
      " 1   Global_reactive_power  60000 non-null  float64\n",
      " 2   Voltage                60000 non-null  float64\n",
      " 3   Global_intensity       60000 non-null  float64\n",
      " 4   meter                  60000 non-null  float64\n",
      "dtypes: float64(5)\n",
      "memory usage: 2.7 MB\n"
     ]
    }
   ],
   "source": [
    "df_sample.info(verbose=True,memory_usage='deep')"
   ]
  },
  {
   "cell_type": "code",
   "execution_count": 48,
   "id": "a6aa094c",
   "metadata": {},
   "outputs": [],
   "source": [
    "dtype={\n",
    "    'Global_active_power':'float16','Global_reactive_power':'float16','Voltage':'float16','Global_intensity':'float16','meter':'float16'\n",
    "}"
   ]
  },
  {
   "cell_type": "code",
   "execution_count": 49,
   "id": "6a9c97ea",
   "metadata": {},
   "outputs": [
    {
     "data": {
      "text/plain": [
       "Index(['Global_active_power', 'Global_reactive_power', 'Voltage',\n",
       "       'Global_intensity', 'meter'],\n",
       "      dtype='object')"
      ]
     },
     "execution_count": 49,
     "metadata": {},
     "output_type": "execute_result"
    }
   ],
   "source": [
    "df_sample.columns"
   ]
  },
  {
   "cell_type": "code",
   "execution_count": 50,
   "id": "47532925",
   "metadata": {},
   "outputs": [
    {
     "data": {
      "text/html": [
       "<div>\n",
       "<style scoped>\n",
       "    .dataframe tbody tr th:only-of-type {\n",
       "        vertical-align: middle;\n",
       "    }\n",
       "\n",
       "    .dataframe tbody tr th {\n",
       "        vertical-align: top;\n",
       "    }\n",
       "\n",
       "    .dataframe thead th {\n",
       "        text-align: right;\n",
       "    }\n",
       "</style>\n",
       "<table border=\"1\" class=\"dataframe\">\n",
       "  <thead>\n",
       "    <tr style=\"text-align: right;\">\n",
       "      <th></th>\n",
       "      <th>Global_active_power</th>\n",
       "      <th>Global_reactive_power</th>\n",
       "      <th>Voltage</th>\n",
       "      <th>Global_intensity</th>\n",
       "      <th>meter</th>\n",
       "    </tr>\n",
       "  </thead>\n",
       "  <tbody>\n",
       "    <tr>\n",
       "      <th>159241</th>\n",
       "      <td>1.440430</td>\n",
       "      <td>0.109985</td>\n",
       "      <td>242.15</td>\n",
       "      <td>6.000000</td>\n",
       "      <td>1.0</td>\n",
       "    </tr>\n",
       "    <tr>\n",
       "      <th>1812965</th>\n",
       "      <td>1.288086</td>\n",
       "      <td>0.073975</td>\n",
       "      <td>239.12</td>\n",
       "      <td>5.398438</td>\n",
       "      <td>18.0</td>\n",
       "    </tr>\n",
       "    <tr>\n",
       "      <th>72147</th>\n",
       "      <td>1.898438</td>\n",
       "      <td>0.078003</td>\n",
       "      <td>234.19</td>\n",
       "      <td>8.000000</td>\n",
       "      <td>17.0</td>\n",
       "    </tr>\n",
       "    <tr>\n",
       "      <th>1231744</th>\n",
       "      <td>0.261963</td>\n",
       "      <td>0.000000</td>\n",
       "      <td>244.50</td>\n",
       "      <td>1.000000</td>\n",
       "      <td>0.0</td>\n",
       "    </tr>\n",
       "    <tr>\n",
       "      <th>274362</th>\n",
       "      <td>0.202026</td>\n",
       "      <td>0.081970</td>\n",
       "      <td>242.55</td>\n",
       "      <td>1.000000</td>\n",
       "      <td>0.0</td>\n",
       "    </tr>\n",
       "    <tr>\n",
       "      <th>...</th>\n",
       "      <td>...</td>\n",
       "      <td>...</td>\n",
       "      <td>...</td>\n",
       "      <td>...</td>\n",
       "      <td>...</td>\n",
       "    </tr>\n",
       "    <tr>\n",
       "      <th>1239757</th>\n",
       "      <td>1.845703</td>\n",
       "      <td>0.503906</td>\n",
       "      <td>240.34</td>\n",
       "      <td>7.800781</td>\n",
       "      <td>20.0</td>\n",
       "    </tr>\n",
       "    <tr>\n",
       "      <th>2004116</th>\n",
       "      <td>0.281982</td>\n",
       "      <td>0.065979</td>\n",
       "      <td>240.08</td>\n",
       "      <td>1.400391</td>\n",
       "      <td>1.0</td>\n",
       "    </tr>\n",
       "    <tr>\n",
       "      <th>1633723</th>\n",
       "      <td>0.374023</td>\n",
       "      <td>0.107971</td>\n",
       "      <td>246.13</td>\n",
       "      <td>1.599609</td>\n",
       "      <td>1.0</td>\n",
       "    </tr>\n",
       "    <tr>\n",
       "      <th>87635</th>\n",
       "      <td>0.261963</td>\n",
       "      <td>0.000000</td>\n",
       "      <td>241.53</td>\n",
       "      <td>1.200195</td>\n",
       "      <td>0.0</td>\n",
       "    </tr>\n",
       "    <tr>\n",
       "      <th>1001632</th>\n",
       "      <td>0.291992</td>\n",
       "      <td>0.000000</td>\n",
       "      <td>243.62</td>\n",
       "      <td>1.200195</td>\n",
       "      <td>0.0</td>\n",
       "    </tr>\n",
       "  </tbody>\n",
       "</table>\n",
       "<p>60000 rows × 5 columns</p>\n",
       "</div>"
      ],
      "text/plain": [
       "         Global_active_power  Global_reactive_power  Voltage  \\\n",
       "159241              1.440430               0.109985   242.15   \n",
       "1812965             1.288086               0.073975   239.12   \n",
       "72147               1.898438               0.078003   234.19   \n",
       "1231744             0.261963               0.000000   244.50   \n",
       "274362              0.202026               0.081970   242.55   \n",
       "...                      ...                    ...      ...   \n",
       "1239757             1.845703               0.503906   240.34   \n",
       "2004116             0.281982               0.065979   240.08   \n",
       "1633723             0.374023               0.107971   246.13   \n",
       "87635               0.261963               0.000000   241.53   \n",
       "1001632             0.291992               0.000000   243.62   \n",
       "\n",
       "         Global_intensity  meter  \n",
       "159241           6.000000    1.0  \n",
       "1812965          5.398438   18.0  \n",
       "72147            8.000000   17.0  \n",
       "1231744          1.000000    0.0  \n",
       "274362           1.000000    0.0  \n",
       "...                   ...    ...  \n",
       "1239757          7.800781   20.0  \n",
       "2004116          1.400391    1.0  \n",
       "1633723          1.599609    1.0  \n",
       "87635            1.200195    0.0  \n",
       "1001632          1.200195    0.0  \n",
       "\n",
       "[60000 rows x 5 columns]"
      ]
     },
     "execution_count": 50,
     "metadata": {},
     "output_type": "execute_result"
    }
   ],
   "source": [
    "df_sample = df_sample.astype({'Global_active_power':'float16', 'Global_reactive_power': 'float16', 'Global_intensity': 'float16','meter':'float16'})\n",
    "df_sample"
   ]
  },
  {
   "cell_type": "code",
   "execution_count": 51,
   "id": "d17f0b8d",
   "metadata": {},
   "outputs": [
    {
     "name": "stdout",
     "output_type": "stream",
     "text": [
      "<class 'pandas.core.frame.DataFrame'>\n",
      "Int64Index: 60000 entries, 159241 to 1001632\n",
      "Data columns (total 5 columns):\n",
      " #   Column                 Non-Null Count  Dtype  \n",
      "---  ------                 --------------  -----  \n",
      " 0   Global_active_power    60000 non-null  float16\n",
      " 1   Global_reactive_power  60000 non-null  float16\n",
      " 2   Voltage                60000 non-null  float64\n",
      " 3   Global_intensity       60000 non-null  float16\n",
      " 4   meter                  60000 non-null  float16\n",
      "dtypes: float16(4), float64(1)\n",
      "memory usage: 1.4 MB\n"
     ]
    }
   ],
   "source": [
    "df_sample.info(verbose=True,memory_usage='deep')"
   ]
  },
  {
   "cell_type": "markdown",
   "id": "7f93c55e",
   "metadata": {},
   "source": [
    "### <span style='color:Green'> Check the outliers </span>\n"
   ]
  },
  {
   "cell_type": "code",
   "execution_count": 52,
   "id": "437dcde1",
   "metadata": {},
   "outputs": [
    {
     "data": {
      "image/png": "[encoded data removed]",
      "text/plain": [
       "<Figure size 1080x1440 with 5 Axes>"
      ]
     },
     "metadata": {
      "needs_background": "light"
     },
     "output_type": "display_data"
    }
   ],
   "source": [
    "## Checking Outlier in Dataset\n",
    "plt.figure(figsize=(15,20))\n",
    "plt.suptitle(\"Boxplot of all features\", fontweight = 'bold', fontsize = 15,y = 0.989)\n",
    "for i in range(0,len(df_sample.columns)):\n",
    "    plt.subplot(5,3,i+1)\n",
    "    sns.boxplot(x = df_sample.columns[i], data = df_sample)\n",
    "    plt.xlabel(\"Boxplot of {}\".format(df_sample.columns[i]),fontsize = 15)\n",
    "    plt.tight_layout()"
   ]
  },
  {
   "cell_type": "code",
   "execution_count": 53,
   "id": "09341e12",
   "metadata": {},
   "outputs": [
    {
     "data": {
      "image/png": "[encoded data removed]",
      "text/plain": [
       "<Figure size 1008x288 with 2 Axes>"
      ]
     },
     "metadata": {},
     "output_type": "display_data"
    },
    {
     "data": {
      "image/png": "[encoded data removed]",
      "text/plain": [
       "<Figure size 1008x288 with 2 Axes>"
      ]
     },
     "metadata": {},
     "output_type": "display_data"
    },
    {
     "data": {
      "image/png": "[encoded data removed]",
      "text/plain": [
       "<Figure size 1008x288 with 2 Axes>"
      ]
     },
     "metadata": {},
     "output_type": "display_data"
    },
    {
     "data": {
      "image/png": "[encoded data removed]",
      "text/plain": [
       "<Figure size 1008x288 with 2 Axes>"
      ]
     },
     "metadata": {},
     "output_type": "display_data"
    },
    {
     "data": {
      "image/png": "[encoded data removed]",
      "text/plain": [
       "<Figure size 1008x288 with 2 Axes>"
      ]
     },
     "metadata": {},
     "output_type": "display_data"
    }
   ],
   "source": [
    "## Handling the outliers\n",
    "df1 = df_sample.copy()\n",
    "feature_to_use = df1.columns\n",
    "\n",
    "for i in range(len(feature_to_use)):\n",
    "    IQR = df1[feature_to_use[i]].quantile(0.75) - df1[feature_to_use[i]].quantile(0.25)\n",
    "    Lower_Limit = df1[feature_to_use[i]].quantile(0.25) - (1.5*IQR)\n",
    "    UPPER_LIMIT = df1[feature_to_use[i]].quantile(0.75) + (1.5*IQR)\n",
    "    df1[feature_to_use[i]]= np.where(df1[feature_to_use[i]]>UPPER_LIMIT,UPPER_LIMIT,\n",
    "                                np.where(df1[feature_to_use[i]]<Lower_Limit,Lower_Limit,df1[feature_to_use[i]]))\n",
    "\n",
    "\n",
    "for fea in feature_to_use:\n",
    "    plt.figure(figsize = (14,4),facecolor='pink')\n",
    "    plt.subplot(121)\n",
    "    sns.boxplot(x = fea, data = df_sample)\n",
    "    plt.title(\"Boxplot of {} before handling outliers\".format(fea),fontweight = 'bold')\n",
    "\n",
    "    plt.subplot(122)\n",
    "    sns.boxplot(x = fea, data = df1)\n",
    "    plt.title(\"Boxplot of {} After handling outliers\".format(fea),fontweight = 'bold')\n",
    "    plt.show()"
   ]
  },
  {
   "cell_type": "markdown",
   "id": "0e179c57",
   "metadata": {},
   "source": [
    "## <span style='color:Green'> Seperate Independent and Dependent Features </span>\n"
   ]
  },
  {
   "cell_type": "code",
   "execution_count": 54,
   "id": "836b8a4c",
   "metadata": {},
   "outputs": [],
   "source": [
    "x = df1.drop('meter', axis = 1)\n",
    "y = df1['meter']"
   ]
  },
  {
   "cell_type": "code",
   "execution_count": 55,
   "id": "a94deb35",
   "metadata": {},
   "outputs": [
    {
     "data": {
      "text/plain": [
       "((60000, 4), (60000,))"
      ]
     },
     "execution_count": 55,
     "metadata": {},
     "output_type": "execute_result"
    }
   ],
   "source": [
    "## Cheking Shape of x and y \n",
    "x.shape, y.shape"
   ]
  },
  {
   "cell_type": "markdown",
   "id": "6a27a92c",
   "metadata": {},
   "source": [
    "## <span style='color:Green'> Train Test Split </span>"
   ]
  },
  {
   "cell_type": "code",
   "execution_count": 56,
   "id": "ab946e36",
   "metadata": {},
   "outputs": [],
   "source": [
    "x_train,x_test,y_train,y_test = train_test_split(x,y,test_size = 0.33,random_state = 42 )"
   ]
  },
  {
   "cell_type": "code",
   "execution_count": 57,
   "id": "f7040084",
   "metadata": {},
   "outputs": [
    {
     "data": {
      "text/plain": [
       "((40200, 4), (40200,))"
      ]
     },
     "execution_count": 57,
     "metadata": {},
     "output_type": "execute_result"
    }
   ],
   "source": [
    "## Ckecking the shape of Training Data\n",
    "x_train.shape,y_train.shape"
   ]
  },
  {
   "cell_type": "code",
   "execution_count": 58,
   "id": "909f487e",
   "metadata": {},
   "outputs": [
    {
     "data": {
      "text/plain": [
       "((19800, 4), (19800,))"
      ]
     },
     "execution_count": 58,
     "metadata": {},
     "output_type": "execute_result"
    }
   ],
   "source": [
    "## Ckecking the shape of Testing Data\n",
    "x_test.shape,y_test.shape"
   ]
  },
  {
   "cell_type": "markdown",
   "id": "82354ffd",
   "metadata": {},
   "source": [
    "## <span style='color:Green'> Standardization </span>\n"
   ]
  },
  {
   "cell_type": "code",
   "execution_count": 59,
   "id": "ffa6071d",
   "metadata": {},
   "outputs": [],
   "source": [
    "scaler = StandardScaler()\n",
    "x_train = scaler.fit_transform(x_train)\n",
    "x_test = scaler.fit_transform(x_test)"
   ]
  },
  {
   "cell_type": "markdown",
   "id": "3162df7a",
   "metadata": {},
   "source": [
    "# <span style='color:red'> Model Building </span>"
   ]
  },
  {
   "cell_type": "code",
   "execution_count": 60,
   "id": "02dc7d4c",
   "metadata": {},
   "outputs": [],
   "source": [
    "report = []"
   ]
  },
  {
   "cell_type": "code",
   "execution_count": 61,
   "id": "bd4a87b4",
   "metadata": {},
   "outputs": [
    {
     "data": {
      "text/html": [
       "<div>\n",
       "<style scoped>\n",
       "    .dataframe tbody tr th:only-of-type {\n",
       "        vertical-align: middle;\n",
       "    }\n",
       "\n",
       "    .dataframe tbody tr th {\n",
       "        vertical-align: top;\n",
       "    }\n",
       "\n",
       "    .dataframe thead th {\n",
       "        text-align: right;\n",
       "    }\n",
       "</style>\n",
       "<table border=\"1\" class=\"dataframe\">\n",
       "  <thead>\n",
       "    <tr style=\"text-align: right;\">\n",
       "      <th></th>\n",
       "      <th>model</th>\n",
       "      <th>Train Mean Squared Error</th>\n",
       "      <th>Test Mean Squared Error</th>\n",
       "      <th>Train Mean Absolute Error</th>\n",
       "      <th>Test Mean Absolute Error</th>\n",
       "      <th>Train R Sqaure</th>\n",
       "      <th>Test R Sqaure</th>\n",
       "      <th>Train Adj R Sqaure</th>\n",
       "      <th>Test Adj R Sqaure</th>\n",
       "    </tr>\n",
       "  </thead>\n",
       "  <tbody>\n",
       "    <tr>\n",
       "      <th>0</th>\n",
       "      <td>Linear Regression</td>\n",
       "      <td>38.184371</td>\n",
       "      <td>38.689576</td>\n",
       "      <td>4.111594</td>\n",
       "      <td>4.173313</td>\n",
       "      <td>0.698239</td>\n",
       "      <td>0.698989</td>\n",
       "      <td>0.698209</td>\n",
       "      <td>0.698928</td>\n",
       "    </tr>\n",
       "    <tr>\n",
       "      <th>1</th>\n",
       "      <td>Ridge Regression</td>\n",
       "      <td>38.185090</td>\n",
       "      <td>38.682349</td>\n",
       "      <td>4.110816</td>\n",
       "      <td>4.172206</td>\n",
       "      <td>0.698233</td>\n",
       "      <td>0.699045</td>\n",
       "      <td>0.698203</td>\n",
       "      <td>0.698984</td>\n",
       "    </tr>\n",
       "    <tr>\n",
       "      <th>2</th>\n",
       "      <td>Lasso Regression</td>\n",
       "      <td>40.091775</td>\n",
       "      <td>40.558827</td>\n",
       "      <td>4.383631</td>\n",
       "      <td>4.409859</td>\n",
       "      <td>0.683165</td>\n",
       "      <td>0.684446</td>\n",
       "      <td>0.683134</td>\n",
       "      <td>0.684382</td>\n",
       "    </tr>\n",
       "    <tr>\n",
       "      <th>3</th>\n",
       "      <td>ElasticNet Regression</td>\n",
       "      <td>44.549428</td>\n",
       "      <td>45.266857</td>\n",
       "      <td>4.938276</td>\n",
       "      <td>4.957391</td>\n",
       "      <td>0.647938</td>\n",
       "      <td>0.647817</td>\n",
       "      <td>0.647903</td>\n",
       "      <td>0.647746</td>\n",
       "    </tr>\n",
       "    <tr>\n",
       "      <th>4</th>\n",
       "      <td>Support Vector Regression</td>\n",
       "      <td>36.684317</td>\n",
       "      <td>36.628437</td>\n",
       "      <td>3.033578</td>\n",
       "      <td>3.086347</td>\n",
       "      <td>0.710093</td>\n",
       "      <td>0.715025</td>\n",
       "      <td>0.710065</td>\n",
       "      <td>0.714967</td>\n",
       "    </tr>\n",
       "    <tr>\n",
       "      <th>5</th>\n",
       "      <td>Decision Tree Regressor</td>\n",
       "      <td>0.625985</td>\n",
       "      <td>68.885116</td>\n",
       "      <td>0.047210</td>\n",
       "      <td>4.004116</td>\n",
       "      <td>0.995053</td>\n",
       "      <td>0.464063</td>\n",
       "      <td>0.995053</td>\n",
       "      <td>0.463955</td>\n",
       "    </tr>\n",
       "    <tr>\n",
       "      <th>6</th>\n",
       "      <td>Random Forest Regressor</td>\n",
       "      <td>5.053327</td>\n",
       "      <td>40.081623</td>\n",
       "      <td>1.129565</td>\n",
       "      <td>3.407302</td>\n",
       "      <td>0.960065</td>\n",
       "      <td>0.688159</td>\n",
       "      <td>0.960061</td>\n",
       "      <td>0.688096</td>\n",
       "    </tr>\n",
       "  </tbody>\n",
       "</table>\n",
       "</div>"
      ],
      "text/plain": [
       "                       model  Train Mean Squared Error   \\\n",
       "0          Linear Regression                  38.184371   \n",
       "1           Ridge Regression                  38.185090   \n",
       "2           Lasso Regression                  40.091775   \n",
       "3      ElasticNet Regression                  44.549428   \n",
       "4  Support Vector Regression                  36.684317   \n",
       "5    Decision Tree Regressor                   0.625985   \n",
       "6    Random Forest Regressor                   5.053327   \n",
       "\n",
       "   Test Mean Squared Error  Train Mean Absolute Error  \\\n",
       "0                38.689576                   4.111594   \n",
       "1                38.682349                   4.110816   \n",
       "2                40.558827                   4.383631   \n",
       "3                45.266857                   4.938276   \n",
       "4                36.628437                   3.033578   \n",
       "5                68.885116                   0.047210   \n",
       "6                40.081623                   1.129565   \n",
       "\n",
       "   Test Mean Absolute Error  Train R Sqaure  Test R Sqaure  \\\n",
       "0                  4.173313        0.698239       0.698989   \n",
       "1                  4.172206        0.698233       0.699045   \n",
       "2                  4.409859        0.683165       0.684446   \n",
       "3                  4.957391        0.647938       0.647817   \n",
       "4                  3.086347        0.710093       0.715025   \n",
       "5                  4.004116        0.995053       0.464063   \n",
       "6                  3.407302        0.960065       0.688159   \n",
       "\n",
       "   Train Adj R Sqaure  Test Adj R Sqaure  \n",
       "0            0.698209           0.698928  \n",
       "1            0.698203           0.698984  \n",
       "2            0.683134           0.684382  \n",
       "3            0.647903           0.647746  \n",
       "4            0.710065           0.714967  \n",
       "5            0.995053           0.463955  \n",
       "6            0.960061           0.688096  "
      ]
     },
     "execution_count": 61,
     "metadata": {},
     "output_type": "execute_result"
    }
   ],
   "source": [
    "models = {\n",
    "    \"Linear Regression\" : LinearRegression(),\n",
    "    \"Ridge Regression\" : Ridge(),\n",
    "    \"Lasso Regression\" : Lasso(),\n",
    "    \"ElasticNet Regression\" : ElasticNet(),\n",
    "    \"Support Vector Regression\" : SVR(),\n",
    "    \"Decision Tree Regressor\" : DecisionTreeRegressor(),\n",
    "    \"Random Forest Regressor\" : RandomForestRegressor()\n",
    "}\n",
    "\n",
    "for i in range(len(list(models))):\n",
    "    model = list(models.values())[i]\n",
    "    model.fit(x_train,y_train)   # Training Model\n",
    "\n",
    "    # Prediction\n",
    "    y_train_pred = model.predict(x_train)\n",
    "    y_test_pred = model.predict(x_test)\n",
    "\n",
    "    # Training Data perfomance Matrix\n",
    "    model_train_mse = mean_squared_error(y_train,y_train_pred)   # Calculate MSE\n",
    "    model_train_mae = mean_absolute_error(y_train,y_train_pred)  # Calculate MAE\n",
    "    model_train_r2 = r2_score(y_train,y_train_pred)              # Calculate 2 sqaure\n",
    "    model_train_ad_r2 = 1 - (1-model_train_r2)*(len(y_train)-1) / (len(y_train)- x_train.shape[1] - 1)\n",
    "\n",
    "    \n",
    "    # Test Data perfomance Matrix\n",
    "    model_test_mse = mean_squared_error(y_test,y_test_pred)   # Calculate MSE\n",
    "    model_test_mae = mean_absolute_error(y_test,y_test_pred)  # Calculate MAE\n",
    "    model_test_r2 = r2_score(y_test,y_test_pred)              # Calculate 2 sqaure\n",
    "    model_test_ad_r2 = 1 - (1-model_test_r2)*(len(y_test)-1) / (len(y_test)- x_test.shape[1] - 1)\n",
    "\n",
    "\n",
    "    report.append({\n",
    "                    \"model\" : (list(models.keys()))[i],\n",
    "                    'Train Mean Squared Error ' : model_train_mse,\n",
    "                    'Test Mean Squared Error' : model_test_mse,\n",
    "                    'Train Mean Absolute Error' : model_train_mae,\n",
    "                    'Test Mean Absolute Error' : model_test_mae,\n",
    "                    'Train R Sqaure' : model_train_r2,\n",
    "                    'Test R Sqaure' : model_test_r2,\n",
    "                    'Train Adj R Sqaure' : model_train_ad_r2,\n",
    "                    'Test Adj R Sqaure' : model_test_ad_r2\n",
    "    })\n",
    "\n",
    "all_model = pd.DataFrame(report)\n",
    "all_model"
   ]
  },
  {
   "cell_type": "markdown",
   "id": "159f8744",
   "metadata": {},
   "source": [
    "## <span style='color:Green'> Hyper-Parameter Tunning on RandomSearchCV </span>\n"
   ]
  },
  {
   "cell_type": "code",
   "execution_count": 62,
   "id": "fb2ef631",
   "metadata": {},
   "outputs": [],
   "source": [
    "Ran_param = {\n",
    "    \"max_depth\" : [5,8,15,None,10],\n",
    "    'max_features' : [3,'auto'],\n",
    "    'min_samples_split' : [2,8,15,20],\n",
    "    'n_estimators' : [50,100,200,500]\n",
    "}"
   ]
  },
  {
   "cell_type": "code",
   "execution_count": 63,
   "id": "adda97c8",
   "metadata": {},
   "outputs": [],
   "source": [
    "random = RandomizedSearchCV(estimator = RandomForestRegressor(),\n",
    "                   param_distributions = Ran_param,\n",
    "                   n_iter= 100,\n",
    "                   cv = 3,\n",
    "                   verbose = 2,\n",
    "                   n_jobs=-1)"
   ]
  },
  {
   "cell_type": "code",
   "execution_count": 64,
   "id": "65dec71d",
   "metadata": {},
   "outputs": [
    {
     "name": "stdout",
     "output_type": "stream",
     "text": [
      "Fitting 3 folds for each of 100 candidates, totalling 300 fits\n"
     ]
    },
    {
     "data": {
      "text/html": [
       "<style>#sk-container-id-1 {color: black;background-color: white;}#sk-container-id-1 pre{padding: 0;}#sk-container-id-1 div.sk-toggleable {background-color: white;}#sk-container-id-1 label.sk-toggleable__label {cursor: pointer;display: block;width: 100%;margin-bottom: 0;padding: 0.3em;box-sizing: border-box;text-align: center;}#sk-container-id-1 label.sk-toggleable__label-arrow:before {content: \"▸\";float: left;margin-right: 0.25em;color: #696969;}#sk-container-id-1 label.sk-toggleable__label-arrow:hover:before {color: black;}#sk-container-id-1 div.sk-estimator:hover label.sk-toggleable__label-arrow:before {color: black;}#sk-container-id-1 div.sk-toggleable__content {max-height: 0;max-width: 0;overflow: hidden;text-align: left;background-color: #f0f8ff;}#sk-container-id-1 div.sk-toggleable__content pre {margin: 0.2em;color: black;border-radius: 0.25em;background-color: #f0f8ff;}#sk-container-id-1 input.sk-toggleable__control:checked~div.sk-toggleable__content {max-height: 200px;max-width: 100%;overflow: auto;}#sk-container-id-1 input.sk-toggleable__control:checked~label.sk-toggleable__label-arrow:before {content: \"▾\";}#sk-container-id-1 div.sk-estimator input.sk-toggleable__control:checked~label.sk-toggleable__label {background-color: #d4ebff;}#sk-container-id-1 div.sk-label input.sk-toggleable__control:checked~label.sk-toggleable__label {background-color: #d4ebff;}#sk-container-id-1 input.sk-hidden--visually {border: 0;clip: rect(1px 1px 1px 1px);clip: rect(1px, 1px, 1px, 1px);height: 1px;margin: -1px;overflow: hidden;padding: 0;position: absolute;width: 1px;}#sk-container-id-1 div.sk-estimator {font-family: monospace;background-color: #f0f8ff;border: 1px dotted black;border-radius: 0.25em;box-sizing: border-box;margin-bottom: 0.5em;}#sk-container-id-1 div.sk-estimator:hover {background-color: #d4ebff;}#sk-container-id-1 div.sk-parallel-item::after {content: \"\";width: 100%;border-bottom: 1px solid gray;flex-grow: 1;}#sk-container-id-1 div.sk-label:hover label.sk-toggleable__label {background-color: #d4ebff;}#sk-container-id-1 div.sk-serial::before {content: \"\";position: absolute;border-left: 1px solid gray;box-sizing: border-box;top: 0;bottom: 0;left: 50%;z-index: 0;}#sk-container-id-1 div.sk-serial {display: flex;flex-direction: column;align-items: center;background-color: white;padding-right: 0.2em;padding-left: 0.2em;position: relative;}#sk-container-id-1 div.sk-item {position: relative;z-index: 1;}#sk-container-id-1 div.sk-parallel {display: flex;align-items: stretch;justify-content: center;background-color: white;position: relative;}#sk-container-id-1 div.sk-item::before, #sk-container-id-1 div.sk-parallel-item::before {content: \"\";position: absolute;border-left: 1px solid gray;box-sizing: border-box;top: 0;bottom: 0;left: 50%;z-index: -1;}#sk-container-id-1 div.sk-parallel-item {display: flex;flex-direction: column;z-index: 1;position: relative;background-color: white;}#sk-container-id-1 div.sk-parallel-item:first-child::after {align-self: flex-end;width: 50%;}#sk-container-id-1 div.sk-parallel-item:last-child::after {align-self: flex-start;width: 50%;}#sk-container-id-1 div.sk-parallel-item:only-child::after {width: 0;}#sk-container-id-1 div.sk-dashed-wrapped {border: 1px dashed gray;margin: 0 0.4em 0.5em 0.4em;box-sizing: border-box;padding-bottom: 0.4em;background-color: white;}#sk-container-id-1 div.sk-label label {font-family: monospace;font-weight: bold;display: inline-block;line-height: 1.2em;}#sk-container-id-1 div.sk-label-container {text-align: center;}#sk-container-id-1 div.sk-container {/* jupyter's `normalize.less` sets `[hidden] { display: none; }` but bootstrap.min.css set `[hidden] { display: none !important; }` so we also need the `!important` here to be able to override the default hidden behavior on the sphinx rendered scikit-learn.org. See: https://github.com/scikit-learn/scikit-learn/issues/21755 */display: inline-block !important;position: relative;}#sk-container-id-1 div.sk-text-repr-fallback {display: none;}</style><div id=\"sk-container-id-1\" class=\"sk-top-container\"><div class=\"sk-text-repr-fallback\"><pre>RandomizedSearchCV(cv=3, estimator=RandomForestRegressor(), n_iter=100,\n",
       "                   n_jobs=-1,\n",
       "                   param_distributions={&#x27;max_depth&#x27;: [5, 8, 15, None, 10],\n",
       "                                        &#x27;max_features&#x27;: [3, &#x27;auto&#x27;],\n",
       "                                        &#x27;min_samples_split&#x27;: [2, 8, 15, 20],\n",
       "                                        &#x27;n_estimators&#x27;: [50, 100, 200, 500]},\n",
       "                   verbose=2)</pre><b>In a Jupyter environment, please rerun this cell to show the HTML representation or trust the notebook. <br />On GitHub, the HTML representation is unable to render, please try loading this page with nbviewer.org.</b></div><div class=\"sk-container\" hidden><div class=\"sk-item sk-dashed-wrapped\"><div class=\"sk-label-container\"><div class=\"sk-label sk-toggleable\"><input class=\"sk-toggleable__control sk-hidden--visually\" id=\"sk-estimator-id-1\" type=\"checkbox\" ><label for=\"sk-estimator-id-1\" class=\"sk-toggleable__label sk-toggleable__label-arrow\">RandomizedSearchCV</label><div class=\"sk-toggleable__content\"><pre>RandomizedSearchCV(cv=3, estimator=RandomForestRegressor(), n_iter=100,\n",
       "                   n_jobs=-1,\n",
       "                   param_distributions={&#x27;max_depth&#x27;: [5, 8, 15, None, 10],\n",
       "                                        &#x27;max_features&#x27;: [3, &#x27;auto&#x27;],\n",
       "                                        &#x27;min_samples_split&#x27;: [2, 8, 15, 20],\n",
       "                                        &#x27;n_estimators&#x27;: [50, 100, 200, 500]},\n",
       "                   verbose=2)</pre></div></div></div><div class=\"sk-parallel\"><div class=\"sk-parallel-item\"><div class=\"sk-item\"><div class=\"sk-label-container\"><div class=\"sk-label sk-toggleable\"><input class=\"sk-toggleable__control sk-hidden--visually\" id=\"sk-estimator-id-2\" type=\"checkbox\" ><label for=\"sk-estimator-id-2\" class=\"sk-toggleable__label sk-toggleable__label-arrow\">estimator: RandomForestRegressor</label><div class=\"sk-toggleable__content\"><pre>RandomForestRegressor()</pre></div></div></div><div class=\"sk-serial\"><div class=\"sk-item\"><div class=\"sk-estimator sk-toggleable\"><input class=\"sk-toggleable__control sk-hidden--visually\" id=\"sk-estimator-id-3\" type=\"checkbox\" ><label for=\"sk-estimator-id-3\" class=\"sk-toggleable__label sk-toggleable__label-arrow\">RandomForestRegressor</label><div class=\"sk-toggleable__content\"><pre>RandomForestRegressor()</pre></div></div></div></div></div></div></div></div></div></div>"
      ],
      "text/plain": [
       "RandomizedSearchCV(cv=3, estimator=RandomForestRegressor(), n_iter=100,\n",
       "                   n_jobs=-1,\n",
       "                   param_distributions={'max_depth': [5, 8, 15, None, 10],\n",
       "                                        'max_features': [3, 'auto'],\n",
       "                                        'min_samples_split': [2, 8, 15, 20],\n",
       "                                        'n_estimators': [50, 100, 200, 500]},\n",
       "                   verbose=2)"
      ]
     },
     "execution_count": 64,
     "metadata": {},
     "output_type": "execute_result"
    }
   ],
   "source": [
    "random.fit(x_train,y_train)"
   ]
  },
  {
   "cell_type": "code",
   "execution_count": 65,
   "id": "cda27778",
   "metadata": {},
   "outputs": [
    {
     "data": {
      "text/plain": [
       "({'n_estimators': 500,\n",
       "  'min_samples_split': 20,\n",
       "  'max_features': 3,\n",
       "  'max_depth': 10},\n",
       " RandomForestRegressor(max_depth=10, max_features=3, min_samples_split=20,\n",
       "                       n_estimators=500))"
      ]
     },
     "execution_count": 65,
     "metadata": {},
     "output_type": "execute_result"
    }
   ],
   "source": [
    "random.best_params_,random.best_estimator_"
   ]
  },
  {
   "cell_type": "code",
   "execution_count": 66,
   "id": "5715036c",
   "metadata": {},
   "outputs": [
    {
     "name": "stdout",
     "output_type": "stream",
     "text": [
      "\n",
      "\n",
      "Hyperparameter tuning on random forest\n",
      "Model Performance For Training Data\n",
      "-Mean Squared Error : 26.390472\n",
      "-Mean Absolute Error : 2.8032\n",
      "-R Sqaure : 0.7914\n",
      "-Adj R Sqaure : 0.7914\n",
      "-----------------------------------------------------------------------\n",
      "Model Performance For Test Data\n",
      "-Mean Squared Error : 37.722583\n",
      "-Mean Absolute Error : 3.2970\n",
      "-R Sqaure : 0.7065\n",
      "-Adj R Sqaure : 0.7065\n"
     ]
    }
   ],
   "source": [
    "rf_best_para = RandomForestRegressor(max_depth=10, max_features=3, min_samples_split=20,\n",
    "                                    n_estimators=500)\n",
    "\n",
    "rf_best_para.fit(x_train,y_train)\n",
    "\n",
    "# make predictions\n",
    "rf_pred_train = rf_best_para.predict(x_train)\n",
    "rf_pred_test = rf_best_para.predict(x_test)\n",
    "\n",
    "# Training dataset performance matrix\n",
    "rf_train_mse = mean_squared_error(y_train,rf_pred_train)   # Calculate MSE\n",
    "rf_train_mae = mean_absolute_error(y_train,rf_pred_train)  # Calculate MAE\n",
    "rf_train_r2 = r2_score(y_train,rf_pred_train)              # Calculate 2 sqaure\n",
    "rf_train_ad_r2 = 1 - (1-rf_train_r2)*(len(y_train)-1) / (len(y_train)- x_train.shape[1] - 1)\n",
    "\n",
    "\n",
    "# Test Data perfomance Matrix\n",
    "rf_test_mse = mean_squared_error(y_test,rf_pred_test)   # Calculate MSE\n",
    "rf_test_mae = mean_absolute_error(y_test,rf_pred_test)  # Calculate MAE\n",
    "rf_test_r2 = r2_score(y_test,rf_pred_test)              # Calculate 2 sqaure\n",
    "rf_test_ad_r2 = 1 - (1-rf_test_r2)*(len(y_test)-1) / (len(y_test)- x_test.shape[1] - 1)\n",
    "\n",
    "print(\"\\n\")\n",
    "print(\"Hyperparameter tuning on random forest\")\n",
    "\n",
    "print(\"Model Performance For Training Data\")\n",
    "print(\"-Mean Squared Error : {:4f}\".format(rf_train_mse))\n",
    "print(\"-Mean Absolute Error : {:.4f}\".format(rf_train_mae))\n",
    "print(\"-R Sqaure : {:.4f}\".format(rf_train_r2))\n",
    "print(\"-Adj R Sqaure : {:.4f}\".format(rf_train_ad_r2))\n",
    "\n",
    "print(\"-----------------------------------------------------------------------\")\n",
    "\n",
    "print(\"Model Performance For Test Data\")\n",
    "print(\"-Mean Squared Error : {:4f}\".format(rf_test_mse))\n",
    "print(\"-Mean Absolute Error : {:.4f}\".format(rf_test_mae))\n",
    "print(\"-R Sqaure : {:.4f}\".format(rf_test_r2))\n",
    "print(\"-Adj R Sqaure : {:.4f}\".format(rf_test_ad_r2))"
   ]
  },
  {
   "cell_type": "code",
   "execution_count": 67,
   "id": "726d39d6",
   "metadata": {},
   "outputs": [
    {
     "data": {
      "text/html": [
       "<div>\n",
       "<style scoped>\n",
       "    .dataframe tbody tr th:only-of-type {\n",
       "        vertical-align: middle;\n",
       "    }\n",
       "\n",
       "    .dataframe tbody tr th {\n",
       "        vertical-align: top;\n",
       "    }\n",
       "\n",
       "    .dataframe thead th {\n",
       "        text-align: right;\n",
       "    }\n",
       "</style>\n",
       "<table border=\"1\" class=\"dataframe\">\n",
       "  <thead>\n",
       "    <tr style=\"text-align: right;\">\n",
       "      <th></th>\n",
       "      <th>model</th>\n",
       "      <th>Train Mean Squared Error</th>\n",
       "      <th>Test Mean Squared Error</th>\n",
       "      <th>Train Mean Absolute Error</th>\n",
       "      <th>Test Mean Absolute Error</th>\n",
       "      <th>Train R Sqaure</th>\n",
       "      <th>Test R Sqaure</th>\n",
       "      <th>Train Adj R Sqaure</th>\n",
       "      <th>Test Adj R Sqaure</th>\n",
       "    </tr>\n",
       "  </thead>\n",
       "  <tbody>\n",
       "    <tr>\n",
       "      <th>0</th>\n",
       "      <td>Hyper-Parameter Tunning on random forest</td>\n",
       "      <td>26.390472</td>\n",
       "      <td>37.722583</td>\n",
       "      <td>2.803181</td>\n",
       "      <td>3.296983</td>\n",
       "      <td>0.791443</td>\n",
       "      <td>0.706512</td>\n",
       "      <td>0.791422</td>\n",
       "      <td>0.706453</td>\n",
       "    </tr>\n",
       "  </tbody>\n",
       "</table>\n",
       "</div>"
      ],
      "text/plain": [
       "                                      model  Train Mean Squared Error   \\\n",
       "0  Hyper-Parameter Tunning on random forest                  26.390472   \n",
       "\n",
       "   Test Mean Squared Error  Train Mean Absolute Error  \\\n",
       "0                37.722583                   2.803181   \n",
       "\n",
       "   Test Mean Absolute Error  Train R Sqaure  Test R Sqaure  \\\n",
       "0                  3.296983        0.791443       0.706512   \n",
       "\n",
       "   Train Adj R Sqaure  Test Adj R Sqaure  \n",
       "0            0.791422           0.706453  "
      ]
     },
     "execution_count": 67,
     "metadata": {},
     "output_type": "execute_result"
    }
   ],
   "source": [
    "rf_record = []\n",
    "rf_record.append({\n",
    "                    \"model\" : \"Hyper-Parameter Tunning on random forest\",\n",
    "                    \"Train Mean Squared Error \" : rf_train_mse,\n",
    "                    \"Test Mean Squared Error\" : rf_test_mse,\n",
    "                    \"Train Mean Absolute Error\" : rf_train_mae,\n",
    "                    \"Test Mean Absolute Error\" : rf_test_mae,\n",
    "                    \"Train R Sqaure\" : rf_train_r2,\n",
    "                    \"Test R Sqaure\" : rf_test_r2,\n",
    "                    \"Train Adj R Sqaure\" : rf_train_ad_r2,\n",
    "                    \"Test Adj R Sqaure\" : rf_test_ad_r2\n",
    "                    })\n",
    "\n",
    "Hypertuned_rf = pd.DataFrame(rf_record)\n",
    "Hypertuned_rf"
   ]
  },
  {
   "cell_type": "markdown",
   "id": "1ac6dfba",
   "metadata": {},
   "source": [
    "## <span style='color:Green'> Bagging Regressor </span>\n"
   ]
  },
  {
   "cell_type": "code",
   "execution_count": 68,
   "id": "34e290f4",
   "metadata": {},
   "outputs": [
    {
     "data": {
      "text/html": [
       "<div>\n",
       "<style scoped>\n",
       "    .dataframe tbody tr th:only-of-type {\n",
       "        vertical-align: middle;\n",
       "    }\n",
       "\n",
       "    .dataframe tbody tr th {\n",
       "        vertical-align: top;\n",
       "    }\n",
       "\n",
       "    .dataframe thead th {\n",
       "        text-align: right;\n",
       "    }\n",
       "</style>\n",
       "<table border=\"1\" class=\"dataframe\">\n",
       "  <thead>\n",
       "    <tr style=\"text-align: right;\">\n",
       "      <th></th>\n",
       "      <th>model</th>\n",
       "      <th>Train Mean Squared Error</th>\n",
       "      <th>Test Mean Squared Error</th>\n",
       "      <th>Train Mean Absolute Error</th>\n",
       "      <th>Test Mean Absolute Error</th>\n",
       "      <th>Train R Sqaure</th>\n",
       "      <th>Test R Sqaure</th>\n",
       "      <th>Train Adj R Sqaure</th>\n",
       "      <th>Test Adj R Sqaure</th>\n",
       "    </tr>\n",
       "  </thead>\n",
       "  <tbody>\n",
       "    <tr>\n",
       "      <th>0</th>\n",
       "      <td>Bagging Regressor</td>\n",
       "      <td>5.055668</td>\n",
       "      <td>39.480348</td>\n",
       "      <td>1.129935</td>\n",
       "      <td>3.395015</td>\n",
       "      <td>0.960046</td>\n",
       "      <td>0.692837</td>\n",
       "      <td>0.960042</td>\n",
       "      <td>0.692775</td>\n",
       "    </tr>\n",
       "  </tbody>\n",
       "</table>\n",
       "</div>"
      ],
      "text/plain": [
       "               model  Train Mean Squared Error   Test Mean Squared Error  \\\n",
       "0  Bagging Regressor                   5.055668                39.480348   \n",
       "\n",
       "   Train Mean Absolute Error  Test Mean Absolute Error  Train R Sqaure  \\\n",
       "0                   1.129935                  3.395015        0.960046   \n",
       "\n",
       "   Test R Sqaure  Train Adj R Sqaure  Test Adj R Sqaure  \n",
       "0       0.692837            0.960042           0.692775  "
      ]
     },
     "execution_count": 68,
     "metadata": {},
     "output_type": "execute_result"
    }
   ],
   "source": [
    "report2 = []\n",
    "# Bagging using DecisionTreeRegressor\n",
    "dt_bag = BaggingRegressor(n_estimators=100)\n",
    "#If None, then the base estimator is a DecisionTreeRegressor.\n",
    "dt_bag.fit(x_train,y_train)\n",
    "\n",
    "# Make predictions\n",
    "train_pred_bag =dt_bag.predict(x_train)\n",
    "test_pred_bag = dt_bag.predict(x_test)\n",
    "\n",
    "# Training dataset performance matrix\n",
    "bag_train_mse = mean_squared_error(y_train,train_pred_bag)   # Calculate MSE\n",
    "bag_train_mae = mean_absolute_error(y_train,train_pred_bag)  # Calculate MAE\n",
    "bag_train_r2 = r2_score(y_train,train_pred_bag)              # Calculate 2 sqaure\n",
    "bag_train_ad_r2 = 1 - (1-bag_train_r2)*(len(y_train)-1) / (len(y_train)- x_train.shape[1] - 1)\n",
    "\n",
    "\n",
    "# Test Data perfomance Matrix\n",
    "bag_test_mse = mean_squared_error(y_test,test_pred_bag)   # Calculate MSE\n",
    "bag_test_mae = mean_absolute_error(y_test,test_pred_bag)  # Calculate MAE\n",
    "bag_test_r2 = r2_score(y_test,test_pred_bag)              # Calculate 2 sqaure\n",
    "bag_test_ad_r2 = 1 - (1-bag_test_r2)*(len(y_test)-1) / (len(y_test)- x_test.shape[1] - 1)\n",
    "\n",
    "\n",
    "\n",
    "report2.append({\n",
    "                \"model\" : 'Bagging Regressor',\n",
    "                'Train Mean Squared Error ' : bag_train_mse,\n",
    "                'Test Mean Squared Error' : bag_test_mse,\n",
    "                'Train Mean Absolute Error' : bag_train_mae,\n",
    "                'Test Mean Absolute Error' : bag_test_mae,\n",
    "                'Train R Sqaure' : bag_train_r2,\n",
    "                'Test R Sqaure' : bag_test_r2,\n",
    "                'Train Adj R Sqaure' : bag_train_ad_r2,\n",
    "                'Test Adj R Sqaure' : bag_test_ad_r2\n",
    "})\n",
    "\n",
    "Bagging_report = pd.DataFrame(report2)\n",
    "Bagging_report"
   ]
  },
  {
   "cell_type": "markdown",
   "id": "726950b0",
   "metadata": {},
   "source": [
    "## <span style='color:Green'> Hyper-parameter tunning of bagging regressor </span>\n"
   ]
  },
  {
   "cell_type": "code",
   "execution_count": 69,
   "id": "902c8dc8",
   "metadata": {},
   "outputs": [],
   "source": [
    "bag_param = {\n",
    "            'n_estimators' : [50,100,200,500],\n",
    "            'max_samples' : range(2,5,1),\n",
    "            'max_features' : [2,3]\n",
    "}"
   ]
  },
  {
   "cell_type": "code",
   "execution_count": 70,
   "id": "38a5ab44",
   "metadata": {},
   "outputs": [],
   "source": [
    "bag_ran_search = RandomizedSearchCV(estimator=dt_bag, \n",
    "                    param_distributions= bag_param, \n",
    "                    n_iter=100,\n",
    "                    n_jobs=-1,\n",
    "                    cv = 3,\n",
    "                    verbose= 2\n",
    "                    )"
   ]
  },
  {
   "cell_type": "code",
   "execution_count": 71,
   "id": "cae36776",
   "metadata": {},
   "outputs": [
    {
     "name": "stdout",
     "output_type": "stream",
     "text": [
      "Fitting 3 folds for each of 24 candidates, totalling 72 fits\n"
     ]
    },
    {
     "data": {
      "text/html": [
       "<style>#sk-container-id-2 {color: black;background-color: white;}#sk-container-id-2 pre{padding: 0;}#sk-container-id-2 div.sk-toggleable {background-color: white;}#sk-container-id-2 label.sk-toggleable__label {cursor: pointer;display: block;width: 100%;margin-bottom: 0;padding: 0.3em;box-sizing: border-box;text-align: center;}#sk-container-id-2 label.sk-toggleable__label-arrow:before {content: \"▸\";float: left;margin-right: 0.25em;color: #696969;}#sk-container-id-2 label.sk-toggleable__label-arrow:hover:before {color: black;}#sk-container-id-2 div.sk-estimator:hover label.sk-toggleable__label-arrow:before {color: black;}#sk-container-id-2 div.sk-toggleable__content {max-height: 0;max-width: 0;overflow: hidden;text-align: left;background-color: #f0f8ff;}#sk-container-id-2 div.sk-toggleable__content pre {margin: 0.2em;color: black;border-radius: 0.25em;background-color: #f0f8ff;}#sk-container-id-2 input.sk-toggleable__control:checked~div.sk-toggleable__content {max-height: 200px;max-width: 100%;overflow: auto;}#sk-container-id-2 input.sk-toggleable__control:checked~label.sk-toggleable__label-arrow:before {content: \"▾\";}#sk-container-id-2 div.sk-estimator input.sk-toggleable__control:checked~label.sk-toggleable__label {background-color: #d4ebff;}#sk-container-id-2 div.sk-label input.sk-toggleable__control:checked~label.sk-toggleable__label {background-color: #d4ebff;}#sk-container-id-2 input.sk-hidden--visually {border: 0;clip: rect(1px 1px 1px 1px);clip: rect(1px, 1px, 1px, 1px);height: 1px;margin: -1px;overflow: hidden;padding: 0;position: absolute;width: 1px;}#sk-container-id-2 div.sk-estimator {font-family: monospace;background-color: #f0f8ff;border: 1px dotted black;border-radius: 0.25em;box-sizing: border-box;margin-bottom: 0.5em;}#sk-container-id-2 div.sk-estimator:hover {background-color: #d4ebff;}#sk-container-id-2 div.sk-parallel-item::after {content: \"\";width: 100%;border-bottom: 1px solid gray;flex-grow: 1;}#sk-container-id-2 div.sk-label:hover label.sk-toggleable__label {background-color: #d4ebff;}#sk-container-id-2 div.sk-serial::before {content: \"\";position: absolute;border-left: 1px solid gray;box-sizing: border-box;top: 0;bottom: 0;left: 50%;z-index: 0;}#sk-container-id-2 div.sk-serial {display: flex;flex-direction: column;align-items: center;background-color: white;padding-right: 0.2em;padding-left: 0.2em;position: relative;}#sk-container-id-2 div.sk-item {position: relative;z-index: 1;}#sk-container-id-2 div.sk-parallel {display: flex;align-items: stretch;justify-content: center;background-color: white;position: relative;}#sk-container-id-2 div.sk-item::before, #sk-container-id-2 div.sk-parallel-item::before {content: \"\";position: absolute;border-left: 1px solid gray;box-sizing: border-box;top: 0;bottom: 0;left: 50%;z-index: -1;}#sk-container-id-2 div.sk-parallel-item {display: flex;flex-direction: column;z-index: 1;position: relative;background-color: white;}#sk-container-id-2 div.sk-parallel-item:first-child::after {align-self: flex-end;width: 50%;}#sk-container-id-2 div.sk-parallel-item:last-child::after {align-self: flex-start;width: 50%;}#sk-container-id-2 div.sk-parallel-item:only-child::after {width: 0;}#sk-container-id-2 div.sk-dashed-wrapped {border: 1px dashed gray;margin: 0 0.4em 0.5em 0.4em;box-sizing: border-box;padding-bottom: 0.4em;background-color: white;}#sk-container-id-2 div.sk-label label {font-family: monospace;font-weight: bold;display: inline-block;line-height: 1.2em;}#sk-container-id-2 div.sk-label-container {text-align: center;}#sk-container-id-2 div.sk-container {/* jupyter's `normalize.less` sets `[hidden] { display: none; }` but bootstrap.min.css set `[hidden] { display: none !important; }` so we also need the `!important` here to be able to override the default hidden behavior on the sphinx rendered scikit-learn.org. See: https://github.com/scikit-learn/scikit-learn/issues/21755 */display: inline-block !important;position: relative;}#sk-container-id-2 div.sk-text-repr-fallback {display: none;}</style><div id=\"sk-container-id-2\" class=\"sk-top-container\"><div class=\"sk-text-repr-fallback\"><pre>RandomizedSearchCV(cv=3, estimator=BaggingRegressor(n_estimators=100),\n",
       "                   n_iter=100, n_jobs=-1,\n",
       "                   param_distributions={&#x27;max_features&#x27;: [2, 3],\n",
       "                                        &#x27;max_samples&#x27;: range(2, 5),\n",
       "                                        &#x27;n_estimators&#x27;: [50, 100, 200, 500]},\n",
       "                   verbose=2)</pre><b>In a Jupyter environment, please rerun this cell to show the HTML representation or trust the notebook. <br />On GitHub, the HTML representation is unable to render, please try loading this page with nbviewer.org.</b></div><div class=\"sk-container\" hidden><div class=\"sk-item sk-dashed-wrapped\"><div class=\"sk-label-container\"><div class=\"sk-label sk-toggleable\"><input class=\"sk-toggleable__control sk-hidden--visually\" id=\"sk-estimator-id-4\" type=\"checkbox\" ><label for=\"sk-estimator-id-4\" class=\"sk-toggleable__label sk-toggleable__label-arrow\">RandomizedSearchCV</label><div class=\"sk-toggleable__content\"><pre>RandomizedSearchCV(cv=3, estimator=BaggingRegressor(n_estimators=100),\n",
       "                   n_iter=100, n_jobs=-1,\n",
       "                   param_distributions={&#x27;max_features&#x27;: [2, 3],\n",
       "                                        &#x27;max_samples&#x27;: range(2, 5),\n",
       "                                        &#x27;n_estimators&#x27;: [50, 100, 200, 500]},\n",
       "                   verbose=2)</pre></div></div></div><div class=\"sk-parallel\"><div class=\"sk-parallel-item\"><div class=\"sk-item\"><div class=\"sk-label-container\"><div class=\"sk-label sk-toggleable\"><input class=\"sk-toggleable__control sk-hidden--visually\" id=\"sk-estimator-id-5\" type=\"checkbox\" ><label for=\"sk-estimator-id-5\" class=\"sk-toggleable__label sk-toggleable__label-arrow\">estimator: BaggingRegressor</label><div class=\"sk-toggleable__content\"><pre>BaggingRegressor(n_estimators=100)</pre></div></div></div><div class=\"sk-serial\"><div class=\"sk-item\"><div class=\"sk-estimator sk-toggleable\"><input class=\"sk-toggleable__control sk-hidden--visually\" id=\"sk-estimator-id-6\" type=\"checkbox\" ><label for=\"sk-estimator-id-6\" class=\"sk-toggleable__label sk-toggleable__label-arrow\">BaggingRegressor</label><div class=\"sk-toggleable__content\"><pre>BaggingRegressor(n_estimators=100)</pre></div></div></div></div></div></div></div></div></div></div>"
      ],
      "text/plain": [
       "RandomizedSearchCV(cv=3, estimator=BaggingRegressor(n_estimators=100),\n",
       "                   n_iter=100, n_jobs=-1,\n",
       "                   param_distributions={'max_features': [2, 3],\n",
       "                                        'max_samples': range(2, 5),\n",
       "                                        'n_estimators': [50, 100, 200, 500]},\n",
       "                   verbose=2)"
      ]
     },
     "execution_count": 71,
     "metadata": {},
     "output_type": "execute_result"
    }
   ],
   "source": [
    "bag_ran_search.fit(x_train,y_train)"
   ]
  },
  {
   "cell_type": "code",
   "execution_count": 72,
   "id": "c4d5dde4",
   "metadata": {},
   "outputs": [
    {
     "data": {
      "text/plain": [
       "({'n_estimators': 100, 'max_samples': 4, 'max_features': 3},\n",
       " BaggingRegressor(max_features=3, max_samples=4, n_estimators=100))"
      ]
     },
     "execution_count": 72,
     "metadata": {},
     "output_type": "execute_result"
    }
   ],
   "source": [
    "bag_ran_search.best_params_,bag_ran_search.best_estimator_"
   ]
  },
  {
   "cell_type": "code",
   "execution_count": 73,
   "id": "c6aad068",
   "metadata": {},
   "outputs": [
    {
     "name": "stdout",
     "output_type": "stream",
     "text": [
      "Hyperparameter tunning of Bagging Regressor\n",
      "Model Performance For Training Data\n",
      "-Mean Squared Error : 40.756357\n",
      "-Mean Absolute Error : 3.8433\n",
      "-R Sqaure : 0.6779\n",
      "-Adj R Sqaure : 0.6779\n",
      "-----------------------------------------------------------------------\n",
      "Model Performance For Test Data\n",
      "-Mean Squared Error : 41.400473\n",
      "-Mean Absolute Error : 3.8962\n",
      "-R Sqaure : 0.6779\n",
      "-Adj R Sqaure : 0.6778\n"
     ]
    }
   ],
   "source": [
    "bag_model_hyp =  BaggingRegressor(max_features=4, max_samples=10, n_estimators=50)\n",
    "bag_model_hyp.fit(x_train,y_train)\n",
    "\n",
    "# Make predictions\n",
    "train_pred_baghyp =bag_model_hyp.predict(x_train)\n",
    "test_pred_baghyp = bag_model_hyp.predict(x_test)\n",
    "\n",
    "# Training dataset performance matrix\n",
    "baghy_train_mse = mean_squared_error(y_train,train_pred_baghyp)   # Calculate MSE\n",
    "baghy_train_mae = mean_absolute_error(y_train,train_pred_baghyp)  # Calculate MAE\n",
    "baghy_train_r2 = r2_score(y_train,train_pred_baghyp)              # Calculate 2 sqaure\n",
    "baghy_train_ad_r2 = 1 - (1-baghy_train_r2)*(len(y_train)-1) / (len(y_train)- x_train.shape[1] - 1)\n",
    "\n",
    "# Test Data perfomance Matrix\n",
    "baghy_test_mse = mean_squared_error(y_test,test_pred_baghyp)   # Calculate MSE\n",
    "baghy_test_mae = mean_absolute_error(y_test,test_pred_baghyp)  # Calculate MAE\n",
    "baghy_test_r2 = r2_score(y_test,test_pred_baghyp)              # Calculate 2 sqaure\n",
    "baghy_test_ad_r2 = 1 - (1-baghy_test_r2)*(len(y_test)-1) / (len(y_test)- x_test.shape[1] - 1)\n",
    "\n",
    "print(\"Hyperparameter tunning of Bagging Regressor\")\n",
    "\n",
    "print(\"Model Performance For Training Data\")\n",
    "print(\"-Mean Squared Error : {:4f}\".format(baghy_train_mse))\n",
    "print(\"-Mean Absolute Error : {:.4f}\".format(baghy_train_mae))\n",
    "print(\"-R Sqaure : {:.4f}\".format(baghy_train_r2))\n",
    "print(\"-Adj R Sqaure : {:.4f}\".format(baghy_train_ad_r2))\n",
    "\n",
    "print(\"-----------------------------------------------------------------------\")\n",
    "\n",
    "print(\"Model Performance For Test Data\")\n",
    "print(\"-Mean Squared Error : {:4f}\".format(baghy_test_mse))\n",
    "print(\"-Mean Absolute Error : {:.4f}\".format(baghy_test_mae))\n",
    "print(\"-R Sqaure : {:.4f}\".format(baghy_test_r2))\n",
    "print(\"-Adj R Sqaure : {:.4f}\".format(baghy_test_ad_r2))\n"
   ]
  },
  {
   "cell_type": "code",
   "execution_count": 74,
   "id": "4ef42081",
   "metadata": {},
   "outputs": [
    {
     "data": {
      "text/html": [
       "<div>\n",
       "<style scoped>\n",
       "    .dataframe tbody tr th:only-of-type {\n",
       "        vertical-align: middle;\n",
       "    }\n",
       "\n",
       "    .dataframe tbody tr th {\n",
       "        vertical-align: top;\n",
       "    }\n",
       "\n",
       "    .dataframe thead th {\n",
       "        text-align: right;\n",
       "    }\n",
       "</style>\n",
       "<table border=\"1\" class=\"dataframe\">\n",
       "  <thead>\n",
       "    <tr style=\"text-align: right;\">\n",
       "      <th></th>\n",
       "      <th>model</th>\n",
       "      <th>Train Mean Squared Error</th>\n",
       "      <th>Test Mean Squared Error</th>\n",
       "      <th>Train Mean Absolute Error</th>\n",
       "      <th>Test Mean Absolute Error</th>\n",
       "      <th>Train R Sqaure</th>\n",
       "      <th>Test R Sqaure</th>\n",
       "      <th>Train Adj R Sqaure</th>\n",
       "      <th>Test Adj R Sqaure</th>\n",
       "    </tr>\n",
       "  </thead>\n",
       "  <tbody>\n",
       "    <tr>\n",
       "      <th>0</th>\n",
       "      <td>Hyper-Parameter Tunning on Bagging Regressor</td>\n",
       "      <td>40.756357</td>\n",
       "      <td>41.400473</td>\n",
       "      <td>3.843293</td>\n",
       "      <td>3.896239</td>\n",
       "      <td>0.677913</td>\n",
       "      <td>0.677898</td>\n",
       "      <td>0.677881</td>\n",
       "      <td>0.677833</td>\n",
       "    </tr>\n",
       "  </tbody>\n",
       "</table>\n",
       "</div>"
      ],
      "text/plain": [
       "                                          model  Train Mean Squared Error   \\\n",
       "0  Hyper-Parameter Tunning on Bagging Regressor                  40.756357   \n",
       "\n",
       "   Test Mean Squared Error  Train Mean Absolute Error  \\\n",
       "0                41.400473                   3.843293   \n",
       "\n",
       "   Test Mean Absolute Error  Train R Sqaure  Test R Sqaure  \\\n",
       "0                  3.896239        0.677913       0.677898   \n",
       "\n",
       "   Train Adj R Sqaure  Test Adj R Sqaure  \n",
       "0            0.677881           0.677833  "
      ]
     },
     "execution_count": 74,
     "metadata": {},
     "output_type": "execute_result"
    }
   ],
   "source": [
    "bag_record = []\n",
    "bag_record.append({\n",
    "                    \"model\" : \"Hyper-Parameter Tunning on Bagging Regressor\",\n",
    "                    \"Train Mean Squared Error \" : baghy_train_mse,\n",
    "                    \"Test Mean Squared Error\" : baghy_test_mse,\n",
    "                    \"Train Mean Absolute Error\" : baghy_train_mae,\n",
    "                    \"Test Mean Absolute Error\" : baghy_test_mae,\n",
    "                    \"Train R Sqaure\" : baghy_train_r2,\n",
    "                    \"Test R Sqaure\" : baghy_test_r2,\n",
    "                    \"Train Adj R Sqaure\" : baghy_train_ad_r2,\n",
    "                    \"Test Adj R Sqaure\" : baghy_test_ad_r2\n",
    "                    })\n",
    "\n",
    "Hypertuned_bag = pd.DataFrame(bag_record)\n",
    "Hypertuned_bag"
   ]
  },
  {
   "cell_type": "markdown",
   "id": "6b0853b1",
   "metadata": {},
   "source": [
    "### <span style='color:red'> Summary </span>\n",
    "\n",
    "- Accuracy report of all columns"
   ]
  },
  {
   "cell_type": "code",
   "execution_count": 75,
   "id": "d7161a4a",
   "metadata": {},
   "outputs": [
    {
     "data": {
      "text/html": [
       "<div>\n",
       "<style scoped>\n",
       "    .dataframe tbody tr th:only-of-type {\n",
       "        vertical-align: middle;\n",
       "    }\n",
       "\n",
       "    .dataframe tbody tr th {\n",
       "        vertical-align: top;\n",
       "    }\n",
       "\n",
       "    .dataframe thead th {\n",
       "        text-align: right;\n",
       "    }\n",
       "</style>\n",
       "<table border=\"1\" class=\"dataframe\">\n",
       "  <thead>\n",
       "    <tr style=\"text-align: right;\">\n",
       "      <th></th>\n",
       "      <th>model</th>\n",
       "      <th>Train Mean Squared Error</th>\n",
       "      <th>Test Mean Squared Error</th>\n",
       "      <th>Train Mean Absolute Error</th>\n",
       "      <th>Test Mean Absolute Error</th>\n",
       "      <th>Train R Sqaure</th>\n",
       "      <th>Test R Sqaure</th>\n",
       "      <th>Train Adj R Sqaure</th>\n",
       "      <th>Test Adj R Sqaure</th>\n",
       "    </tr>\n",
       "  </thead>\n",
       "  <tbody>\n",
       "    <tr>\n",
       "      <th>4</th>\n",
       "      <td>Support Vector Regression</td>\n",
       "      <td>36.684317</td>\n",
       "      <td>36.628437</td>\n",
       "      <td>3.033578</td>\n",
       "      <td>3.086347</td>\n",
       "      <td>0.710093</td>\n",
       "      <td>0.715025</td>\n",
       "      <td>0.710065</td>\n",
       "      <td>0.714967</td>\n",
       "    </tr>\n",
       "    <tr>\n",
       "      <th>8</th>\n",
       "      <td>Hyper-Parameter Tunning on random forest</td>\n",
       "      <td>26.390472</td>\n",
       "      <td>37.722583</td>\n",
       "      <td>2.803181</td>\n",
       "      <td>3.296983</td>\n",
       "      <td>0.791443</td>\n",
       "      <td>0.706512</td>\n",
       "      <td>0.791422</td>\n",
       "      <td>0.706453</td>\n",
       "    </tr>\n",
       "    <tr>\n",
       "      <th>1</th>\n",
       "      <td>Ridge Regression</td>\n",
       "      <td>38.185090</td>\n",
       "      <td>38.682349</td>\n",
       "      <td>4.110816</td>\n",
       "      <td>4.172206</td>\n",
       "      <td>0.698233</td>\n",
       "      <td>0.699045</td>\n",
       "      <td>0.698203</td>\n",
       "      <td>0.698984</td>\n",
       "    </tr>\n",
       "    <tr>\n",
       "      <th>0</th>\n",
       "      <td>Linear Regression</td>\n",
       "      <td>38.184371</td>\n",
       "      <td>38.689576</td>\n",
       "      <td>4.111594</td>\n",
       "      <td>4.173313</td>\n",
       "      <td>0.698239</td>\n",
       "      <td>0.698989</td>\n",
       "      <td>0.698209</td>\n",
       "      <td>0.698928</td>\n",
       "    </tr>\n",
       "    <tr>\n",
       "      <th>7</th>\n",
       "      <td>Bagging Regressor</td>\n",
       "      <td>5.055668</td>\n",
       "      <td>39.480348</td>\n",
       "      <td>1.129935</td>\n",
       "      <td>3.395015</td>\n",
       "      <td>0.960046</td>\n",
       "      <td>0.692837</td>\n",
       "      <td>0.960042</td>\n",
       "      <td>0.692775</td>\n",
       "    </tr>\n",
       "    <tr>\n",
       "      <th>6</th>\n",
       "      <td>Random Forest Regressor</td>\n",
       "      <td>5.053327</td>\n",
       "      <td>40.081623</td>\n",
       "      <td>1.129565</td>\n",
       "      <td>3.407302</td>\n",
       "      <td>0.960065</td>\n",
       "      <td>0.688159</td>\n",
       "      <td>0.960061</td>\n",
       "      <td>0.688096</td>\n",
       "    </tr>\n",
       "    <tr>\n",
       "      <th>2</th>\n",
       "      <td>Lasso Regression</td>\n",
       "      <td>40.091775</td>\n",
       "      <td>40.558827</td>\n",
       "      <td>4.383631</td>\n",
       "      <td>4.409859</td>\n",
       "      <td>0.683165</td>\n",
       "      <td>0.684446</td>\n",
       "      <td>0.683134</td>\n",
       "      <td>0.684382</td>\n",
       "    </tr>\n",
       "    <tr>\n",
       "      <th>9</th>\n",
       "      <td>Hyper-Parameter Tunning on Bagging Regressor</td>\n",
       "      <td>40.756357</td>\n",
       "      <td>41.400473</td>\n",
       "      <td>3.843293</td>\n",
       "      <td>3.896239</td>\n",
       "      <td>0.677913</td>\n",
       "      <td>0.677898</td>\n",
       "      <td>0.677881</td>\n",
       "      <td>0.677833</td>\n",
       "    </tr>\n",
       "    <tr>\n",
       "      <th>3</th>\n",
       "      <td>ElasticNet Regression</td>\n",
       "      <td>44.549428</td>\n",
       "      <td>45.266857</td>\n",
       "      <td>4.938276</td>\n",
       "      <td>4.957391</td>\n",
       "      <td>0.647938</td>\n",
       "      <td>0.647817</td>\n",
       "      <td>0.647903</td>\n",
       "      <td>0.647746</td>\n",
       "    </tr>\n",
       "    <tr>\n",
       "      <th>5</th>\n",
       "      <td>Decision Tree Regressor</td>\n",
       "      <td>0.625985</td>\n",
       "      <td>68.885116</td>\n",
       "      <td>0.047210</td>\n",
       "      <td>4.004116</td>\n",
       "      <td>0.995053</td>\n",
       "      <td>0.464063</td>\n",
       "      <td>0.995053</td>\n",
       "      <td>0.463955</td>\n",
       "    </tr>\n",
       "  </tbody>\n",
       "</table>\n",
       "</div>"
      ],
      "text/plain": [
       "                                          model  Train Mean Squared Error   \\\n",
       "4                     Support Vector Regression                  36.684317   \n",
       "8      Hyper-Parameter Tunning on random forest                  26.390472   \n",
       "1                              Ridge Regression                  38.185090   \n",
       "0                             Linear Regression                  38.184371   \n",
       "7                             Bagging Regressor                   5.055668   \n",
       "6                       Random Forest Regressor                   5.053327   \n",
       "2                              Lasso Regression                  40.091775   \n",
       "9  Hyper-Parameter Tunning on Bagging Regressor                  40.756357   \n",
       "3                         ElasticNet Regression                  44.549428   \n",
       "5                       Decision Tree Regressor                   0.625985   \n",
       "\n",
       "   Test Mean Squared Error  Train Mean Absolute Error  \\\n",
       "4                36.628437                   3.033578   \n",
       "8                37.722583                   2.803181   \n",
       "1                38.682349                   4.110816   \n",
       "0                38.689576                   4.111594   \n",
       "7                39.480348                   1.129935   \n",
       "6                40.081623                   1.129565   \n",
       "2                40.558827                   4.383631   \n",
       "9                41.400473                   3.843293   \n",
       "3                45.266857                   4.938276   \n",
       "5                68.885116                   0.047210   \n",
       "\n",
       "   Test Mean Absolute Error  Train R Sqaure  Test R Sqaure  \\\n",
       "4                  3.086347        0.710093       0.715025   \n",
       "8                  3.296983        0.791443       0.706512   \n",
       "1                  4.172206        0.698233       0.699045   \n",
       "0                  4.173313        0.698239       0.698989   \n",
       "7                  3.395015        0.960046       0.692837   \n",
       "6                  3.407302        0.960065       0.688159   \n",
       "2                  4.409859        0.683165       0.684446   \n",
       "9                  3.896239        0.677913       0.677898   \n",
       "3                  4.957391        0.647938       0.647817   \n",
       "5                  4.004116        0.995053       0.464063   \n",
       "\n",
       "   Train Adj R Sqaure  Test Adj R Sqaure  \n",
       "4            0.710065           0.714967  \n",
       "8            0.791422           0.706453  \n",
       "1            0.698203           0.698984  \n",
       "0            0.698209           0.698928  \n",
       "7            0.960042           0.692775  \n",
       "6            0.960061           0.688096  \n",
       "2            0.683134           0.684382  \n",
       "9            0.677881           0.677833  \n",
       "3            0.647903           0.647746  \n",
       "5            0.995053           0.463955  "
      ]
     },
     "execution_count": 75,
     "metadata": {},
     "output_type": "execute_result"
    }
   ],
   "source": [
    "frames3 = [all_model,Bagging_report,Hypertuned_rf,Hypertuned_bag]\n",
    "all_records = pd.concat(frames3) \n",
    "all_records.reset_index(inplace=True)\n",
    "all_records.drop('index',axis = 1,inplace = True)\n",
    "all_records.sort_values(by = 'Test R Sqaure',ascending=False)"
   ]
  },
  {
   "cell_type": "markdown",
   "id": "327ccdc4",
   "metadata": {},
   "source": [
    "### <span style='color:Green'> Store the best model in pickle file </span>\n"
   ]
  },
  {
   "cell_type": "code",
   "execution_count": null,
   "id": "c7562cc9",
   "metadata": {},
   "outputs": [],
   "source": [
    "import pickle\n",
    "pickle.dump(, open('random_forest_hypertuned.sav','wb'))"
   ]
  },
  {
   "cell_type": "code",
   "execution_count": null,
   "id": "9f9a81a5",
   "metadata": {},
   "outputs": [],
   "source": []
  }
 ],
 "metadata": {
  "hide_input": false,
  "kernelspec": {
   "display_name": "Rajesh_3.10",
   "language": "python",
   "name": "rajesh_3.10"
  },
  "language_info": {
   "codemirror_mode": {
    "name": "ipython",
    "version": 3
   },
   "file_extension": ".py",
   "mimetype": "text/x-python",
   "name": "python",
   "nbconvert_exporter": "python",
   "pygments_lexer": "ipython3",
   "version": "3.10.4"
  },
  "nbTranslate": {
   "displayLangs": [
    "*"
   ],
   "hotkey": "alt-t",
   "langInMainMenu": true,
   "sourceLang": "en",
   "targetLang": "fr",
   "useGoogleTranslate": true
  },
  "toc": {
   "base_numbering": 1,
   "nav_menu": {},
   "number_sections": true,
   "sideBar": true,
   "skip_h1_title": false,
   "title_cell": "Table of Contents",
   "title_sidebar": "Contents",
   "toc_cell": false,
   "toc_position": {},
   "toc_section_display": true,
   "toc_window_display": false
  }
 },
 "nbformat": 4,
 "nbformat_minor": 5
}
